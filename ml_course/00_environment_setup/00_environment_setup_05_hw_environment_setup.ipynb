{
  "nbformat": 4,
  "nbformat_minor": 0,
  "metadata": {
    "kernelspec": {
      "display_name": "Python 3",
      "language": "python",
      "name": "python3"
    },
    "language_info": {
      "codemirror_mode": {
        "name": "ipython",
        "version": 3
      },
      "file_extension": ".py",
      "mimetype": "text/x-python",
      "name": "python",
      "nbconvert_exporter": "python",
      "pygments_lexer": "ipython3",
      "version": "3.8.1"
    },
    "colab": {
      "name": "00_environment_setup_05_hw_environment_setup.ipynb",
      "provenance": [],
      "collapsed_sections": []
    }
  },
  "cells": [
    {
      "cell_type": "markdown",
      "metadata": {
        "id": "ILnemgGRBO3g"
      },
      "source": [
        "# Домашнее задание по настройке окружения\n",
        "\n",
        "1. Установите Linux на свой компьютер, используя [инструкции из теории](01_linux/01_tt_linux_setup.md).\n",
        "2. Установите [Базовые программы](01_linux/03_tt_install_utils.md).\n",
        "3. Установите [python с помощью pyenv](03_python_setup/01_tt_pyenv.md).\n",
        "4. Установите пакеты через pip, как написано в [тут](03_python_setup/02_tt_pip.md).\n",
        "4. Получите доступ к вашему репозиторию в gitlab. Если для вас не появился репозиторий, то срочно уведомите преподавателя.\n",
        "5. Склонируйте к себе этот репозитоий. Там уже настроена базовая структура проекта. Дополнительно про струткуру python проекта читайте [тут](01_tt_project_structure.md).\n",
        "6. Создайте отдельную ветку `00_environment_setup`.\n",
        "7. Настройте gitignore, editorconfig, requirements файлы, как [в материалах](01_tt_project_structure.md).\n",
        "8. Скачайте этот файл и выполните все ячейки.\n",
        "9. Зафиксируйте все изменения и отправьте их на сервер, следуя [worflow](../WORKFLOW.md).\n",
        "\n",
        "Если вы собираетесь работать весь курс в google colab, то задание 1, 2, 3 не обязательные. Задание 4 и 8 надо делать в google colab.\n",
        "\n",
        "В гугл колабе пакеты ставятся через `!pip instal .... и тут пакеты ....`"
      ]
    },
    {
      "cell_type": "code",
      "metadata": {
        "id": "n15x6CrfBO3h",
        "outputId": "f3d4ed1e-d2ce-46e7-b1a5-f57a46b105f7",
        "colab": {
          "base_uri": "https://localhost:8080/",
          "height": 34
        }
      },
      "source": [
        "!which pip"
      ],
      "execution_count": 11,
      "outputs": [
        {
          "output_type": "stream",
          "text": [
            "/usr/local/bin/pip\n"
          ],
          "name": "stdout"
        }
      ]
    },
    {
      "cell_type": "code",
      "metadata": {
        "id": "Gn_kzs5yBO3s",
        "outputId": "0489a485-5d26-4b9a-ddcf-318aae832a7f",
        "colab": {
          "base_uri": "https://localhost:8080/",
          "height": 34
        }
      },
      "source": [
        "!which python"
      ],
      "execution_count": 12,
      "outputs": [
        {
          "output_type": "stream",
          "text": [
            "/usr/local/bin/python\n"
          ],
          "name": "stdout"
        }
      ]
    },
    {
      "cell_type": "code",
      "metadata": {
        "id": "4I5t98Q3BO31",
        "outputId": "d703e048-777f-44b7-8a1b-aa878357cfdc",
        "colab": {
          "base_uri": "https://localhost:8080/",
          "height": 34
        }
      },
      "source": [
        "!python --version"
      ],
      "execution_count": 13,
      "outputs": [
        {
          "output_type": "stream",
          "text": [
            "Python 3.6.9\n"
          ],
          "name": "stdout"
        }
      ]
    },
    {
      "cell_type": "code",
      "metadata": {
        "id": "VGws0BEEBO38"
      },
      "source": [
        "import numpy as np\n",
        "import pandas as pd\n",
        "import matplotlib\n",
        "import seaborn as sns\n",
        "import sklearn\n",
        "import IPython\n",
        "import PIL"
      ],
      "execution_count": 14,
      "outputs": []
    },
    {
      "cell_type": "code",
      "metadata": {
        "id": "HUzntC45BO4A",
        "outputId": "43578b26-3807-417a-d3e2-1cb7192be430",
        "colab": {
          "base_uri": "https://localhost:8080/",
          "height": 34
        }
      },
      "source": [
        "np.__version__"
      ],
      "execution_count": 15,
      "outputs": [
        {
          "output_type": "execute_result",
          "data": {
            "application/vnd.google.colaboratory.intrinsic+json": {
              "type": "string"
            },
            "text/plain": [
              "'1.18.5'"
            ]
          },
          "metadata": {
            "tags": []
          },
          "execution_count": 15
        }
      ]
    },
    {
      "cell_type": "code",
      "metadata": {
        "id": "EWgDBuz1BO4F",
        "outputId": "b7bba35f-d7c0-4a7c-e34c-a6e09bbce13a",
        "colab": {
          "base_uri": "https://localhost:8080/",
          "height": 34
        }
      },
      "source": [
        "pd.__version__"
      ],
      "execution_count": 16,
      "outputs": [
        {
          "output_type": "execute_result",
          "data": {
            "application/vnd.google.colaboratory.intrinsic+json": {
              "type": "string"
            },
            "text/plain": [
              "'1.0.5'"
            ]
          },
          "metadata": {
            "tags": []
          },
          "execution_count": 16
        }
      ]
    },
    {
      "cell_type": "code",
      "metadata": {
        "id": "4WvHHYusBO4M",
        "outputId": "97f330a2-7e7c-4200-e818-dd2368e749d6",
        "colab": {
          "base_uri": "https://localhost:8080/",
          "height": 34
        }
      },
      "source": [
        "matplotlib.__version__"
      ],
      "execution_count": 17,
      "outputs": [
        {
          "output_type": "execute_result",
          "data": {
            "application/vnd.google.colaboratory.intrinsic+json": {
              "type": "string"
            },
            "text/plain": [
              "'3.2.2'"
            ]
          },
          "metadata": {
            "tags": []
          },
          "execution_count": 17
        }
      ]
    },
    {
      "cell_type": "code",
      "metadata": {
        "id": "0dZ52qHHBO4U",
        "outputId": "95c8357b-636d-4e14-fb09-6a342ac65d07",
        "colab": {
          "base_uri": "https://localhost:8080/",
          "height": 34
        }
      },
      "source": [
        "sns.__version__"
      ],
      "execution_count": 18,
      "outputs": [
        {
          "output_type": "execute_result",
          "data": {
            "application/vnd.google.colaboratory.intrinsic+json": {
              "type": "string"
            },
            "text/plain": [
              "'0.10.1'"
            ]
          },
          "metadata": {
            "tags": []
          },
          "execution_count": 18
        }
      ]
    },
    {
      "cell_type": "code",
      "metadata": {
        "id": "ay5JOGTDBO4a",
        "outputId": "69f129e5-8029-4684-8fe3-c597e64f2d94",
        "colab": {
          "base_uri": "https://localhost:8080/",
          "height": 34
        }
      },
      "source": [
        "sklearn.__version__"
      ],
      "execution_count": 19,
      "outputs": [
        {
          "output_type": "execute_result",
          "data": {
            "application/vnd.google.colaboratory.intrinsic+json": {
              "type": "string"
            },
            "text/plain": [
              "'0.22.2.post1'"
            ]
          },
          "metadata": {
            "tags": []
          },
          "execution_count": 19
        }
      ]
    },
    {
      "cell_type": "code",
      "metadata": {
        "id": "oaSy1XXMBO4g",
        "outputId": "ae2845ff-10ac-4b2b-bff8-3723b7b81e8c",
        "colab": {
          "base_uri": "https://localhost:8080/",
          "height": 34
        }
      },
      "source": [
        "PIL.__version__"
      ],
      "execution_count": 20,
      "outputs": [
        {
          "output_type": "execute_result",
          "data": {
            "application/vnd.google.colaboratory.intrinsic+json": {
              "type": "string"
            },
            "text/plain": [
              "'7.0.0'"
            ]
          },
          "metadata": {
            "tags": []
          },
          "execution_count": 20
        }
      ]
    },
    {
      "cell_type": "code",
      "metadata": {
        "id": "xHo0yJtKBO4k",
        "outputId": "5a847b4c-60ec-46e4-868b-87af45dbbf4b",
        "colab": {
          "base_uri": "https://localhost:8080/",
          "height": 466
        }
      },
      "source": [
        "IPython.display.Image(\"https://i.imgur.com/1nN1uak.jpg\")"
      ],
      "execution_count": 21,
      "outputs": [
        {
          "output_type": "execute_result",
          "data": {
            "image/jpeg": "[encoded data removed]",
            "text/plain": [
              "<IPython.core.display.Image object>"
            ]
          },
          "metadata": {
            "tags": []
          },
          "execution_count": 21
        }
      ]
    },
    {
      "cell_type": "code",
      "metadata": {
        "id": "-BGY50a_BO4q"
      },
      "source": [
        ""
      ],
      "execution_count": 21,
      "outputs": []
    }
  ]
}