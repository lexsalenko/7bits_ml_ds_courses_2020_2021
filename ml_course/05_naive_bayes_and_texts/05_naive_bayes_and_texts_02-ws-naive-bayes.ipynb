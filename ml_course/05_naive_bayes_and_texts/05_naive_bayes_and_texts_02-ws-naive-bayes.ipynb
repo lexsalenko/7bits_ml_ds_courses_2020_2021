{
 "cells": [
  {
   "cell_type": "markdown",
   "metadata": {
    "id": "5iSqbWuBsygQ"
   },
   "source": [
    "# Теория 8. Наивный Байес и Классификация текстов\n",
    "\n",
    "### Полезная литература\n",
    "\n",
    "- [Naive Bayes and Text Classification](https://sebastianraschka.com/Articles/2014_naive_bayes_1.html)\n",
    "- [ODS - классификация](https://habrahabr.ru/company/ods/blog/322534/)\n",
    "- [Байесовский классификатор](http://www.machinelearning.ru/wiki/index.php?title=%D0%91%D0%B0%D0%B9%D0%B5%D1%81%D0%BE%D0%B2%D1%81%D0%BA%D0%B8%D0%B9_%D0%BA%D0%BB%D0%B0%D1%81%D1%81%D0%B8%D1%84%D0%B8%D0%BA%D0%B0%D1%82%D0%BE%D1%80)\n",
    "- [Интересная статья про спам/не спам](https://habrahabr.ru/post/252265/)\n",
    "\n",
    "Если вам понравилась задача распознавания текстов, то вот подборочка:\n",
    "\n",
    "- [библиотека Gensim](https://radimrehurek.com/gensim/)\n",
    "- [библиотека nltk](http://www.nltk.org/)\n",
    "- [Лекция про word2vec 🔥](https://www.youtube.com/watch?v=oBb9aFmp0Hs)\n",
    "- [Лекция Векторные представления слов и документов 🔥](https://www.youtube.com/watch?v=hiDBnEyoZS4)"
   ]
  },
  {
   "cell_type": "markdown",
   "metadata": {
    "id": "AdY9vy1LsygR"
   },
   "source": [
    "### Классификация текстов\n",
    "\n",
    "На примере [датасета SMS спама](https://archive.ics.uci.edu/ml/datasets/sms+spam+collection) научим наш классификатор отличать спам от обычного сообщения. Посмотрим как Наивный байесовский метод решает эту задачу и kNN. "
   ]
  },
  {
   "cell_type": "code",
   "execution_count": 1,
   "metadata": {
    "id": "IE81HmuBsygS"
   },
   "outputs": [],
   "source": [
    "%matplotlib inline\n",
    "from matplotlib import pyplot as plt\n",
    "from sklearn.feature_extraction.text import CountVectorizer\n",
    "import numpy as np\n",
    "import pandas as pd\n",
    "import seaborn as sns\n",
    "from sklearn.model_selection import cross_val_score, train_test_split\n",
    "from sklearn.metrics import classification_report, confusion_matrix"
   ]
  },
  {
   "cell_type": "code",
   "execution_count": 2,
   "metadata": {
    "colab": {
     "base_uri": "https://localhost:8080/",
     "height": 34
    },
    "id": "GnAESgw7u489",
    "outputId": "1816059e-d396-44e3-f091-d031cd30b969"
   },
   "outputs": [],
   "source": [
    "colab = False # если работаете на своём компьютере, поставьте False\n",
    "if colab:\n",
    "    from google.colab import drive\n",
    "    drive.mount('/content/drive')"
   ]
  },
  {
   "cell_type": "code",
   "execution_count": 3,
   "metadata": {
    "colab": {
     "base_uri": "https://localhost:8080/",
     "height": 419
    },
    "id": "0qTuQAuEu-OY",
    "outputId": "5c74e143-c297-464e-8899-e993239768c1"
   },
   "outputs": [
    {
     "data": {
      "text/html": [
       "<div>\n",
       "<style scoped>\n",
       "    .dataframe tbody tr th:only-of-type {\n",
       "        vertical-align: middle;\n",
       "    }\n",
       "\n",
       "    .dataframe tbody tr th {\n",
       "        vertical-align: top;\n",
       "    }\n",
       "\n",
       "    .dataframe thead th {\n",
       "        text-align: right;\n",
       "    }\n",
       "</style>\n",
       "<table border=\"1\" class=\"dataframe\">\n",
       "  <thead>\n",
       "    <tr style=\"text-align: right;\">\n",
       "      <th></th>\n",
       "      <th>target</th>\n",
       "      <th>text</th>\n",
       "    </tr>\n",
       "  </thead>\n",
       "  <tbody>\n",
       "    <tr>\n",
       "      <th>0</th>\n",
       "      <td>ham</td>\n",
       "      <td>Go until jurong point, crazy.. Available only ...</td>\n",
       "    </tr>\n",
       "    <tr>\n",
       "      <th>1</th>\n",
       "      <td>ham</td>\n",
       "      <td>Ok lar... Joking wif u oni...</td>\n",
       "    </tr>\n",
       "    <tr>\n",
       "      <th>2</th>\n",
       "      <td>spam</td>\n",
       "      <td>Free entry in 2 a wkly comp to win FA Cup fina...</td>\n",
       "    </tr>\n",
       "    <tr>\n",
       "      <th>3</th>\n",
       "      <td>ham</td>\n",
       "      <td>U dun say so early hor... U c already then say...</td>\n",
       "    </tr>\n",
       "    <tr>\n",
       "      <th>4</th>\n",
       "      <td>ham</td>\n",
       "      <td>Nah I don't think he goes to usf, he lives aro...</td>\n",
       "    </tr>\n",
       "    <tr>\n",
       "      <th>...</th>\n",
       "      <td>...</td>\n",
       "      <td>...</td>\n",
       "    </tr>\n",
       "    <tr>\n",
       "      <th>5567</th>\n",
       "      <td>spam</td>\n",
       "      <td>This is the 2nd time we have tried 2 contact u...</td>\n",
       "    </tr>\n",
       "    <tr>\n",
       "      <th>5568</th>\n",
       "      <td>ham</td>\n",
       "      <td>Will ü b going to esplanade fr home?</td>\n",
       "    </tr>\n",
       "    <tr>\n",
       "      <th>5569</th>\n",
       "      <td>ham</td>\n",
       "      <td>Pity, * was in mood for that. So...any other s...</td>\n",
       "    </tr>\n",
       "    <tr>\n",
       "      <th>5570</th>\n",
       "      <td>ham</td>\n",
       "      <td>The guy did some bitching but I acted like i'd...</td>\n",
       "    </tr>\n",
       "    <tr>\n",
       "      <th>5571</th>\n",
       "      <td>ham</td>\n",
       "      <td>Rofl. Its true to its name</td>\n",
       "    </tr>\n",
       "  </tbody>\n",
       "</table>\n",
       "<p>5572 rows × 2 columns</p>\n",
       "</div>"
      ],
      "text/plain": [
       "     target                                               text\n",
       "0       ham  Go until jurong point, crazy.. Available only ...\n",
       "1       ham                      Ok lar... Joking wif u oni...\n",
       "2      spam  Free entry in 2 a wkly comp to win FA Cup fina...\n",
       "3       ham  U dun say so early hor... U c already then say...\n",
       "4       ham  Nah I don't think he goes to usf, he lives aro...\n",
       "...     ...                                                ...\n",
       "5567   spam  This is the 2nd time we have tried 2 contact u...\n",
       "5568    ham               Will ü b going to esplanade fr home?\n",
       "5569    ham  Pity, * was in mood for that. So...any other s...\n",
       "5570    ham  The guy did some bitching but I acted like i'd...\n",
       "5571    ham                         Rofl. Its true to its name\n",
       "\n",
       "[5572 rows x 2 columns]"
      ]
     },
     "execution_count": 3,
     "metadata": {},
     "output_type": "execute_result"
    }
   ],
   "source": [
    "if colab:\n",
    "    data = pd.read_csv('/content/drive/My Drive/data/SMSSpamCollection.tsv.gz', compression='gzip', sep='\\t', header=None, names=['target', 'text'])\n",
    "else:\n",
    "    data = pd.read_csv(\"E:\\\\Education\\\\7bits\\\\courses\\\\MLandDS\\\\ml-solutions\\\\ml_course\\\\data\\\\data_SMSSpamCollection.tsv.gz\", compression='gzip', sep='\\t', header=None, names=['target', 'text'])\n",
    "\n",
    "data"
   ]
  },
  {
   "cell_type": "code",
   "execution_count": 4,
   "metadata": {
    "colab": {
     "base_uri": "https://localhost:8080/",
     "height": 88
    },
    "id": "iMhR13o0syga",
    "outputId": "b9d19ff9-3a90-484a-9a6a-be24ac270f69"
   },
   "outputs": [
    {
     "name": "stdout",
     "output_type": "stream",
     "text": [
      "spam : Free entry in 2 a wkly comp to win FA Cup final tkts 21st May 2005. Text FA to 87121 to receive entry question(std txt rate)T&C's apply 08452810075over18's\n",
      "\n",
      "ham : I've been searching for the right words to thank you for this breather. I promise i wont take your help for granted and will fulfil my promise. You have been wonderful and a blessing at all times.\n"
     ]
    }
   ],
   "source": [
    "# Посмотрим на типичных представителей датасета\n",
    "print(data['target'][2],\":\", data['text'][2])\n",
    "print()\n",
    "print(data['target'][13],\":\", data['text'][13])"
   ]
  },
  {
   "cell_type": "code",
   "execution_count": 5,
   "metadata": {
    "colab": {
     "base_uri": "https://localhost:8080/",
     "height": 351
    },
    "id": "kqxa0Tt4sygd",
    "outputId": "42416b70-ee6c-408c-e751-a2a996b49a6e"
   },
   "outputs": [
    {
     "name": "stderr",
     "output_type": "stream",
     "text": [
      "E:\\StudyPrograms\\Python 3.8.1\\Lib\\site-packages\\seaborn\\_decorators.py:36: FutureWarning: Pass the following variable as a keyword arg: x. From version 0.12, the only valid positional argument will be `data`, and passing other arguments without an explicit keyword will result in an error or misinterpretation.\n",
      "  warnings.warn(\n"
     ]
    },
    {
     "data": {
      "text/plain": [
       "<AxesSubplot:xlabel='target', ylabel='count'>"
      ]
     },
     "execution_count": 5,
     "metadata": {},
     "output_type": "execute_result"
    },
    {
     "data": {
      "image/png": "[encoded data removed]",
      "text/plain": [
       "<Figure size 432x288 with 1 Axes>"
      ]
     },
     "metadata": {
      "needs_background": "light"
     },
     "output_type": "display_data"
    }
   ],
   "source": [
    "sns.countplot(data['target'])"
   ]
  },
  {
   "cell_type": "code",
   "execution_count": 6,
   "metadata": {
    "id": "UM5IBueEsygg"
   },
   "outputs": [],
   "source": [
    "data['len'] = data['text'].apply(len)"
   ]
  },
  {
   "cell_type": "code",
   "execution_count": 7,
   "metadata": {
    "colab": {
     "base_uri": "https://localhost:8080/",
     "height": 394
    },
    "id": "x8LhDxdrsygj",
    "outputId": "d0863374-4093-4d00-ea56-8e598abeebd4"
   },
   "outputs": [
    {
     "data": {
      "text/plain": [
       "array([<AxesSubplot:title={'center':'ham'}>,\n",
       "       <AxesSubplot:title={'center':'spam'}>], dtype=object)"
      ]
     },
     "execution_count": 7,
     "metadata": {},
     "output_type": "execute_result"
    },
    {
     "data": {
      "image/png": "[encoded data removed]",
      "text/plain": [
       "<Figure size 1008x360 with 2 Axes>"
      ]
     },
     "metadata": {
      "needs_background": "light"
     },
     "output_type": "display_data"
    }
   ],
   "source": [
    "data.hist(column='len', by='target', bins=50,figsize=(14,5))"
   ]
  },
  {
   "cell_type": "code",
   "execution_count": 8,
   "metadata": {
    "colab": {
     "base_uri": "https://localhost:8080/",
     "height": 394
    },
    "id": "SsDHxknysygq",
    "outputId": "c1b1ef32-f549-4f34-c649-65fe47693c72"
   },
   "outputs": [
    {
     "data": {
      "text/plain": [
       "array([<AxesSubplot:title={'center':'ham'}>,\n",
       "       <AxesSubplot:title={'center':'spam'}>], dtype=object)"
      ]
     },
     "execution_count": 8,
     "metadata": {},
     "output_type": "execute_result"
    },
    {
     "data": {
      "image/png": "[encoded data removed]",
      "text/plain": [
       "<Figure size 1008x360 with 2 Axes>"
      ]
     },
     "metadata": {
      "needs_background": "light"
     },
     "output_type": "display_data"
    }
   ],
   "source": [
    "# какие-то странные длинные смс-ки. Посмотрим на распределение по-другому.\n",
    "data[data['len'] < 280].hist(column='len', by='target', bins=50,figsize=(14,5))"
   ]
  },
  {
   "cell_type": "markdown",
   "metadata": {
    "id": "mJ2UPLOhsygu"
   },
   "source": [
    "### Генерация признаков текста \n",
    "\n",
    "\n",
    "![](https://cs5.pikabu.ru/images/previews_comm/2015-10_5/144549937818821131.jpg)\n",
    "\n",
    "Алгоритмы машинного обучения работают с числовыми и категориальными данными. Если же у нас текст, его надо как-то привести к числовому виду. Для этого текст проходит предобработку, в которой можно выделить следующие стадии:\n",
    "\n",
    "1. **Токенизация**: выделение из текста слов (токенов), например с помощью регулярных выражений.\n",
    "2. **Отсечение стоп-слов**: слова, которые встречаются слишком часто, не несут никакой информации, только зашумляют данные, и их можно удалить. Это можно сделать с помощью словаря стоп-слов или просто отсекая слова, которые встречаются в обрабатываемых текстах чаще всего.\n",
    "3. **Стемминг/лемматизация**: приведение слов к начальной форме, чтобы игрорировать различия во временах, числах, падежах и прочее. При стемминге используется алгоритм, отсекающий суффиксы (который, например, преобразует books в book, leaves в leav, а was в wa), при лемматизации - словарь, который позволит выполнить эту работу более точно (но за большее время, и, собственно, нужен словарь).\n",
    "4. **Векторизация**: собственно то, ради чего всё затевалось $-$ преобразование набора слов в набор чисел. Двумя простейшими подходами являются bag-of-words, при котором просто считается, как часто встретилось каждое слово, и TF-IDF (term frequency - inverse document frequency), при котором больший вес даётся тем словам, которые встречаются в обрабатываемых текстах более редко.\n",
    "\n",
    "Второй и третий этапы можно пропускать.\n",
    "\n",
    "__источник: материалы курса [ODS](https://github.com/Yorko/mlcourse.ai)__\n",
    "\n",
    "\n",
    "[Извлечение признаков из текста в Sklearn](http://scikit-learn.org/stable/modules/feature_extraction.html#text-feature-extraction)\n",
    "\n",
    "[Сравнение качества работы мешка слов, TF-IDF и Word2Vec](http://ijaerd.com/papers/finished_papers/A_review_of_feature_extraction_methods_for_text_classification-IJAERDV05I0489982.pdf)\n",
    "\n",
    "#### Count Vectorizer (Мешок слов)\n",
    "\n",
    "[Доки по CountVectorizer](https://scikit-learn.org/stable/modules/generated/sklearn.feature_extraction.text.CountVectorizer.html#sklearn.feature_extraction.text.CountVectorizer)\n",
    "\n",
    "Можно начать с очень простой идеи. Давайте разобъем все предложения на слова. Составим словарь всех слов, которые будут встречаться во всех  наших текстах. И отметим, встречается ли это слово в нашем конкретном примере.  \n",
    "Другими словами. Пусть в таблице в строках будут предложения, в столбцах - слова, а в ячейках число, которое показывает сколько раз это слово встречалось в этом предложении. Получается, что каждому объекту выборки будет сопоставлен вектор.\n",
    "\n"
   ]
  },
  {
   "cell_type": "code",
   "execution_count": 9,
   "metadata": {
    "colab": {
     "base_uri": "https://localhost:8080/",
     "height": 34
    },
    "id": "QLHmSuN7sygu",
    "outputId": "8f4ce891-ed82-4f9e-ab9c-252ac93c873d"
   },
   "outputs": [
    {
     "name": "stdout",
     "output_type": "stream",
     "text": [
      "Shape= (3, 28)\n"
     ]
    }
   ],
   "source": [
    "count_vectorizer = CountVectorizer()\n",
    "texts = [\n",
    "    \"I've been searching for the right words to thank you for this breather.\",\n",
    "    \"You have been wonderful and a blessing at all times\",\n",
    "    \"I promise i wont take your help for granted and will fulfil my promise.\"\n",
    "]\n",
    "bow = count_vectorizer.fit_transform(texts)\n",
    "print(\"Shape=\", bow.shape)"
   ]
  },
  {
   "cell_type": "code",
   "execution_count": 10,
   "metadata": {
    "colab": {
     "base_uri": "https://localhost:8080/",
     "height": 493
    },
    "id": "kzZVsYMUsygx",
    "outputId": "0fdec874-aa1f-4bf7-a0ea-e917e4d586e1"
   },
   "outputs": [
    {
     "data": {
      "text/plain": [
       "{'ve': 21,\n",
       " 'been': 3,\n",
       " 'searching': 14,\n",
       " 'for': 6,\n",
       " 'the': 17,\n",
       " 'right': 13,\n",
       " 'words': 25,\n",
       " 'to': 20,\n",
       " 'thank': 16,\n",
       " 'you': 26,\n",
       " 'this': 18,\n",
       " 'breather': 5,\n",
       " 'have': 9,\n",
       " 'wonderful': 23,\n",
       " 'and': 1,\n",
       " 'blessing': 4,\n",
       " 'at': 2,\n",
       " 'all': 0,\n",
       " 'times': 19,\n",
       " 'promise': 12,\n",
       " 'wont': 24,\n",
       " 'take': 15,\n",
       " 'your': 27,\n",
       " 'help': 10,\n",
       " 'granted': 8,\n",
       " 'will': 22,\n",
       " 'fulfil': 7,\n",
       " 'my': 11}"
      ]
     },
     "execution_count": 10,
     "metadata": {},
     "output_type": "execute_result"
    }
   ],
   "source": [
    "count_vectorizer.vocabulary_"
   ]
  },
  {
   "cell_type": "markdown",
   "metadata": {
    "id": "FChLiFH8syg0"
   },
   "source": [
    "Теперь составим ту самую матрицу, где в столбцах слова, а в строках тексты.  \n",
    "Как мы видим в первом и втором предложениях есть слово \"been\", а в третьем его нет."
   ]
  },
  {
   "cell_type": "code",
   "execution_count": 11,
   "metadata": {
    "colab": {
     "base_uri": "https://localhost:8080/",
     "height": 119
    },
    "id": "QPzU_bTxsyg0",
    "outputId": "c692ee2e-cd4b-4013-f01e-8f3d263f9e10"
   },
   "outputs": [
    {
     "data": {
      "text/plain": [
       "matrix([[0, 0, 0, 1, 0, 1, 2, 0, 0, 0, 0, 0, 0, 1, 1, 0, 1, 1, 1, 0, 1,\n",
       "         1, 0, 0, 0, 1, 1, 0],\n",
       "        [1, 1, 1, 1, 1, 0, 0, 0, 0, 1, 0, 0, 0, 0, 0, 0, 0, 0, 0, 1, 0,\n",
       "         0, 0, 1, 0, 0, 1, 0],\n",
       "        [0, 1, 0, 0, 0, 0, 1, 1, 1, 0, 1, 1, 2, 0, 0, 1, 0, 0, 0, 0, 0,\n",
       "         0, 1, 0, 1, 0, 0, 1]], dtype=int64)"
      ]
     },
     "execution_count": 11,
     "metadata": {},
     "output_type": "execute_result"
    }
   ],
   "source": [
    "bow.todense()"
   ]
  },
  {
   "cell_type": "markdown",
   "metadata": {
    "id": "LkJsLIcqsyg3"
   },
   "source": [
    "Можно удалить \"стоп слова\" - слова, которые не несут особый смысл, но нужны для грамматики."
   ]
  },
  {
   "cell_type": "code",
   "execution_count": 12,
   "metadata": {
    "colab": {
     "base_uri": "https://localhost:8080/",
     "height": 272
    },
    "id": "8cMYbd2Osyg3",
    "outputId": "8069b0dc-2d79-4628-abca-678746d5cd7c"
   },
   "outputs": [
    {
     "name": "stdout",
     "output_type": "stream",
     "text": [
      "Shape= (3, 14)\n"
     ]
    },
    {
     "data": {
      "text/plain": [
       "{'ve': 10,\n",
       " 'searching': 7,\n",
       " 'right': 6,\n",
       " 'words': 13,\n",
       " 'thank': 8,\n",
       " 'breather': 1,\n",
       " 'wonderful': 11,\n",
       " 'blessing': 0,\n",
       " 'times': 9,\n",
       " 'promise': 5,\n",
       " 'wont': 12,\n",
       " 'help': 4,\n",
       " 'granted': 3,\n",
       " 'fulfil': 2}"
      ]
     },
     "execution_count": 12,
     "metadata": {},
     "output_type": "execute_result"
    }
   ],
   "source": [
    "count_vectorizer = CountVectorizer(stop_words='english')\n",
    "bow = count_vectorizer.fit_transform(texts)\n",
    "print(\"Shape=\", bow.shape)\n",
    "count_vectorizer.vocabulary_"
   ]
  },
  {
   "cell_type": "markdown",
   "metadata": {
    "id": "l5t5gxbzsyg7"
   },
   "source": [
    "Дальше можно применять лемматизацию, стемминг и много чего другого. Но пока остановимся на этом и вернемся к спаму."
   ]
  },
  {
   "cell_type": "code",
   "execution_count": 13,
   "metadata": {
    "id": "32jUgLdisyg7"
   },
   "outputs": [],
   "source": [
    "y = data['target']\n",
    "X = data['text']"
   ]
  },
  {
   "cell_type": "markdown",
   "metadata": {
    "id": "CuAxlMrAsyg-"
   },
   "source": [
    "Можно ограничить словарь сверху и снизу.  \n",
    "Выкинуть очень часто повторяющиеся слова и очень редкие. Что кстати логично, так как эти слова не несут никакого смысла.\n",
    "\n",
    "```\n",
    "max_df : float in range [0.0, 1.0] or int, default=1.0\n",
    "    When building the vocabulary ignore terms that have a document\n",
    "    frequency strictly higher than the given threshold (corpus-specific\n",
    "    stop words).\n",
    "    If float, the parameter represents a proportion of documents, integer\n",
    "    absolute counts.\n",
    "    This parameter is ignored if vocabulary is not None.\n",
    "\n",
    "min_df : float in range [0.0, 1.0] or int, default=1\n",
    "    When building the vocabulary ignore terms that have a document\n",
    "    frequency strictly lower than the given threshold. This value is also\n",
    "    called cut-off in the literature.\n",
    "    If float, the parameter represents a proportion of documents, integer\n",
    "    absolute counts.\n",
    "    This parameter is ignored if vocabulary is not None.\n",
    "```"
   ]
  },
  {
   "cell_type": "code",
   "execution_count": 14,
   "metadata": {
    "id": "pkxZU6Insyg-"
   },
   "outputs": [],
   "source": [
    "vectorizer = CountVectorizer(stop_words='english', max_df=0.95, min_df=2)\n",
    "X_vector = vectorizer.fit_transform(X)"
   ]
  },
  {
   "cell_type": "code",
   "execution_count": 15,
   "metadata": {
    "colab": {
     "base_uri": "https://localhost:8080/",
     "height": 51
    },
    "id": "5jVt7zngolPV",
    "outputId": "425120a0-e5c3-4cc4-c5fb-9ab33b776ac3"
   },
   "outputs": [
    {
     "data": {
      "text/plain": [
       "<5572x3965 sparse matrix of type '<class 'numpy.int64'>'\n",
       "\twith 39099 stored elements in Compressed Sparse Row format>"
      ]
     },
     "execution_count": 15,
     "metadata": {},
     "output_type": "execute_result"
    }
   ],
   "source": [
    "X_vector"
   ]
  },
  {
   "cell_type": "code",
   "execution_count": 16,
   "metadata": {
    "colab": {
     "base_uri": "https://localhost:8080/",
     "height": 1000
    },
    "id": "EEmJS8x_syhB",
    "outputId": "ad7b1240-04b8-4133-8748-52991e31ed28",
    "scrolled": true
   },
   "outputs": [
    {
     "data": {
      "text/plain": [
       "frozenset({'a',\n",
       "           'about',\n",
       "           'above',\n",
       "           'across',\n",
       "           'after',\n",
       "           'afterwards',\n",
       "           'again',\n",
       "           'against',\n",
       "           'all',\n",
       "           'almost',\n",
       "           'alone',\n",
       "           'along',\n",
       "           'already',\n",
       "           'also',\n",
       "           'although',\n",
       "           'always',\n",
       "           'am',\n",
       "           'among',\n",
       "           'amongst',\n",
       "           'amoungst',\n",
       "           'amount',\n",
       "           'an',\n",
       "           'and',\n",
       "           'another',\n",
       "           'any',\n",
       "           'anyhow',\n",
       "           'anyone',\n",
       "           'anything',\n",
       "           'anyway',\n",
       "           'anywhere',\n",
       "           'are',\n",
       "           'around',\n",
       "           'as',\n",
       "           'at',\n",
       "           'back',\n",
       "           'be',\n",
       "           'became',\n",
       "           'because',\n",
       "           'become',\n",
       "           'becomes',\n",
       "           'becoming',\n",
       "           'been',\n",
       "           'before',\n",
       "           'beforehand',\n",
       "           'behind',\n",
       "           'being',\n",
       "           'below',\n",
       "           'beside',\n",
       "           'besides',\n",
       "           'between',\n",
       "           'beyond',\n",
       "           'bill',\n",
       "           'both',\n",
       "           'bottom',\n",
       "           'but',\n",
       "           'by',\n",
       "           'call',\n",
       "           'can',\n",
       "           'cannot',\n",
       "           'cant',\n",
       "           'co',\n",
       "           'con',\n",
       "           'could',\n",
       "           'couldnt',\n",
       "           'cry',\n",
       "           'de',\n",
       "           'describe',\n",
       "           'detail',\n",
       "           'do',\n",
       "           'done',\n",
       "           'down',\n",
       "           'due',\n",
       "           'during',\n",
       "           'each',\n",
       "           'eg',\n",
       "           'eight',\n",
       "           'either',\n",
       "           'eleven',\n",
       "           'else',\n",
       "           'elsewhere',\n",
       "           'empty',\n",
       "           'enough',\n",
       "           'etc',\n",
       "           'even',\n",
       "           'ever',\n",
       "           'every',\n",
       "           'everyone',\n",
       "           'everything',\n",
       "           'everywhere',\n",
       "           'except',\n",
       "           'few',\n",
       "           'fifteen',\n",
       "           'fifty',\n",
       "           'fill',\n",
       "           'find',\n",
       "           'fire',\n",
       "           'first',\n",
       "           'five',\n",
       "           'for',\n",
       "           'former',\n",
       "           'formerly',\n",
       "           'forty',\n",
       "           'found',\n",
       "           'four',\n",
       "           'from',\n",
       "           'front',\n",
       "           'full',\n",
       "           'further',\n",
       "           'get',\n",
       "           'give',\n",
       "           'go',\n",
       "           'had',\n",
       "           'has',\n",
       "           'hasnt',\n",
       "           'have',\n",
       "           'he',\n",
       "           'hence',\n",
       "           'her',\n",
       "           'here',\n",
       "           'hereafter',\n",
       "           'hereby',\n",
       "           'herein',\n",
       "           'hereupon',\n",
       "           'hers',\n",
       "           'herself',\n",
       "           'him',\n",
       "           'himself',\n",
       "           'his',\n",
       "           'how',\n",
       "           'however',\n",
       "           'hundred',\n",
       "           'i',\n",
       "           'ie',\n",
       "           'if',\n",
       "           'in',\n",
       "           'inc',\n",
       "           'indeed',\n",
       "           'interest',\n",
       "           'into',\n",
       "           'is',\n",
       "           'it',\n",
       "           'its',\n",
       "           'itself',\n",
       "           'keep',\n",
       "           'last',\n",
       "           'latter',\n",
       "           'latterly',\n",
       "           'least',\n",
       "           'less',\n",
       "           'ltd',\n",
       "           'made',\n",
       "           'many',\n",
       "           'may',\n",
       "           'me',\n",
       "           'meanwhile',\n",
       "           'might',\n",
       "           'mill',\n",
       "           'mine',\n",
       "           'more',\n",
       "           'moreover',\n",
       "           'most',\n",
       "           'mostly',\n",
       "           'move',\n",
       "           'much',\n",
       "           'must',\n",
       "           'my',\n",
       "           'myself',\n",
       "           'name',\n",
       "           'namely',\n",
       "           'neither',\n",
       "           'never',\n",
       "           'nevertheless',\n",
       "           'next',\n",
       "           'nine',\n",
       "           'no',\n",
       "           'nobody',\n",
       "           'none',\n",
       "           'noone',\n",
       "           'nor',\n",
       "           'not',\n",
       "           'nothing',\n",
       "           'now',\n",
       "           'nowhere',\n",
       "           'of',\n",
       "           'off',\n",
       "           'often',\n",
       "           'on',\n",
       "           'once',\n",
       "           'one',\n",
       "           'only',\n",
       "           'onto',\n",
       "           'or',\n",
       "           'other',\n",
       "           'others',\n",
       "           'otherwise',\n",
       "           'our',\n",
       "           'ours',\n",
       "           'ourselves',\n",
       "           'out',\n",
       "           'over',\n",
       "           'own',\n",
       "           'part',\n",
       "           'per',\n",
       "           'perhaps',\n",
       "           'please',\n",
       "           'put',\n",
       "           'rather',\n",
       "           're',\n",
       "           'same',\n",
       "           'see',\n",
       "           'seem',\n",
       "           'seemed',\n",
       "           'seeming',\n",
       "           'seems',\n",
       "           'serious',\n",
       "           'several',\n",
       "           'she',\n",
       "           'should',\n",
       "           'show',\n",
       "           'side',\n",
       "           'since',\n",
       "           'sincere',\n",
       "           'six',\n",
       "           'sixty',\n",
       "           'so',\n",
       "           'some',\n",
       "           'somehow',\n",
       "           'someone',\n",
       "           'something',\n",
       "           'sometime',\n",
       "           'sometimes',\n",
       "           'somewhere',\n",
       "           'still',\n",
       "           'such',\n",
       "           'system',\n",
       "           'take',\n",
       "           'ten',\n",
       "           'than',\n",
       "           'that',\n",
       "           'the',\n",
       "           'their',\n",
       "           'them',\n",
       "           'themselves',\n",
       "           'then',\n",
       "           'thence',\n",
       "           'there',\n",
       "           'thereafter',\n",
       "           'thereby',\n",
       "           'therefore',\n",
       "           'therein',\n",
       "           'thereupon',\n",
       "           'these',\n",
       "           'they',\n",
       "           'thick',\n",
       "           'thin',\n",
       "           'third',\n",
       "           'this',\n",
       "           'those',\n",
       "           'though',\n",
       "           'three',\n",
       "           'through',\n",
       "           'throughout',\n",
       "           'thru',\n",
       "           'thus',\n",
       "           'to',\n",
       "           'together',\n",
       "           'too',\n",
       "           'top',\n",
       "           'toward',\n",
       "           'towards',\n",
       "           'twelve',\n",
       "           'twenty',\n",
       "           'two',\n",
       "           'un',\n",
       "           'under',\n",
       "           'until',\n",
       "           'up',\n",
       "           'upon',\n",
       "           'us',\n",
       "           'very',\n",
       "           'via',\n",
       "           'was',\n",
       "           'we',\n",
       "           'well',\n",
       "           'were',\n",
       "           'what',\n",
       "           'whatever',\n",
       "           'when',\n",
       "           'whence',\n",
       "           'whenever',\n",
       "           'where',\n",
       "           'whereafter',\n",
       "           'whereas',\n",
       "           'whereby',\n",
       "           'wherein',\n",
       "           'whereupon',\n",
       "           'wherever',\n",
       "           'whether',\n",
       "           'which',\n",
       "           'while',\n",
       "           'whither',\n",
       "           'who',\n",
       "           'whoever',\n",
       "           'whole',\n",
       "           'whom',\n",
       "           'whose',\n",
       "           'why',\n",
       "           'will',\n",
       "           'with',\n",
       "           'within',\n",
       "           'without',\n",
       "           'would',\n",
       "           'yet',\n",
       "           'you',\n",
       "           'your',\n",
       "           'yours',\n",
       "           'yourself',\n",
       "           'yourselves'})"
      ]
     },
     "execution_count": 16,
     "metadata": {},
     "output_type": "execute_result"
    }
   ],
   "source": [
    "vectorizer.get_stop_words()"
   ]
  },
  {
   "cell_type": "code",
   "execution_count": 17,
   "metadata": {
    "colab": {
     "base_uri": "https://localhost:8080/",
     "height": 51
    },
    "id": "lN6G2VyksyhE",
    "outputId": "f574caeb-197f-4ec4-e525-df14c2322864"
   },
   "outputs": [
    {
     "name": "stdout",
     "output_type": "stream",
     "text": [
      "Количество слов в словаре:  3965\n"
     ]
    },
    {
     "data": {
      "text/plain": [
       "(5572, 3965)"
      ]
     },
     "execution_count": 17,
     "metadata": {},
     "output_type": "execute_result"
    }
   ],
   "source": [
    "print(\"Количество слов в словаре: \", len(vectorizer.vocabulary_))\n",
    "X_vector.shape"
   ]
  },
  {
   "cell_type": "markdown",
   "metadata": {
    "id": "-L9JAjAxsyhG"
   },
   "source": [
    "Посмотрим на самые часто встречающиеся слова"
   ]
  },
  {
   "cell_type": "code",
   "execution_count": 18,
   "metadata": {
    "colab": {
     "base_uri": "https://localhost:8080/",
     "height": 867
    },
    "id": "KJOOwCdVsyhH",
    "outputId": "b1e722c1-a498-4077-f7ca-c012b0b799d0",
    "scrolled": false
   },
   "outputs": [
    {
     "data": {
      "text/html": [
       "<div>\n",
       "<style scoped>\n",
       "    .dataframe tbody tr th:only-of-type {\n",
       "        vertical-align: middle;\n",
       "    }\n",
       "\n",
       "    .dataframe tbody tr th {\n",
       "        vertical-align: top;\n",
       "    }\n",
       "\n",
       "    .dataframe thead th {\n",
       "        text-align: right;\n",
       "    }\n",
       "</style>\n",
       "<table border=\"1\" class=\"dataframe\">\n",
       "  <thead>\n",
       "    <tr style=\"text-align: right;\">\n",
       "      <th></th>\n",
       "      <th>Word</th>\n",
       "      <th>Count</th>\n",
       "    </tr>\n",
       "  </thead>\n",
       "  <tbody>\n",
       "    <tr>\n",
       "      <th>3686</th>\n",
       "      <td>ur</td>\n",
       "      <td>391</td>\n",
       "    </tr>\n",
       "    <tr>\n",
       "      <th>1973</th>\n",
       "      <td>just</td>\n",
       "      <td>376</td>\n",
       "    </tr>\n",
       "    <tr>\n",
       "      <th>1666</th>\n",
       "      <td>gt</td>\n",
       "      <td>318</td>\n",
       "    </tr>\n",
       "    <tr>\n",
       "      <th>2184</th>\n",
       "      <td>lt</td>\n",
       "      <td>316</td>\n",
       "    </tr>\n",
       "    <tr>\n",
       "      <th>2530</th>\n",
       "      <td>ok</td>\n",
       "      <td>293</td>\n",
       "    </tr>\n",
       "    <tr>\n",
       "      <th>1519</th>\n",
       "      <td>free</td>\n",
       "      <td>284</td>\n",
       "    </tr>\n",
       "    <tr>\n",
       "      <th>2124</th>\n",
       "      <td>ll</td>\n",
       "      <td>270</td>\n",
       "    </tr>\n",
       "    <tr>\n",
       "      <th>2017</th>\n",
       "      <td>know</td>\n",
       "      <td>262</td>\n",
       "    </tr>\n",
       "    <tr>\n",
       "      <th>2097</th>\n",
       "      <td>like</td>\n",
       "      <td>247</td>\n",
       "    </tr>\n",
       "    <tr>\n",
       "      <th>1632</th>\n",
       "      <td>good</td>\n",
       "      <td>247</td>\n",
       "    </tr>\n",
       "    <tr>\n",
       "      <th>1642</th>\n",
       "      <td>got</td>\n",
       "      <td>240</td>\n",
       "    </tr>\n",
       "    <tr>\n",
       "      <th>968</th>\n",
       "      <td>come</td>\n",
       "      <td>232</td>\n",
       "    </tr>\n",
       "    <tr>\n",
       "      <th>1112</th>\n",
       "      <td>day</td>\n",
       "      <td>232</td>\n",
       "    </tr>\n",
       "    <tr>\n",
       "      <th>3531</th>\n",
       "      <td>time</td>\n",
       "      <td>221</td>\n",
       "    </tr>\n",
       "    <tr>\n",
       "      <th>2165</th>\n",
       "      <td>love</td>\n",
       "      <td>215</td>\n",
       "    </tr>\n",
       "    <tr>\n",
       "      <th>3083</th>\n",
       "      <td>send</td>\n",
       "      <td>200</td>\n",
       "    </tr>\n",
       "    <tr>\n",
       "      <th>3782</th>\n",
       "      <td>want</td>\n",
       "      <td>195</td>\n",
       "    </tr>\n",
       "    <tr>\n",
       "      <th>3477</th>\n",
       "      <td>text</td>\n",
       "      <td>193</td>\n",
       "    </tr>\n",
       "    <tr>\n",
       "      <th>3635</th>\n",
       "      <td>txt</td>\n",
       "      <td>177</td>\n",
       "    </tr>\n",
       "    <tr>\n",
       "      <th>1627</th>\n",
       "      <td>going</td>\n",
       "      <td>173</td>\n",
       "    </tr>\n",
       "    <tr>\n",
       "      <th>1229</th>\n",
       "      <td>don</td>\n",
       "      <td>170</td>\n",
       "    </tr>\n",
       "    <tr>\n",
       "      <th>2452</th>\n",
       "      <td>need</td>\n",
       "      <td>169</td>\n",
       "    </tr>\n",
       "    <tr>\n",
       "      <th>1769</th>\n",
       "      <td>home</td>\n",
       "      <td>167</td>\n",
       "    </tr>\n",
       "    <tr>\n",
       "      <th>2149</th>\n",
       "      <td>lor</td>\n",
       "      <td>162</td>\n",
       "    </tr>\n",
       "    <tr>\n",
       "      <th>3326</th>\n",
       "      <td>stop</td>\n",
       "      <td>160</td>\n",
       "    </tr>\n",
       "    <tr>\n",
       "      <th>3252</th>\n",
       "      <td>sorry</td>\n",
       "      <td>160</td>\n",
       "    </tr>\n",
       "    <tr>\n",
       "      <th>3553</th>\n",
       "      <td>today</td>\n",
       "      <td>160</td>\n",
       "    </tr>\n",
       "    <tr>\n",
       "      <th>1090</th>\n",
       "      <td>da</td>\n",
       "      <td>150</td>\n",
       "    </tr>\n",
       "    <tr>\n",
       "      <th>1231</th>\n",
       "      <td>dont</td>\n",
       "      <td>149</td>\n",
       "    </tr>\n",
       "    <tr>\n",
       "      <th>2926</th>\n",
       "      <td>reply</td>\n",
       "      <td>148</td>\n",
       "    </tr>\n",
       "    <tr>\n",
       "      <th>2347</th>\n",
       "      <td>mobile</td>\n",
       "      <td>142</td>\n",
       "    </tr>\n",
       "    <tr>\n",
       "      <th>1744</th>\n",
       "      <td>hi</td>\n",
       "      <td>140</td>\n",
       "    </tr>\n",
       "    <tr>\n",
       "      <th>3457</th>\n",
       "      <td>tell</td>\n",
       "      <td>138</td>\n",
       "    </tr>\n",
       "    <tr>\n",
       "      <th>2464</th>\n",
       "      <td>new</td>\n",
       "      <td>136</td>\n",
       "    </tr>\n",
       "    <tr>\n",
       "      <th>2047</th>\n",
       "      <td>later</td>\n",
       "      <td>135</td>\n",
       "    </tr>\n",
       "    <tr>\n",
       "      <th>2683</th>\n",
       "      <td>pls</td>\n",
       "      <td>134</td>\n",
       "    </tr>\n",
       "    <tr>\n",
       "      <th>3500</th>\n",
       "      <td>think</td>\n",
       "      <td>132</td>\n",
       "    </tr>\n",
       "    <tr>\n",
       "      <th>1174</th>\n",
       "      <td>did</td>\n",
       "      <td>132</td>\n",
       "    </tr>\n",
       "    <tr>\n",
       "      <th>3814</th>\n",
       "      <td>week</td>\n",
       "      <td>126</td>\n",
       "    </tr>\n",
       "    <tr>\n",
       "      <th>2638</th>\n",
       "      <td>phone</td>\n",
       "      <td>126</td>\n",
       "    </tr>\n",
       "    <tr>\n",
       "      <th>1119</th>\n",
       "      <td>dear</td>\n",
       "      <td>122</td>\n",
       "    </tr>\n",
       "    <tr>\n",
       "      <th>2473</th>\n",
       "      <td>night</td>\n",
       "      <td>118</td>\n",
       "    </tr>\n",
       "    <tr>\n",
       "      <th>1656</th>\n",
       "      <td>great</td>\n",
       "      <td>115</td>\n",
       "    </tr>\n",
       "    <tr>\n",
       "      <th>2526</th>\n",
       "      <td>oh</td>\n",
       "      <td>115</td>\n",
       "    </tr>\n",
       "    <tr>\n",
       "      <th>1776</th>\n",
       "      <td>hope</td>\n",
       "      <td>114</td>\n",
       "    </tr>\n",
       "    <tr>\n",
       "      <th>922</th>\n",
       "      <td>claim</td>\n",
       "      <td>113</td>\n",
       "    </tr>\n",
       "    <tr>\n",
       "      <th>1742</th>\n",
       "      <td>hey</td>\n",
       "      <td>112</td>\n",
       "    </tr>\n",
       "    <tr>\n",
       "      <th>2395</th>\n",
       "      <td>msg</td>\n",
       "      <td>111</td>\n",
       "    </tr>\n",
       "    <tr>\n",
       "      <th>1706</th>\n",
       "      <td>happy</td>\n",
       "      <td>108</td>\n",
       "    </tr>\n",
       "  </tbody>\n",
       "</table>\n",
       "</div>"
      ],
      "text/plain": [
       "        Word  Count\n",
       "3686      ur    391\n",
       "1973    just    376\n",
       "1666      gt    318\n",
       "2184      lt    316\n",
       "2530      ok    293\n",
       "1519    free    284\n",
       "2124      ll    270\n",
       "2017    know    262\n",
       "2097    like    247\n",
       "1632    good    247\n",
       "1642     got    240\n",
       "968     come    232\n",
       "1112     day    232\n",
       "3531    time    221\n",
       "2165    love    215\n",
       "3083    send    200\n",
       "3782    want    195\n",
       "3477    text    193\n",
       "3635     txt    177\n",
       "1627   going    173\n",
       "1229     don    170\n",
       "2452    need    169\n",
       "1769    home    167\n",
       "2149     lor    162\n",
       "3326    stop    160\n",
       "3252   sorry    160\n",
       "3553   today    160\n",
       "1090      da    150\n",
       "1231    dont    149\n",
       "2926   reply    148\n",
       "2347  mobile    142\n",
       "1744      hi    140\n",
       "3457    tell    138\n",
       "2464     new    136\n",
       "2047   later    135\n",
       "2683     pls    134\n",
       "3500   think    132\n",
       "1174     did    132\n",
       "3814    week    126\n",
       "2638   phone    126\n",
       "1119    dear    122\n",
       "2473   night    118\n",
       "1656   great    115\n",
       "2526      oh    115\n",
       "1776    hope    114\n",
       "922    claim    113\n",
       "1742     hey    112\n",
       "2395     msg    111\n",
       "1706   happy    108"
      ]
     },
     "execution_count": 18,
     "metadata": {},
     "output_type": "execute_result"
    }
   ],
   "source": [
    "# sorted(vectorizer.vocabulary_.items(), key=lambda x: x[1], reverse=True)[:50]\n",
    "\n",
    "frequent_words = pd.DataFrame(columns=['Word', 'Count'])\n",
    "\n",
    "frequent_words['Word'] = vectorizer.get_feature_names()\n",
    "frequent_words['Count'] = X_vector.toarray().sum(axis=0)\n",
    "\n",
    "frequent_words.iloc[np.argsort(frequent_words['Count'],)][:-50:-1]"
   ]
  },
  {
   "cell_type": "markdown",
   "metadata": {
    "id": "WYXIKLKqsyhK"
   },
   "source": [
    "Чтобы понять, хуже чего нельзя быть, возьмем глупый классификатор, который говорит, что все спам."
   ]
  },
  {
   "cell_type": "code",
   "execution_count": 19,
   "metadata": {
    "colab": {
     "base_uri": "https://localhost:8080/",
     "height": 102
    },
    "id": "DBu1QuoJsyhK",
    "outputId": "fd6556f0-1550-4e65-a312-8f761373110b"
   },
   "outputs": [
    {
     "name": "stdout",
     "output_type": "stream",
     "text": [
      "Wall time: 102 ms\n"
     ]
    },
    {
     "name": "stderr",
     "output_type": "stream",
     "text": [
      "E:\\StudyPrograms\\Python 3.8.1\\Lib\\site-packages\\sklearn\\dummy.py:131: FutureWarning: The default value of strategy will change from stratified to prior in 0.24.\n",
      "  warnings.warn(\"The default value of strategy will change from \"\n"
     ]
    },
    {
     "data": {
      "text/plain": [
       "0.7679476351759332"
      ]
     },
     "execution_count": 19,
     "metadata": {},
     "output_type": "execute_result"
    }
   ],
   "source": [
    "from sklearn.dummy import DummyClassifier\n",
    "\n",
    "dm = DummyClassifier()\n",
    "%time cross_val_score(dm, X_vector, y, cv=3).mean()"
   ]
  },
  {
   "cell_type": "markdown",
   "metadata": {
    "id": "bpxKk0ucsyhN"
   },
   "source": [
    "Далее возьмем известный нам K ближайших соседей."
   ]
  },
  {
   "cell_type": "code",
   "execution_count": 20,
   "metadata": {},
   "outputs": [
    {
     "name": "stdout",
     "output_type": "stream",
     "text": [
      "(5572,)\n",
      "(5572, 3965)\n"
     ]
    },
    {
     "data": {
      "text/plain": [
       "'0.23.2'"
      ]
     },
     "execution_count": 20,
     "metadata": {},
     "output_type": "execute_result"
    }
   ],
   "source": [
    "print(y.shape)\n",
    "print(X_vector.shape)\n",
    "import sklearn\n",
    "sklearn.__version__"
   ]
  },
  {
   "cell_type": "code",
   "execution_count": 21,
   "metadata": {
    "colab": {
     "base_uri": "https://localhost:8080/",
     "height": 68
    },
    "id": "MZA-x7ZEsyhO",
    "outputId": "0860a797-5847-445f-c0f7-55526a6ba60b",
    "scrolled": true
   },
   "outputs": [
    {
     "name": "stdout",
     "output_type": "stream",
     "text": [
      "Wall time: 1.92 s\n"
     ]
    },
    {
     "data": {
      "text/plain": [
       "0.8659368183575603"
      ]
     },
     "execution_count": 21,
     "metadata": {},
     "output_type": "execute_result"
    }
   ],
   "source": [
    "from sklearn.neighbors import KNeighborsClassifier\n",
    "\n",
    "%time cross_val_score(KNeighborsClassifier(n_neighbors=42, n_jobs=4), X_vector, y, cv=3).mean()"
   ]
  },
  {
   "cell_type": "markdown",
   "metadata": {
    "id": "M-Z4_49WsyhQ"
   },
   "source": [
    "## А что скажет Байес?\n",
    "\n",
    "![](https://i.pinimg.com/736x/22/7e/52/227e52ea4622a62344f1bc0a31111f43--bayes-theorem-game-theory.jpg)\n",
    "\n",
    "$\\LARGE P(A|B) = \\frac{P(AB)}{P(B)} =  \\frac{P(B \\mid A)\\, P(A)}{P(B)}$"
   ]
  },
  {
   "cell_type": "markdown",
   "metadata": {
    "id": "Co92a6cwv3-Z"
   },
   "source": [
    "Рассмотрим один из вариантов реализации классификатора"
   ]
  },
  {
   "cell_type": "markdown",
   "metadata": {
    "id": "A4WwOl4FL0CA"
   },
   "source": [
    "### Наивный байесовский классификатор\n",
    "Очень хорошо про теорию написано [тут](http://bazhenov.me/blog/2012/06/11/naive-bayes.html). Попробуем реализовать по этой статье.\n",
    "\n",
    "Модель классификатора строится на основе обучающей выборки. \n",
    "По ней необходимо найти следующюю статистику:  \n",
    "1. Частоты классов в корпусе объектов (сколько объектов принадлежит каждому из классов)  (`classes_stats`)\n",
    "2. Cуммарное число слов в документах каждого класса (`words_per_class`, далее см. $L_c$)\n",
    "3. Частоты слов в пределах каждого класса (`word_freqs_per_class`, далее используется для расчета $W_{ic}$)\n",
    "4. Размер словаря выборки (число признаков) - кол-во уникальных слов в выборке (`num_features`)\n",
    "\n",
    "По сути, это метод `fit` классификатора.\n",
    "\n",
    "На этапе предсказания необходимо воспользоваться следующей формулой:\n",
    "\n",
    "$$\n",
    "\\begin{equation}\n",
    "predicted\\ class = \\operatorname*{arg\\max}_{c \\in C} \\left[\\log{{D_c} \\over {D}} + \\sum_{i \\in Q}{\\log{{W_{ic} + 1} \\over {|V| + L_c}}}\\right]\n",
    "\\end{equation}\n",
    "$$\n",
    "\n",
    "Поясним некоторые переменные в этом выражении:  \n",
    "$D_c$ - количество документов в обуч. выборке $\\in$ классу $c$\n",
    "\n",
    "$D$ - сколько всего было документов в обуч. выборке\n",
    "\n",
    "$|V|$ - количество уникальных слов во сех документах обуч. выборки\n",
    "\n",
    "$L_c$ - cуммарное число слов в документах класса $c$ обучающей выборки\n",
    " \n",
    "$W_{ic}$ - сколько раз $i$ слово встретилось в объектах класса $c$ обучающей выборки\n",
    "\n",
    "$Q$ - множество слов _классифицируемого_ документа\n",
    "\n",
    "\n"
   ]
  },
  {
   "cell_type": "code",
   "execution_count": 22,
   "metadata": {
    "id": "hZNcSr5Q60qg"
   },
   "outputs": [],
   "source": [
    "X_train, X_test, y_train, y_test = train_test_split(X_vector, y, random_state=42, test_size=0.5)"
   ]
  },
  {
   "cell_type": "markdown",
   "metadata": {
    "id": "N90Jvxr_WPeW"
   },
   "source": [
    "Общая сигнатура классификатора такова:  \n",
    "```python\n",
    "class NaiveBayes:\n",
    "    def fit(self, x, y) -> None\n",
    "\n",
    "    def predict(self, x) -> List[str]\n",
    "```\n",
    "\n",
    "Найдем для начала различные статистики, описанные в разделе и в самом материале по ссылке"
   ]
  },
  {
   "cell_type": "markdown",
   "metadata": {
    "id": "_-MH1eM8W4iq"
   },
   "source": [
    "Общее число документов в обучающей выборке (`doc_num`)"
   ]
  },
  {
   "cell_type": "code",
   "execution_count": 23,
   "metadata": {
    "colab": {
     "base_uri": "https://localhost:8080/",
     "height": 34
    },
    "id": "0RnprZc4W9z5",
    "outputId": "33ee4209-2ebb-4a07-eda7-6b1d527d7e4e"
   },
   "outputs": [
    {
     "data": {
      "text/plain": [
       "2786"
      ]
     },
     "execution_count": 23,
     "metadata": {},
     "output_type": "execute_result"
    }
   ],
   "source": [
    "doc_num = X_train.shape[0]\n",
    "doc_num"
   ]
  },
  {
   "cell_type": "markdown",
   "metadata": {
    "id": "L5Z3H4ptXTPU"
   },
   "source": [
    "Словарь, содержащий число объектов каждого класса (`classes_stats`)"
   ]
  },
  {
   "cell_type": "code",
   "execution_count": 24,
   "metadata": {
    "colab": {
     "base_uri": "https://localhost:8080/",
     "height": 34
    },
    "id": "tmr8EJ0EXaLX",
    "outputId": "38b08bae-314c-4288-b476-f36902f38127"
   },
   "outputs": [
    {
     "data": {
      "text/plain": [
       "{'ham': 4825, 'spam': 747}"
      ]
     },
     "execution_count": 24,
     "metadata": {},
     "output_type": "execute_result"
    }
   ],
   "source": [
    "classes_stats = y.value_counts().to_dict()\n",
    "classes_stats"
   ]
  },
  {
   "cell_type": "markdown",
   "metadata": {
    "id": "Ed83xusIXl5B"
   },
   "source": [
    "Число уникальных признаков (слов) в тренировочной выборке (`num_features`)"
   ]
  },
  {
   "cell_type": "code",
   "execution_count": 25,
   "metadata": {
    "colab": {
     "base_uri": "https://localhost:8080/",
     "height": 34
    },
    "id": "I0PVSiQjXwWV",
    "outputId": "fc2bfa89-50f2-4257-c87a-c65c225431cf"
   },
   "outputs": [
    {
     "data": {
      "text/plain": [
       "3965"
      ]
     },
     "execution_count": 25,
     "metadata": {},
     "output_type": "execute_result"
    }
   ],
   "source": [
    "num_features = X_train.shape[1]\n",
    "num_features"
   ]
  },
  {
   "cell_type": "markdown",
   "metadata": {
    "id": "y-_B84ViX8oN"
   },
   "source": [
    "Создадим словарь `indexes`, в котором ключом будет являться имя класса, а значением ключа - список строк матрицы X, принадлежащих конкретному классу"
   ]
  },
  {
   "cell_type": "markdown",
   "metadata": {
    "id": "nD97lSgElLJI"
   },
   "source": [
    "Обратите внимание на переменную `y` - это объект `Series` со сместившейся индексацией. Это индексацию необходимо исправить, воспользовавшись `Series.reset_index(drop=True)`"
   ]
  },
  {
   "cell_type": "code",
   "execution_count": 26,
   "metadata": {
    "colab": {
     "base_uri": "https://localhost:8080/",
     "height": 153
    },
    "id": "XDJ3-6XLYP9U",
    "outputId": "dee04352-61b3-4089-b2fd-ae0745d64d35"
   },
   "outputs": [
    {
     "data": {
      "text/plain": [
       "{'ham': Int64Index([   0,    1,    2,    4,    5,    7,    9,   10,   11,   12,\n",
       "             ...\n",
       "             2775, 2776, 2777, 2778, 2779, 2781, 2782, 2783, 2784, 2785],\n",
       "            dtype='int64', length=2409),\n",
       " 'spam': Int64Index([   3,    6,    8,   13,   22,   24,   30,   36,   41,   44,\n",
       "             ...\n",
       "             2726, 2729, 2733, 2745, 2750, 2751, 2758, 2760, 2764, 2780],\n",
       "            dtype='int64', length=377)}"
      ]
     },
     "execution_count": 26,
     "metadata": {},
     "output_type": "execute_result"
    }
   ],
   "source": [
    "y = y_train.reset_index(drop=True)\n",
    "\n",
    "indexes = {}\n",
    "\n",
    "for clazz in classes_stats:\n",
    "    indexes.update({clazz: y[y == clazz].index})\n",
    "\n",
    "indexes"
   ]
  },
  {
   "cell_type": "markdown",
   "metadata": {
    "id": "pALZj5hwjBpc"
   },
   "source": [
    "Используя найденные выше индексы, подсчитаем два важных параметра `words_per_class` и `word_freqs_per_class`.  \n",
    "Обе этих переменных являются словарями, но первая из них отвечает за суммарное число слов, использованных в **каждом классе**, а вторая показывает, сколько раз конкретное слово встретилось в документах определенного класса.  Соответственно, формат переменной `words_per_class` - `{str: int}`, формат `word_freqs_per_class` - `{str: List}`.\n",
    "Мы специально объеденили поиск двух разных статистик в одном блоке, чтобы избежать лишних циклов."
   ]
  },
  {
   "cell_type": "markdown",
   "metadata": {
    "id": "UIxMRE1NkLV8"
   },
   "source": [
    "Чтобы найти в X строки, относящиеся к тому или иному классу, воспользуйтесь поиском по маске `indexes` для нужного класса."
   ]
  },
  {
   "cell_type": "markdown",
   "metadata": {
    "id": "XmC-y5DCkhJT"
   },
   "source": [
    "Также помните, что X - это разреженная матрица, но из нее можно получить обычный массив через метод `toarray()`"
   ]
  },
  {
   "cell_type": "code",
   "execution_count": 27,
   "metadata": {
    "colab": {
     "base_uri": "https://localhost:8080/",
     "height": 68
    },
    "id": "4a2459Vrj68G",
    "outputId": "6b039a72-e86c-4ded-8472-4ba5f00dd157"
   },
   "outputs": [
    {
     "data": {
      "text/plain": [
       "({'ham': array([ 0,  0,  0, ..., 20,  0,  1], dtype=int64),\n",
       "  'spam': array([ 5, 15,  0, ...,  0,  6,  1], dtype=int64)},\n",
       " {'ham': array([0.00000000e+00, 0.00000000e+00, 0.00000000e+00, ...,\n",
       "         1.30301648e-03, 0.00000000e+00, 6.51508242e-05]),\n",
       "  'spam': array([0.00091996, 0.00275989, 0.        , ..., 0.        , 0.00110396,\n",
       "         0.00018399])})"
      ]
     },
     "execution_count": 27,
     "metadata": {},
     "output_type": "execute_result"
    }
   ],
   "source": [
    "x_arr = X_train.toarray()\n",
    "\n",
    "words_per_class = {}\n",
    "word_freqs_per_class = {}\n",
    "\n",
    "for clazz in classes_stats:\n",
    "    class_ids = indexes[clazz]\n",
    "    \n",
    "    cur_class_rows = x_arr[class_ids]\n",
    "    words_per_class.update({clazz: np.sum(cur_class_rows, axis = 0)})\n",
    "    \n",
    "    total_word_count = np.sum(words_per_class.get(clazz))\n",
    "    \n",
    "    word_freqs_per_class.update({clazz: words_per_class.get(clazz)/total_word_count})\n",
    "\n",
    "words_per_class, word_freqs_per_class"
   ]
  },
  {
   "cell_type": "markdown",
   "metadata": {
    "id": "lb19IBkXldGy"
   },
   "source": [
    "Все вышенаписанные переменные образуют метод `fit` будущего классификатора. Теперь внесите этот код в метод `fit`, и не забудьте сделать найденный переменные полями класса."
   ]
  },
  {
   "cell_type": "code",
   "execution_count": 28,
   "metadata": {
    "id": "TZVaSEnPl2gS"
   },
   "outputs": [],
   "source": [
    "class NaiveBayes:\n",
    "    def __init__(self):\n",
    "        pass\n",
    "\n",
    "    def fit(self, x, y):\n",
    "        self.classes_stats = y.value_counts().to_dict()\n",
    "\n",
    "        self.doc_num = x.shape[0]\n",
    "\n",
    "        self.num_features = x.shape[1]\n",
    "\n",
    "        x_arr = X_train.toarray()\n",
    "\n",
    "        self.words_per_class = {}\n",
    "        self.word_freqs_per_class = {}\n",
    "\n",
    "        for clazz in classes_stats:\n",
    "            class_ids = indexes[clazz]\n",
    "\n",
    "            cur_class_rows = x_arr[class_ids]\n",
    "            self.words_per_class.update({clazz: np.sum(cur_class_rows, axis = 0)})\n",
    "\n",
    "            total_word_count = np.sum(words_per_class.get(clazz))\n",
    "\n",
    "            self.word_freqs_per_class.update({clazz: words_per_class.get(clazz)/total_word_count})"
   ]
  },
  {
   "cell_type": "markdown",
   "metadata": {
    "id": "v6Jmnn3jmTd2"
   },
   "source": [
    "Теперь реализуем метод `predict`. Если вы внимательно читали статью, то заметили, что в примере мы получили не чистые _вероятности_ классов, а всего лишь числовые оценки. Далее эти оценки можно перевести в вероятности при помощи софтмакса, но мы этого делать не будем."
   ]
  },
  {
   "cell_type": "markdown",
   "metadata": {
    "id": "BaoISxiPm4aE"
   },
   "source": [
    "Тогда промежуточный выход классификатора обозначим так:\n",
    "\n",
    "`pred_per_class = [{класс: оценка}, ... , {класс: оценка}]`\n",
    "\n",
    "Получая новую оценку для класса, мы сравниваем ее с уже имеющейся в массиве. Если она больше, то перезаписываем значение. Индекс словарика = индексу  строки в матрице Х./\n",
    "\n",
    "Не забудьте о следующих вещах:\n",
    "- `X_test` - это такая же разряженная матрица, нужно превратить ее в список\n",
    "- переменная $ {D_c} \\over {D} $ одинакова для одного класса.\n",
    "- Чтобы подсчитать $W_{ic}$ воспользуйтесь `word_freqs_per_class`.\n",
    "- Чтобы понять, какие элементы вам нужно брать в `word_freqs_per_class`, найдите индексы ненулевых элементов в классифицируемой строке - если эти элементы ненулевые, значит, там было какое-то слово (логично, не правда ли?)\n",
    "\n",
    "Теперь просто выберите класс с наибольшей оценкой, и сформируйте список классов."
   ]
  },
  {
   "cell_type": "code",
   "execution_count": 29,
   "metadata": {
    "id": "yz6AfBHbnccX"
   },
   "outputs": [],
   "source": [
    "import math\n",
    "\n",
    "def predict(x):\n",
    "    pred_per_class = np.empty(x.shape[0], dtype=object)\n",
    "    \n",
    "    x = x.toarray()\n",
    "    \n",
    "    for clazz in classes_stats.keys():\n",
    "        Dc_D = np.log(classes_stats.get(clazz)/doc_num)\n",
    "        \n",
    "        first_in_this_class = True\n",
    "        \n",
    "        denominator = num_features + np.sum(words_per_class.get(clazz))\n",
    "        \n",
    "        for rowID, row in enumerate(x):\n",
    "            \n",
    "            ids = np.nonzero(row)\n",
    "            \n",
    "            numerator = []\n",
    "            for i in ids:\n",
    "                numerator.append(word_freqs_per_class[clazz][i] + 1)\n",
    "            numerator = np.array(numerator)\n",
    "            \n",
    "            log = np.log(numerator/denominator)\n",
    "            sigma = np.sum(log)\n",
    "            sigma += Dc_D\n",
    "            \n",
    "            if first_in_this_class:\n",
    "                pred_per_class[rowID] = {clazz: sigma}\n",
    "            else:\n",
    "                if list(pred_per_class[rowID].values())[0] < sigma:\n",
    "                    pred_per_class[rowID] = {clazz: sigma}\n",
    "        first_in_this_class = False\n",
    "    return [list(x.keys()) for x in pred_per_class]"
   ]
  },
  {
   "cell_type": "code",
   "execution_count": 30,
   "metadata": {
    "colab": {
     "base_uri": "https://localhost:8080/",
     "height": 34
    },
    "id": "JD8AJgPsquYE",
    "outputId": "75e898c3-1094-4a25-8c17-ffa46b93fa54"
   },
   "outputs": [
    {
     "data": {
      "text/plain": [
       "True"
      ]
     },
     "execution_count": 30,
     "metadata": {},
     "output_type": "execute_result"
    }
   ],
   "source": [
    "len(predict(X_test)) == len(y_test)"
   ]
  },
  {
   "cell_type": "code",
   "execution_count": 31,
   "metadata": {},
   "outputs": [
    {
     "data": {
      "text/plain": [
       "[['spam'],\n",
       " ['spam'],\n",
       " ['spam'],\n",
       " ['spam'],\n",
       " ['spam'],\n",
       " ['spam'],\n",
       " ['spam'],\n",
       " ['spam'],\n",
       " ['spam'],\n",
       " ['spam'],\n",
       " ['spam'],\n",
       " ['spam'],\n",
       " ['spam'],\n",
       " ['spam'],\n",
       " ['spam'],\n",
       " ['spam'],\n",
       " ['spam'],\n",
       " ['spam'],\n",
       " ['spam'],\n",
       " ['spam'],\n",
       " ['spam'],\n",
       " ['spam'],\n",
       " ['spam'],\n",
       " ['spam'],\n",
       " ['spam'],\n",
       " ['spam'],\n",
       " ['spam'],\n",
       " ['spam'],\n",
       " ['spam'],\n",
       " ['spam'],\n",
       " ['spam'],\n",
       " ['spam'],\n",
       " ['spam'],\n",
       " ['spam'],\n",
       " ['spam'],\n",
       " ['spam'],\n",
       " ['spam'],\n",
       " ['spam'],\n",
       " ['spam'],\n",
       " ['spam'],\n",
       " ['spam'],\n",
       " ['spam'],\n",
       " ['spam'],\n",
       " ['spam'],\n",
       " ['spam'],\n",
       " ['spam'],\n",
       " ['spam'],\n",
       " ['spam'],\n",
       " ['spam'],\n",
       " ['spam'],\n",
       " ['spam'],\n",
       " ['spam'],\n",
       " ['spam'],\n",
       " ['spam'],\n",
       " ['spam'],\n",
       " ['spam'],\n",
       " ['spam'],\n",
       " ['spam'],\n",
       " ['spam'],\n",
       " ['spam'],\n",
       " ['spam'],\n",
       " ['spam'],\n",
       " ['spam'],\n",
       " ['spam'],\n",
       " ['spam'],\n",
       " ['spam'],\n",
       " ['spam'],\n",
       " ['spam'],\n",
       " ['spam'],\n",
       " ['spam'],\n",
       " ['spam'],\n",
       " ['spam'],\n",
       " ['spam'],\n",
       " ['spam'],\n",
       " ['spam'],\n",
       " ['spam'],\n",
       " ['spam'],\n",
       " ['spam'],\n",
       " ['spam'],\n",
       " ['spam'],\n",
       " ['spam'],\n",
       " ['spam'],\n",
       " ['spam'],\n",
       " ['spam'],\n",
       " ['spam'],\n",
       " ['spam'],\n",
       " ['spam'],\n",
       " ['spam'],\n",
       " ['spam'],\n",
       " ['spam'],\n",
       " ['spam'],\n",
       " ['spam'],\n",
       " ['spam'],\n",
       " ['spam'],\n",
       " ['spam'],\n",
       " ['spam'],\n",
       " ['spam'],\n",
       " ['spam'],\n",
       " ['spam'],\n",
       " ['spam'],\n",
       " ['spam'],\n",
       " ['spam'],\n",
       " ['spam'],\n",
       " ['spam'],\n",
       " ['spam'],\n",
       " ['spam'],\n",
       " ['spam'],\n",
       " ['spam'],\n",
       " ['spam'],\n",
       " ['spam'],\n",
       " ['spam'],\n",
       " ['spam'],\n",
       " ['spam'],\n",
       " ['spam'],\n",
       " ['spam'],\n",
       " ['spam'],\n",
       " ['spam'],\n",
       " ['spam'],\n",
       " ['spam'],\n",
       " ['spam'],\n",
       " ['spam'],\n",
       " ['spam'],\n",
       " ['spam'],\n",
       " ['spam'],\n",
       " ['spam'],\n",
       " ['spam'],\n",
       " ['spam'],\n",
       " ['spam'],\n",
       " ['spam'],\n",
       " ['spam'],\n",
       " ['spam'],\n",
       " ['spam'],\n",
       " ['spam'],\n",
       " ['spam'],\n",
       " ['spam'],\n",
       " ['spam'],\n",
       " ['spam'],\n",
       " ['spam'],\n",
       " ['spam'],\n",
       " ['spam'],\n",
       " ['spam'],\n",
       " ['spam'],\n",
       " ['spam'],\n",
       " ['spam'],\n",
       " ['spam'],\n",
       " ['spam'],\n",
       " ['spam'],\n",
       " ['spam'],\n",
       " ['spam'],\n",
       " ['spam'],\n",
       " ['spam'],\n",
       " ['spam'],\n",
       " ['spam'],\n",
       " ['spam'],\n",
       " ['spam'],\n",
       " ['spam'],\n",
       " ['spam'],\n",
       " ['spam'],\n",
       " ['spam'],\n",
       " ['spam'],\n",
       " ['spam'],\n",
       " ['spam'],\n",
       " ['spam'],\n",
       " ['spam'],\n",
       " ['spam'],\n",
       " ['spam'],\n",
       " ['spam'],\n",
       " ['spam'],\n",
       " ['spam'],\n",
       " ['spam'],\n",
       " ['spam'],\n",
       " ['spam'],\n",
       " ['spam'],\n",
       " ['spam'],\n",
       " ['spam'],\n",
       " ['spam'],\n",
       " ['spam'],\n",
       " ['spam'],\n",
       " ['spam'],\n",
       " ['spam'],\n",
       " ['spam'],\n",
       " ['spam'],\n",
       " ['spam'],\n",
       " ['spam'],\n",
       " ['spam'],\n",
       " ['spam'],\n",
       " ['spam'],\n",
       " ['spam'],\n",
       " ['spam'],\n",
       " ['spam'],\n",
       " ['spam'],\n",
       " ['spam'],\n",
       " ['spam'],\n",
       " ['spam'],\n",
       " ['spam'],\n",
       " ['spam'],\n",
       " ['spam'],\n",
       " ['spam'],\n",
       " ['spam'],\n",
       " ['spam'],\n",
       " ['spam'],\n",
       " ['spam'],\n",
       " ['spam'],\n",
       " ['spam'],\n",
       " ['spam'],\n",
       " ['spam'],\n",
       " ['spam'],\n",
       " ['spam'],\n",
       " ['spam'],\n",
       " ['spam'],\n",
       " ['spam'],\n",
       " ['spam'],\n",
       " ['spam'],\n",
       " ['spam'],\n",
       " ['spam'],\n",
       " ['spam'],\n",
       " ['spam'],\n",
       " ['spam'],\n",
       " ['spam'],\n",
       " ['spam'],\n",
       " ['spam'],\n",
       " ['spam'],\n",
       " ['spam'],\n",
       " ['spam'],\n",
       " ['spam'],\n",
       " ['spam'],\n",
       " ['spam'],\n",
       " ['spam'],\n",
       " ['spam'],\n",
       " ['spam'],\n",
       " ['spam'],\n",
       " ['spam'],\n",
       " ['spam'],\n",
       " ['spam'],\n",
       " ['spam'],\n",
       " ['spam'],\n",
       " ['spam'],\n",
       " ['spam'],\n",
       " ['spam'],\n",
       " ['spam'],\n",
       " ['spam'],\n",
       " ['spam'],\n",
       " ['spam'],\n",
       " ['spam'],\n",
       " ['spam'],\n",
       " ['spam'],\n",
       " ['spam'],\n",
       " ['spam'],\n",
       " ['spam'],\n",
       " ['spam'],\n",
       " ['spam'],\n",
       " ['spam'],\n",
       " ['spam'],\n",
       " ['spam'],\n",
       " ['spam'],\n",
       " ['spam'],\n",
       " ['spam'],\n",
       " ['spam'],\n",
       " ['spam'],\n",
       " ['spam'],\n",
       " ['spam'],\n",
       " ['spam'],\n",
       " ['spam'],\n",
       " ['spam'],\n",
       " ['spam'],\n",
       " ['spam'],\n",
       " ['spam'],\n",
       " ['spam'],\n",
       " ['spam'],\n",
       " ['spam'],\n",
       " ['spam'],\n",
       " ['spam'],\n",
       " ['spam'],\n",
       " ['spam'],\n",
       " ['spam'],\n",
       " ['spam'],\n",
       " ['spam'],\n",
       " ['spam'],\n",
       " ['spam'],\n",
       " ['spam'],\n",
       " ['spam'],\n",
       " ['spam'],\n",
       " ['spam'],\n",
       " ['spam'],\n",
       " ['spam'],\n",
       " ['spam'],\n",
       " ['spam'],\n",
       " ['spam'],\n",
       " ['spam'],\n",
       " ['spam'],\n",
       " ['spam'],\n",
       " ['spam'],\n",
       " ['spam'],\n",
       " ['spam'],\n",
       " ['spam'],\n",
       " ['spam'],\n",
       " ['spam'],\n",
       " ['spam'],\n",
       " ['spam'],\n",
       " ['spam'],\n",
       " ['spam'],\n",
       " ['spam'],\n",
       " ['spam'],\n",
       " ['spam'],\n",
       " ['spam'],\n",
       " ['spam'],\n",
       " ['spam'],\n",
       " ['spam'],\n",
       " ['spam'],\n",
       " ['spam'],\n",
       " ['spam'],\n",
       " ['spam'],\n",
       " ['spam'],\n",
       " ['spam'],\n",
       " ['spam'],\n",
       " ['spam'],\n",
       " ['spam'],\n",
       " ['spam'],\n",
       " ['spam'],\n",
       " ['spam'],\n",
       " ['spam'],\n",
       " ['spam'],\n",
       " ['spam'],\n",
       " ['spam'],\n",
       " ['spam'],\n",
       " ['spam'],\n",
       " ['spam'],\n",
       " ['spam'],\n",
       " ['spam'],\n",
       " ['spam'],\n",
       " ['spam'],\n",
       " ['spam'],\n",
       " ['spam'],\n",
       " ['spam'],\n",
       " ['spam'],\n",
       " ['spam'],\n",
       " ['spam'],\n",
       " ['spam'],\n",
       " ['spam'],\n",
       " ['spam'],\n",
       " ['spam'],\n",
       " ['spam'],\n",
       " ['spam'],\n",
       " ['spam'],\n",
       " ['spam'],\n",
       " ['spam'],\n",
       " ['spam'],\n",
       " ['spam'],\n",
       " ['spam'],\n",
       " ['spam'],\n",
       " ['spam'],\n",
       " ['spam'],\n",
       " ['spam'],\n",
       " ['spam'],\n",
       " ['spam'],\n",
       " ['spam'],\n",
       " ['spam'],\n",
       " ['spam'],\n",
       " ['spam'],\n",
       " ['spam'],\n",
       " ['spam'],\n",
       " ['spam'],\n",
       " ['spam'],\n",
       " ['spam'],\n",
       " ['spam'],\n",
       " ['spam'],\n",
       " ['spam'],\n",
       " ['spam'],\n",
       " ['spam'],\n",
       " ['spam'],\n",
       " ['spam'],\n",
       " ['spam'],\n",
       " ['spam'],\n",
       " ['spam'],\n",
       " ['spam'],\n",
       " ['spam'],\n",
       " ['spam'],\n",
       " ['spam'],\n",
       " ['spam'],\n",
       " ['spam'],\n",
       " ['spam'],\n",
       " ['spam'],\n",
       " ['spam'],\n",
       " ['spam'],\n",
       " ['spam'],\n",
       " ['spam'],\n",
       " ['spam'],\n",
       " ['spam'],\n",
       " ['spam'],\n",
       " ['spam'],\n",
       " ['spam'],\n",
       " ['spam'],\n",
       " ['spam'],\n",
       " ['spam'],\n",
       " ['spam'],\n",
       " ['spam'],\n",
       " ['spam'],\n",
       " ['spam'],\n",
       " ['spam'],\n",
       " ['spam'],\n",
       " ['spam'],\n",
       " ['spam'],\n",
       " ['spam'],\n",
       " ['spam'],\n",
       " ['spam'],\n",
       " ['spam'],\n",
       " ['spam'],\n",
       " ['spam'],\n",
       " ['spam'],\n",
       " ['spam'],\n",
       " ['spam'],\n",
       " ['spam'],\n",
       " ['spam'],\n",
       " ['spam'],\n",
       " ['spam'],\n",
       " ['spam'],\n",
       " ['spam'],\n",
       " ['spam'],\n",
       " ['spam'],\n",
       " ['spam'],\n",
       " ['spam'],\n",
       " ['spam'],\n",
       " ['spam'],\n",
       " ['spam'],\n",
       " ['spam'],\n",
       " ['spam'],\n",
       " ['spam'],\n",
       " ['spam'],\n",
       " ['spam'],\n",
       " ['spam'],\n",
       " ['spam'],\n",
       " ['spam'],\n",
       " ['spam'],\n",
       " ['spam'],\n",
       " ['spam'],\n",
       " ['spam'],\n",
       " ['spam'],\n",
       " ['spam'],\n",
       " ['spam'],\n",
       " ['spam'],\n",
       " ['spam'],\n",
       " ['spam'],\n",
       " ['spam'],\n",
       " ['spam'],\n",
       " ['spam'],\n",
       " ['spam'],\n",
       " ['spam'],\n",
       " ['spam'],\n",
       " ['spam'],\n",
       " ['spam'],\n",
       " ['spam'],\n",
       " ['spam'],\n",
       " ['spam'],\n",
       " ['spam'],\n",
       " ['spam'],\n",
       " ['spam'],\n",
       " ['spam'],\n",
       " ['spam'],\n",
       " ['spam'],\n",
       " ['spam'],\n",
       " ['spam'],\n",
       " ['spam'],\n",
       " ['spam'],\n",
       " ['spam'],\n",
       " ['spam'],\n",
       " ['spam'],\n",
       " ['spam'],\n",
       " ['spam'],\n",
       " ['spam'],\n",
       " ['spam'],\n",
       " ['spam'],\n",
       " ['spam'],\n",
       " ['spam'],\n",
       " ['spam'],\n",
       " ['spam'],\n",
       " ['spam'],\n",
       " ['spam'],\n",
       " ['spam'],\n",
       " ['spam'],\n",
       " ['spam'],\n",
       " ['spam'],\n",
       " ['spam'],\n",
       " ['spam'],\n",
       " ['spam'],\n",
       " ['spam'],\n",
       " ['spam'],\n",
       " ['spam'],\n",
       " ['spam'],\n",
       " ['spam'],\n",
       " ['spam'],\n",
       " ['spam'],\n",
       " ['spam'],\n",
       " ['spam'],\n",
       " ['spam'],\n",
       " ['spam'],\n",
       " ['spam'],\n",
       " ['spam'],\n",
       " ['spam'],\n",
       " ['spam'],\n",
       " ['spam'],\n",
       " ['spam'],\n",
       " ['spam'],\n",
       " ['spam'],\n",
       " ['spam'],\n",
       " ['spam'],\n",
       " ['spam'],\n",
       " ['spam'],\n",
       " ['spam'],\n",
       " ['spam'],\n",
       " ['spam'],\n",
       " ['spam'],\n",
       " ['spam'],\n",
       " ['spam'],\n",
       " ['spam'],\n",
       " ['spam'],\n",
       " ['spam'],\n",
       " ['spam'],\n",
       " ['spam'],\n",
       " ['spam'],\n",
       " ['spam'],\n",
       " ['spam'],\n",
       " ['spam'],\n",
       " ['spam'],\n",
       " ['spam'],\n",
       " ['spam'],\n",
       " ['spam'],\n",
       " ['spam'],\n",
       " ['spam'],\n",
       " ['spam'],\n",
       " ['spam'],\n",
       " ['spam'],\n",
       " ['spam'],\n",
       " ['spam'],\n",
       " ['spam'],\n",
       " ['spam'],\n",
       " ['spam'],\n",
       " ['spam'],\n",
       " ['spam'],\n",
       " ['spam'],\n",
       " ['spam'],\n",
       " ['spam'],\n",
       " ['spam'],\n",
       " ['spam'],\n",
       " ['spam'],\n",
       " ['spam'],\n",
       " ['spam'],\n",
       " ['spam'],\n",
       " ['spam'],\n",
       " ['spam'],\n",
       " ['spam'],\n",
       " ['spam'],\n",
       " ['spam'],\n",
       " ['spam'],\n",
       " ['spam'],\n",
       " ['spam'],\n",
       " ['spam'],\n",
       " ['spam'],\n",
       " ['spam'],\n",
       " ['spam'],\n",
       " ['spam'],\n",
       " ['spam'],\n",
       " ['spam'],\n",
       " ['spam'],\n",
       " ['spam'],\n",
       " ['spam'],\n",
       " ['spam'],\n",
       " ['spam'],\n",
       " ['spam'],\n",
       " ['spam'],\n",
       " ['spam'],\n",
       " ['spam'],\n",
       " ['spam'],\n",
       " ['spam'],\n",
       " ['spam'],\n",
       " ['spam'],\n",
       " ['spam'],\n",
       " ['spam'],\n",
       " ['spam'],\n",
       " ['spam'],\n",
       " ['spam'],\n",
       " ['spam'],\n",
       " ['spam'],\n",
       " ['spam'],\n",
       " ['spam'],\n",
       " ['spam'],\n",
       " ['spam'],\n",
       " ['spam'],\n",
       " ['spam'],\n",
       " ['spam'],\n",
       " ['spam'],\n",
       " ['spam'],\n",
       " ['spam'],\n",
       " ['spam'],\n",
       " ['spam'],\n",
       " ['spam'],\n",
       " ['spam'],\n",
       " ['spam'],\n",
       " ['spam'],\n",
       " ['spam'],\n",
       " ['spam'],\n",
       " ['spam'],\n",
       " ['spam'],\n",
       " ['spam'],\n",
       " ['spam'],\n",
       " ['spam'],\n",
       " ['spam'],\n",
       " ['spam'],\n",
       " ['spam'],\n",
       " ['spam'],\n",
       " ['spam'],\n",
       " ['spam'],\n",
       " ['spam'],\n",
       " ['spam'],\n",
       " ['spam'],\n",
       " ['spam'],\n",
       " ['spam'],\n",
       " ['spam'],\n",
       " ['spam'],\n",
       " ['spam'],\n",
       " ['spam'],\n",
       " ['spam'],\n",
       " ['spam'],\n",
       " ['spam'],\n",
       " ['spam'],\n",
       " ['spam'],\n",
       " ['spam'],\n",
       " ['spam'],\n",
       " ['spam'],\n",
       " ['spam'],\n",
       " ['spam'],\n",
       " ['spam'],\n",
       " ['spam'],\n",
       " ['spam'],\n",
       " ['spam'],\n",
       " ['spam'],\n",
       " ['spam'],\n",
       " ['spam'],\n",
       " ['spam'],\n",
       " ['spam'],\n",
       " ['spam'],\n",
       " ['spam'],\n",
       " ['spam'],\n",
       " ['spam'],\n",
       " ['spam'],\n",
       " ['spam'],\n",
       " ['spam'],\n",
       " ['spam'],\n",
       " ['spam'],\n",
       " ['spam'],\n",
       " ['spam'],\n",
       " ['spam'],\n",
       " ['spam'],\n",
       " ['spam'],\n",
       " ['spam'],\n",
       " ['spam'],\n",
       " ['spam'],\n",
       " ['spam'],\n",
       " ['spam'],\n",
       " ['spam'],\n",
       " ['spam'],\n",
       " ['spam'],\n",
       " ['spam'],\n",
       " ['spam'],\n",
       " ['spam'],\n",
       " ['spam'],\n",
       " ['spam'],\n",
       " ['spam'],\n",
       " ['spam'],\n",
       " ['spam'],\n",
       " ['spam'],\n",
       " ['spam'],\n",
       " ['spam'],\n",
       " ['spam'],\n",
       " ['spam'],\n",
       " ['spam'],\n",
       " ['spam'],\n",
       " ['spam'],\n",
       " ['spam'],\n",
       " ['spam'],\n",
       " ['spam'],\n",
       " ['spam'],\n",
       " ['spam'],\n",
       " ['spam'],\n",
       " ['spam'],\n",
       " ['spam'],\n",
       " ['spam'],\n",
       " ['spam'],\n",
       " ['spam'],\n",
       " ['spam'],\n",
       " ['spam'],\n",
       " ['spam'],\n",
       " ['spam'],\n",
       " ['spam'],\n",
       " ['spam'],\n",
       " ['spam'],\n",
       " ['spam'],\n",
       " ['spam'],\n",
       " ['spam'],\n",
       " ['spam'],\n",
       " ['spam'],\n",
       " ['spam'],\n",
       " ['spam'],\n",
       " ['spam'],\n",
       " ['spam'],\n",
       " ['spam'],\n",
       " ['spam'],\n",
       " ['spam'],\n",
       " ['spam'],\n",
       " ['spam'],\n",
       " ['spam'],\n",
       " ['spam'],\n",
       " ['spam'],\n",
       " ['spam'],\n",
       " ['spam'],\n",
       " ['spam'],\n",
       " ['spam'],\n",
       " ['spam'],\n",
       " ['spam'],\n",
       " ['spam'],\n",
       " ['spam'],\n",
       " ['spam'],\n",
       " ['spam'],\n",
       " ['spam'],\n",
       " ['spam'],\n",
       " ['spam'],\n",
       " ['spam'],\n",
       " ['spam'],\n",
       " ['spam'],\n",
       " ['spam'],\n",
       " ['spam'],\n",
       " ['spam'],\n",
       " ['spam'],\n",
       " ['spam'],\n",
       " ['spam'],\n",
       " ['spam'],\n",
       " ['spam'],\n",
       " ['spam'],\n",
       " ['spam'],\n",
       " ['spam'],\n",
       " ['spam'],\n",
       " ['spam'],\n",
       " ['spam'],\n",
       " ['spam'],\n",
       " ['spam'],\n",
       " ['spam'],\n",
       " ['spam'],\n",
       " ['spam'],\n",
       " ['spam'],\n",
       " ['spam'],\n",
       " ['spam'],\n",
       " ['spam'],\n",
       " ['spam'],\n",
       " ['spam'],\n",
       " ['spam'],\n",
       " ['spam'],\n",
       " ['spam'],\n",
       " ['spam'],\n",
       " ['spam'],\n",
       " ['spam'],\n",
       " ['spam'],\n",
       " ['spam'],\n",
       " ['spam'],\n",
       " ['spam'],\n",
       " ['spam'],\n",
       " ['spam'],\n",
       " ['spam'],\n",
       " ['spam'],\n",
       " ['spam'],\n",
       " ['spam'],\n",
       " ['spam'],\n",
       " ['spam'],\n",
       " ['spam'],\n",
       " ['spam'],\n",
       " ['spam'],\n",
       " ['spam'],\n",
       " ['spam'],\n",
       " ['spam'],\n",
       " ['spam'],\n",
       " ['spam'],\n",
       " ['spam'],\n",
       " ['spam'],\n",
       " ['spam'],\n",
       " ['spam'],\n",
       " ['spam'],\n",
       " ['spam'],\n",
       " ['spam'],\n",
       " ['spam'],\n",
       " ['spam'],\n",
       " ['spam'],\n",
       " ['spam'],\n",
       " ['spam'],\n",
       " ['spam'],\n",
       " ['spam'],\n",
       " ['spam'],\n",
       " ['spam'],\n",
       " ['spam'],\n",
       " ['spam'],\n",
       " ['spam'],\n",
       " ['spam'],\n",
       " ['spam'],\n",
       " ['spam'],\n",
       " ['spam'],\n",
       " ['spam'],\n",
       " ['spam'],\n",
       " ['spam'],\n",
       " ['spam'],\n",
       " ['spam'],\n",
       " ['spam'],\n",
       " ['spam'],\n",
       " ['spam'],\n",
       " ['spam'],\n",
       " ['spam'],\n",
       " ['spam'],\n",
       " ['spam'],\n",
       " ['spam'],\n",
       " ['spam'],\n",
       " ['spam'],\n",
       " ['spam'],\n",
       " ['spam'],\n",
       " ['spam'],\n",
       " ['spam'],\n",
       " ['spam'],\n",
       " ['spam'],\n",
       " ['spam'],\n",
       " ['spam'],\n",
       " ['spam'],\n",
       " ['spam'],\n",
       " ['spam'],\n",
       " ['spam'],\n",
       " ['spam'],\n",
       " ['spam'],\n",
       " ['spam'],\n",
       " ['spam'],\n",
       " ['spam'],\n",
       " ['spam'],\n",
       " ['spam'],\n",
       " ['spam'],\n",
       " ['spam'],\n",
       " ['spam'],\n",
       " ['spam'],\n",
       " ['spam'],\n",
       " ['spam'],\n",
       " ['spam'],\n",
       " ['spam'],\n",
       " ['spam'],\n",
       " ['spam'],\n",
       " ['spam'],\n",
       " ['spam'],\n",
       " ['spam'],\n",
       " ['spam'],\n",
       " ['spam'],\n",
       " ['spam'],\n",
       " ['spam'],\n",
       " ['spam'],\n",
       " ['spam'],\n",
       " ['spam'],\n",
       " ['spam'],\n",
       " ['spam'],\n",
       " ['spam'],\n",
       " ['spam'],\n",
       " ['spam'],\n",
       " ['spam'],\n",
       " ['spam'],\n",
       " ['spam'],\n",
       " ['spam'],\n",
       " ['spam'],\n",
       " ['spam'],\n",
       " ['spam'],\n",
       " ['spam'],\n",
       " ['spam'],\n",
       " ['spam'],\n",
       " ['spam'],\n",
       " ['spam'],\n",
       " ['spam'],\n",
       " ['spam'],\n",
       " ['spam'],\n",
       " ['spam'],\n",
       " ['spam'],\n",
       " ['spam'],\n",
       " ['spam'],\n",
       " ['spam'],\n",
       " ['spam'],\n",
       " ['spam'],\n",
       " ['spam'],\n",
       " ['spam'],\n",
       " ['spam'],\n",
       " ['spam'],\n",
       " ['spam'],\n",
       " ['spam'],\n",
       " ['spam'],\n",
       " ['spam'],\n",
       " ['spam'],\n",
       " ['spam'],\n",
       " ['spam'],\n",
       " ['spam'],\n",
       " ['spam'],\n",
       " ['spam'],\n",
       " ['spam'],\n",
       " ['spam'],\n",
       " ['spam'],\n",
       " ['spam'],\n",
       " ['spam'],\n",
       " ['spam'],\n",
       " ['spam'],\n",
       " ['spam'],\n",
       " ['spam'],\n",
       " ['spam'],\n",
       " ['spam'],\n",
       " ['spam'],\n",
       " ['spam'],\n",
       " ['spam'],\n",
       " ['spam'],\n",
       " ['spam'],\n",
       " ['spam'],\n",
       " ['spam'],\n",
       " ['spam'],\n",
       " ['spam'],\n",
       " ['spam'],\n",
       " ['spam'],\n",
       " ['spam'],\n",
       " ['spam'],\n",
       " ['spam'],\n",
       " ['spam'],\n",
       " ['spam'],\n",
       " ['spam'],\n",
       " ['spam'],\n",
       " ['spam'],\n",
       " ['spam'],\n",
       " ['spam'],\n",
       " ['spam'],\n",
       " ['spam'],\n",
       " ['spam'],\n",
       " ['spam'],\n",
       " ['spam'],\n",
       " ['spam'],\n",
       " ['spam'],\n",
       " ['spam'],\n",
       " ['spam'],\n",
       " ['spam'],\n",
       " ['spam'],\n",
       " ['spam'],\n",
       " ['spam'],\n",
       " ['spam'],\n",
       " ['spam'],\n",
       " ['spam'],\n",
       " ['spam'],\n",
       " ['spam'],\n",
       " ['spam'],\n",
       " ['spam'],\n",
       " ['spam'],\n",
       " ['spam'],\n",
       " ['spam'],\n",
       " ['spam'],\n",
       " ['spam'],\n",
       " ['spam'],\n",
       " ['spam'],\n",
       " ['spam'],\n",
       " ['spam'],\n",
       " ['spam'],\n",
       " ['spam'],\n",
       " ['spam'],\n",
       " ['spam'],\n",
       " ['spam'],\n",
       " ['spam'],\n",
       " ['spam'],\n",
       " ['spam'],\n",
       " ['spam'],\n",
       " ['spam'],\n",
       " ['spam'],\n",
       " ['spam'],\n",
       " ['spam'],\n",
       " ['spam'],\n",
       " ['spam'],\n",
       " ['spam'],\n",
       " ['spam'],\n",
       " ['spam'],\n",
       " ['spam'],\n",
       " ['spam'],\n",
       " ['spam'],\n",
       " ['spam'],\n",
       " ['spam'],\n",
       " ['spam'],\n",
       " ['spam'],\n",
       " ['spam'],\n",
       " ['spam'],\n",
       " ['spam'],\n",
       " ['spam'],\n",
       " ['spam'],\n",
       " ['spam'],\n",
       " ['spam'],\n",
       " ['spam'],\n",
       " ['spam'],\n",
       " ['spam'],\n",
       " ['spam'],\n",
       " ['spam'],\n",
       " ['spam'],\n",
       " ['spam'],\n",
       " ['spam'],\n",
       " ['spam'],\n",
       " ['spam'],\n",
       " ...]"
      ]
     },
     "execution_count": 31,
     "metadata": {},
     "output_type": "execute_result"
    }
   ],
   "source": [
    "predict(X_test)"
   ]
  },
  {
   "cell_type": "markdown",
   "metadata": {
    "id": "Zs4admvHqYB_"
   },
   "source": [
    "Соберем весь классификатор вместе"
   ]
  },
  {
   "cell_type": "code",
   "execution_count": 32,
   "metadata": {},
   "outputs": [],
   "source": [
    "# class NaiveBayes:\n",
    "#     def __init__(self):\n",
    "#         pass\n",
    "#     def fit(self, x, y):\n",
    "#         self.classes_stats = y.value_counts().to_dict();\n",
    "#         self.doc_num = x.shape[0]\n",
    "#         self.num_features = x.shape[1]\n",
    "#         x_arr = x.toarray()\n",
    "#         self.words_per_class = {}\n",
    "#         self.word_freqs_per_class = {}\n",
    "#         for clazz in classes_stats:\n",
    "#           class_ids = indexes[clazz]\n",
    "#           cur_class_rows = x_arr[class_ids]\n",
    "#           self.words_per_class.update({clazz: np.sum(cur_class_rows, axis=0)})\n",
    "#           total_word_count = np.sum(self.words_per_class.get(clazz))\n",
    "#           self.word_freqs_per_class.update({clazz: self.words_per_class.get(clazz) / total_word_count})\n",
    "#     def predict(self, x):\n",
    "#         pred_per_class = np.empty(x.shape[0], dtype=object)\n",
    "#         x = x.toarray()\n",
    "#         first_class = True\n",
    "#         for clazz in self.classes_stats.keys():\n",
    "#           dc_D = np.log(self.classes_stats.get(clazz) / self.doc_num)\n",
    "#           denominator = self.num_features + np.sum(self.words_per_class.get(clazz))\n",
    "#           for rowId, row in enumerate(x):\n",
    "#             ids = np.nonzero(row)[0]\n",
    "#             numerator = []\n",
    "#             for i in ids:\n",
    "#               numerator.append(self.words_per_class[clazz][i] + 1)\n",
    "#             numerator = np.array(numerator)\n",
    "#             log = np.log(numerator/ denominator)\n",
    "#             sigma = np.sum(log)\n",
    "#             sigma += dc_D\n",
    "#             if first_class:\n",
    "#               pred_per_class[rowId] = {clazz: sigma}\n",
    "#             else:\n",
    "#               if list(pred_per_class[rowId].values())[0] < sigma:\n",
    "#                 pred_per_class[rowId] = {clazz: sigma}\n",
    "#           first_class = False\n",
    "#         return [list(x.keys())[0] for x in pred_per_class]"
   ]
  },
  {
   "cell_type": "code",
   "execution_count": 33,
   "metadata": {
    "id": "Tb6edZm9qW6i"
   },
   "outputs": [],
   "source": [
    "class NaiveBayes:\n",
    "    def __init__(self):\n",
    "        pass\n",
    "\n",
    "    \n",
    "    def fit(self, x, y):\n",
    "        self.classes_stats = y.value_counts().to_dict()\n",
    "        self.doc_num = x.shape[0]\n",
    "        self.num_features = x.shape[1]\n",
    "        x_arr = x.toarray()\n",
    "        self.words_per_class = {}\n",
    "        self.word_freqs_per_class = {}\n",
    "        for clazz in classes_stats:\n",
    "            class_ids = indexes[clazz]\n",
    "            cur_class_rows = x_arr[class_ids]\n",
    "            self.words_per_class.update({clazz: np.sum(cur_class_rows, axis = 0)})\n",
    "            total_word_count = np.sum(self.words_per_class.get(clazz))\n",
    "            self.word_freqs_per_class.update({clazz: self.words_per_class.get(clazz) / total_word_count})\n",
    "\n",
    "            \n",
    "    def predict(self, x):\n",
    "        pred_per_class = np.empty(x.shape[0], dtype=object)\n",
    "        x = x.toarray()\n",
    "        first_in_this_class = True\n",
    "        for clazz in self.classes_stats.keys():\n",
    "            Dc_D = np.log(self.classes_stats.get(clazz) / self.doc_num)\n",
    "            denominator = self.num_features + np.sum(self.words_per_class.get(clazz))\n",
    "            for rowID, row in enumerate(x):\n",
    "                ids = np.nonzero(row)[0]\n",
    "                numerator = []\n",
    "                for i in ids:\n",
    "                    numerator.append(self.words_per_class[clazz][i] + 1)\n",
    "                numerator = np.array(numerator)\n",
    "                log = np.log(numerator/ denominator)\n",
    "                sigma = np.sum(log)\n",
    "                sigma += Dc_D\n",
    "                if first_in_this_class:\n",
    "                    pred_per_class[rowID] = {clazz: sigma}\n",
    "                else:\n",
    "                    if list(pred_per_class[rowID].values())[0] < sigma:\n",
    "                        pred_per_class[rowID] = {clazz: sigma}\n",
    "            first_in_this_class = False\n",
    "        return [list(x.keys())[0] for x in pred_per_class]"
   ]
  },
  {
   "cell_type": "code",
   "execution_count": 34,
   "metadata": {
    "colab": {
     "base_uri": "https://localhost:8080/",
     "height": 204
    },
    "id": "kYYz0f2xiwdm",
    "outputId": "0a96af13-c0ca-4c1e-b83b-9a08ef396806"
   },
   "outputs": [
    {
     "name": "stdout",
     "output_type": "stream",
     "text": [
      "              precision    recall  f1-score   support\n",
      "\n",
      "         ham       0.99      0.99      0.99      2416\n",
      "        spam       0.93      0.94      0.93       370\n",
      "\n",
      "    accuracy                           0.98      2786\n",
      "   macro avg       0.96      0.96      0.96      2786\n",
      "weighted avg       0.98      0.98      0.98      2786\n",
      "\n",
      "[[2390   26]\n",
      " [  23  347]]\n"
     ]
    }
   ],
   "source": [
    "mnb = NaiveBayes()\n",
    "\n",
    "mnb.fit(X_train, y_train.reset_index(drop=True))\n",
    "pred = mnb.predict(X_test)\n",
    "\n",
    "print(classification_report(y_test.reset_index(drop=True), pred))\n",
    "print(confusion_matrix(y_test.reset_index(drop=True), pred))"
   ]
  },
  {
   "cell_type": "markdown",
   "metadata": {
    "id": "8sw1lb_iupmL"
   },
   "source": [
    "Сравним его с версией из `sklearn`"
   ]
  },
  {
   "cell_type": "code",
   "execution_count": 35,
   "metadata": {
    "colab": {
     "base_uri": "https://localhost:8080/",
     "height": 204
    },
    "id": "JLY-jQ1ZunXw",
    "outputId": "426500c4-00ad-4be1-f680-044482bafdbf"
   },
   "outputs": [
    {
     "name": "stdout",
     "output_type": "stream",
     "text": [
      "              precision    recall  f1-score   support\n",
      "\n",
      "         ham       0.99      1.00      0.99      2416\n",
      "        spam       0.98      0.92      0.95       370\n",
      "\n",
      "    accuracy                           0.99      2786\n",
      "   macro avg       0.98      0.96      0.97      2786\n",
      "weighted avg       0.99      0.99      0.99      2786\n",
      "\n",
      "[[2408    8]\n",
      " [  30  340]]\n"
     ]
    }
   ],
   "source": [
    "from sklearn.naive_bayes import MultinomialNB\n",
    "\n",
    "clf = MultinomialNB(alpha=4)\n",
    "clf.fit(X_train, y_train)\n",
    "\n",
    "y_pred = clf.predict(X_test)\n",
    "print(classification_report(y_test, y_pred))\n",
    "\n",
    "print(confusion_matrix(y_test, y_pred))"
   ]
  },
  {
   "cell_type": "markdown",
   "metadata": {
    "id": "4Tph0obBsyhc"
   },
   "source": [
    "# Дополнительные материалы\n",
    "\n",
    "[Snowball](http://snowball.tartarus.org/) – фрэймворк для написания алгоритмов стемминга. Алгоритмы стемминга отличаются для разных языков и используют знания о конкретном языке – списки окончаний для разных чистей речи, разных склонений и т.д. Пример алгоритма для русского языка – [Russian stemming](http://snowballstem.org/algorithms/russian/stemmer.html).\n",
    "\n",
    "Доступно в библиотеке nltk: `stemmer = nltk.stem.snowball.RussianStemmer()`\n",
    "\n",
    "\n",
    "Для лемматизации русского языка можно использовать pymorphy2. \n",
    "```\n",
    "import pymorphy2\n",
    "morph = pymorphy2.MorphAnalyzer()\n",
    "morph.parse('играющих')[0]\n",
    "```"
   ]
  }
 ],
 "metadata": {
  "accelerator": "GPU",
  "colab": {
   "collapsed_sections": [],
   "name": "02_ws_text_classification_bayesV2.ipynb",
   "provenance": [],
   "toc_visible": true
  },
  "kernelspec": {
   "display_name": "Python 3",
   "language": "python",
   "name": "python3"
  },
  "language_info": {
   "codemirror_mode": {
    "name": "ipython",
    "version": 3
   },
   "file_extension": ".py",
   "mimetype": "text/x-python",
   "name": "python",
   "nbconvert_exporter": "python",
   "pygments_lexer": "ipython3",
   "version": "3.8.1"
  }
 },
 "nbformat": 4,
 "nbformat_minor": 1
}
