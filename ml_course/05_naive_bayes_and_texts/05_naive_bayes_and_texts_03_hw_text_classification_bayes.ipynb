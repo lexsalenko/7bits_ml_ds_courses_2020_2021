{
  "nbformat": 4,
  "nbformat_minor": 0,
  "metadata": {
    "kernelspec": {
      "display_name": "Python 3",
      "language": "python",
      "name": "python3"
    },
    "language_info": {
      "codemirror_mode": {
        "name": "ipython",
        "version": 3
      },
      "file_extension": ".py",
      "mimetype": "text/x-python",
      "name": "python",
      "nbconvert_exporter": "python",
      "pygments_lexer": "ipython3",
      "version": "3.8.1"
    },
    "colab": {
      "name": "05_naive_bayes_and_texts_03-hw-text-classification-bayes.ipynb",
      "provenance": [],
      "collapsed_sections": []
    }
  },
  "cells": [
    {
      "cell_type": "markdown",
      "metadata": {
        "id": "Ozw-QAS2awzU"
      },
      "source": [
        "# Workshop 8. Наивный Байес и Классификация текстов\n",
        "\n",
        "> Байесовские алгоритмы для классификации текстов  \n",
        "> Извлечение признаков из текста\n",
        "\n",
        "1. Скачайте этот ноутбук к себе.\n",
        "2. Заполните пропущенные ячейки, отвечая на заданные вопросы. Там должен быть код! (если не сказано обратное)\n",
        "3. Сохраните результат в своём гитхаб репозитории.\n",
        "\n",
        "### Полезная литература\n",
        "\n",
        "- [Naive Bayes and Text Classification](https://sebastianraschka.com/Articles/2014_naive_bayes_1.html)\n",
        "- [ODS - классификация](https://habrahabr.ru/company/ods/blog/322534/)\n",
        "- [Байесовский классификатор](http://www.machinelearning.ru/wiki/index.php?title=%D0%91%D0%B0%D0%B9%D0%B5%D1%81%D0%BE%D0%B2%D1%81%D0%BA%D0%B8%D0%B9_%D0%BA%D0%BB%D0%B0%D1%81%D1%81%D0%B8%D1%84%D0%B8%D0%BA%D0%B0%D1%82%D0%BE%D1%80)\n",
        "- [Интересная статья про спам/не спам](https://habrahabr.ru/post/252265/)\n",
        "\n",
        "Если вам понравилась задача распознавания текстов, то вот подборочка:\n",
        "\n",
        "- [библиотека Gensim](https://radimrehurek.com/gensim/)\n",
        "- [библиотека nltk](http://www.nltk.org/)\n",
        "- [Лекция про word2vec 🔥](https://www.youtube.com/watch?v=oBb9aFmp0Hs)\n",
        "- [Лекция Векторные представления слов и документов 🔥](https://www.youtube.com/watch?v=hiDBnEyoZS4)"
      ]
    },
    {
      "cell_type": "markdown",
      "metadata": {
        "id": "uExrzZzhawzW"
      },
      "source": [
        "## Наивный байесовский классификатор\n",
        "\n",
        "На практике мы использовали его для детекции спам/не спам. В этот раз вы будете классифицировать [новостные тексты](https://scikit-learn.org/0.19/datasets/twenty_newsgroups.html). Попробуете разные методы  генерации признаков из текстов."
      ]
    },
    {
      "cell_type": "code",
      "metadata": {
        "id": "f4YOl7Om-DNC"
      },
      "source": [
        "%matplotlib inline\n",
        "import pandas as pd\n",
        "import numpy as np\n",
        "from matplotlib import pyplot as plt\n",
        "import seaborn as sns\n",
        "from sklearn.model_selection import train_test_split, KFold, cross_val_score\n",
        "from sklearn.neighbors import KNeighborsClassifier\n",
        "from sklearn.metrics import classification_report, confusion_matrix, f1_score\n",
        "from sklearn.preprocessing import scale"
      ],
      "execution_count": 1,
      "outputs": []
    },
    {
      "cell_type": "code",
      "metadata": {
        "id": "uenUTCQFawzY",
        "outputId": "ef86f88f-2a24-4b74-96d0-63d2a927af49",
        "colab": {
          "base_uri": "https://localhost:8080/"
        }
      },
      "source": [
        "from sklearn.datasets import fetch_20newsgroups\n",
        "newsgroups_train = fetch_20newsgroups(subset='train', remove=('headers', 'footers', 'quotes'))\n",
        "newsgroups_train.target_names"
      ],
      "execution_count": 2,
      "outputs": [
        {
          "output_type": "stream",
          "text": [
            "Downloading 20news dataset. This may take a few minutes.\n",
            "Downloading dataset from https://ndownloader.figshare.com/files/5975967 (14 MB)\n"
          ],
          "name": "stderr"
        },
        {
          "output_type": "execute_result",
          "data": {
            "text/plain": [
              "['alt.atheism',\n",
              " 'comp.graphics',\n",
              " 'comp.os.ms-windows.misc',\n",
              " 'comp.sys.ibm.pc.hardware',\n",
              " 'comp.sys.mac.hardware',\n",
              " 'comp.windows.x',\n",
              " 'misc.forsale',\n",
              " 'rec.autos',\n",
              " 'rec.motorcycles',\n",
              " 'rec.sport.baseball',\n",
              " 'rec.sport.hockey',\n",
              " 'sci.crypt',\n",
              " 'sci.electronics',\n",
              " 'sci.med',\n",
              " 'sci.space',\n",
              " 'soc.religion.christian',\n",
              " 'talk.politics.guns',\n",
              " 'talk.politics.mideast',\n",
              " 'talk.politics.misc',\n",
              " 'talk.religion.misc']"
            ]
          },
          "metadata": {
            "tags": []
          },
          "execution_count": 2
        }
      ]
    },
    {
      "cell_type": "markdown",
      "metadata": {
        "id": "sUaZSZkxawzl"
      },
      "source": [
        "### 2.1 Загрузка данных (2 балла)\n",
        "\n",
        "Мы будем использовать только 4 класса текстов: `'alt.atheism', 'sci.space', 'talk.religion.misc', 'comp.graphics'`.\n",
        "\n",
        "Загрузите тренировочную и тестовую части датасета для этих категорий."
      ]
    },
    {
      "cell_type": "code",
      "metadata": {
        "id": "XuzyhnL-awzm"
      },
      "source": [
        "categories = ['alt.atheism', 'sci.space', 'talk.religion.misc', 'comp.graphics']\n",
        "newsgroups_train = fetch_20newsgroups(subset='train', categories=categories, shuffle=True, random_state=42)\n",
        "newsgroups_test = fetch_20newsgroups(subset='test', categories=categories, shuffle=True, random_state=42)\n",
        "train_data, train_labels = newsgroups_train.data, newsgroups_train.target\n",
        "test_data, test_labels = newsgroups_test.data, newsgroups_test.target"
      ],
      "execution_count": 3,
      "outputs": []
    },
    {
      "cell_type": "code",
      "metadata": {
        "id": "0LZMYGKOawzv",
        "outputId": "62f278a7-e5cc-4464-e06a-c27ed93d2cf5",
        "colab": {
          "base_uri": "https://localhost:8080/"
        }
      },
      "source": [
        "len(newsgroups_train.target)"
      ],
      "execution_count": 4,
      "outputs": [
        {
          "output_type": "execute_result",
          "data": {
            "text/plain": [
              "2034"
            ]
          },
          "metadata": {
            "tags": []
          },
          "execution_count": 4
        }
      ]
    },
    {
      "cell_type": "code",
      "metadata": {
        "id": "ONefI5XZjEVg",
        "outputId": "70f721cf-dabe-43b8-9e12-fe64bd95eb17",
        "colab": {
          "base_uri": "https://localhost:8080/"
        }
      },
      "source": [
        "for i in newsgroups_train:\n",
        "  print(i)"
      ],
      "execution_count": 5,
      "outputs": [
        {
          "output_type": "stream",
          "text": [
            "data\n",
            "filenames\n",
            "target_names\n",
            "target\n",
            "DESCR\n"
          ],
          "name": "stdout"
        }
      ]
    },
    {
      "cell_type": "markdown",
      "metadata": {
        "id": "pzT1Uzhcawz4"
      },
      "source": [
        "Выведите по 1 тексту для каждой из категории."
      ]
    },
    {
      "cell_type": "code",
      "metadata": {
        "scrolled": true,
        "id": "Buvb3uuYawz5",
        "outputId": "6c8c8f32-c1d9-443e-c799-5ff17a1bc939",
        "colab": {
          "base_uri": "https://localhost:8080/"
        }
      },
      "source": [
        "for cat in categories:\n",
        "    print(cat, fetch_20newsgroups(subset='train', categories=[cat]).data[:1], '\\n')"
      ],
      "execution_count": 6,
      "outputs": [
        {
          "output_type": "stream",
          "text": [
            "alt.atheism ['From: darice@yoyo.cc.monash.edu.au (Fred Rice)\\nSubject: Re: Islam & Dress Code for women\\nOrganization: Monash University, Melb., Australia.\\nLines: 120\\n\\nIn <16BA7103C3.I3150101@dbstu1.rz.tu-bs.de> I3150101@dbstu1.rz.tu-bs.de (Benedikt Rosenau) writes:\\n\\n>In article <1993Apr5.091258.11830@monu6.cc.monash.edu.au>\\n>darice@yoyo.cc.monash.edu.au (Fred Rice) writes:\\n> \\n>(Deletion)\\n>>>>Of course people say what they think to be the religion, and that this\\n>>>>is not exactly the same coming from different people within the\\n>>>>religion.  There is nothing with there existing different perspectives\\n>>>>within the religion -- perhaps one can say that they tend to converge on\\n>>>>the truth.\\n>>\\n>>>My point is that they are doing a lot of harm on the way in the meantime.\\n>>>\\n>>>And that they converge is counterfactual, religions appear to split and\\n>>>diverge. Even when there might be a \\'True Religion\\' at the core, the layers\\n>>>above determine what happens in practise, and they are quite inhumane\\n>>>usually.\\n>>>\\n> \\n>What you post then is supposed to be an answer, but I don\\'t see what is has\\n>got to do with what I say.\\n> \\n>I will repeat it. Religions as are harm people. And religions don\\'t\\n>converge, they split. Giving more to disagree upon. And there is a lot\\n>of disagreement to whom one should be tolerant or if one should be\\n>tolerant at all.\\n\\nIdeologies also split, giving more to disagree upon, and may also lead\\nto intolerance.  So do you also oppose all ideologies?\\n\\nI don\\'t think your argument is an argument against religion at all, but\\njust points out the weaknesses of human nature.\\n\\n>(Big deletion)\\n>>(2) Do women have souls in Islam?\\n>>\\n>>People have said here that some Muslims say that women do not have\\n>>souls.  I must admit I have never heard of such a view being held by\\n>>Muslims of any era.  I have heard of some Christians of some eras\\n>>holding this viewpoint, but not Muslims.  Are you sure you might not be\\n>>confusing Christian history with Islamic history?\\n> \\n>Yes, it is supposed to have been a predominant view in the Turkish\\n>Caliphate.\\n\\nI would like a reference if you have got one, for this is news to me.\\n\\n>>Anyhow, that women are the spiritual equals of men can be clearly shown\\n>>from many verses of the Qur\\'an.  For example, the Qur\\'an says:\\n>>\\n>>\"For Muslim men and women, --\\n>>for believing men and women,\\n>>for devout men and women,\\n>>for true men and women,\\n>>for men and women who are patient and constant,\\n>>for men and women who humble themselves,\\n>>for men and women who give in charity,\\n>>for men and women who fast (and deny themselves),\\n>>for men and women who guard their chastity,\\n>>and for men and women who engage much in God\\'s praise --\\n>>For them has God prepared forgiveness and a great reward.\"\\n>>\\n>>[Qur\\'an 33:35, Abdullah Yusuf Ali\\'s translation]\\n>>\\n>>There are other quotes too, but I think the above quote shows that men\\n>>and women are spiritual equals (and thus, that women have souls just as\\n>>men do) very clearly.\\n>>\\n> \\n>No, it does not. It implies that they have souls, but it does not say they\\n>have souls. And it is not given that the quote above is given a high\\n>priority in all interpretations.\\n\\nOne must approach the Qur\\'an with intelligence.  Any thinking approach\\nto the Qur\\'an cannot but interpret the above verse and others like it\\nthat women and men are spiritual equals.\\n\\nI think that the above verse does clearly imply that women have\\nsouls.  Does it make any sense for something without a soul to be\\nforgiven?  Or to have a great reward (understood to be in the\\nafter-life)?  I think the usual answer would be no -- in which case, the\\npart saying \"For them has God prepared forgiveness and a great reward\"\\nsays they have souls.  \\n\\n(If it makes sense to say that things without souls can be forgiven, then \\nI have no idea _what_ a soul is.)\\n\\nAs for your saying that the quote above may not be given a high priority\\nin all interpretations, any thinking approach to the Qur\\'an has to give\\nall verses of the Qur\\'an equal priority.  That is because, according to\\nMuslim belief, the _whole_ Qur\\'an is the revelation of God -- in fact,\\ndenying the truth of any part of the Qur\\'an is sufficient to be\\nconsidered a disbeliever in Islam.\\n\\n>Quite similar to you other post, even when the Quran does not encourage\\n>slavery, it is not justified to say that iit forbids or puts an end to\\n>slavery. It is a non sequitur.\\n\\nLook, any approach to the Qur\\'an must be done with intelligence and\\nthought.  It is in this fashion that one can try to understand the\\nQuran\\'s message.  In a book of finite length, it cannot explicitly\\nanswer every question you want to put to it, but through its teachings\\nit can guide you.  I think, however, that women are the spiritual equals\\nof men is clearly and unambiguously implied in the above verse, and that\\nsince women can clearly be \"forgiven\" and \"rewarded\" they _must_ have\\nsouls (from the above verse).\\n\\nLet\\'s try to understand what the Qur\\'an is trying to teach, rather than\\ntry to see how many ways it can be misinterpreted by ignoring this\\npassage or that passage.  The misinterpretations of the Qur\\'an based on\\nignoring this verse or that verse are infinite, but the interpretations \\nfully consistent are more limited.  Let\\'s try to discuss these\\ninterpretations consistent with the text rather than how people can\\nignore this bit or that bit, for that is just showing how people can try\\nto twist Islam for their own ends -- something I do not deny -- but\\nprovides no reflection on the true teachings of Islam whatsoever.\\n\\n Fred Rice\\n darice@yoyo.cc.monash.edu.au   \\n'] \n",
            "\n",
            "sci.space [\"From: henry@zoo.toronto.edu (Henry Spencer)\\nSubject: Re: japanese moon landing?\\nOrganization: U of Toronto Zoology\\nLines: 21\\n\\nIn article <1qnb9tINN7ff@rave.larc.nasa.gov> C.O.EGALON@LARC.NASA.GOV (CLAUDIO OLIVEIRA EGALON) writes:\\n>> there is no such thing as a stable lunar orbit\\n>\\n>Is it right??? That is new stuff for me. So it means that  you just can \\n>not put a sattellite around around the Moon for too long because its \\n>orbit will be unstable??? If so, what is the reason??? Is that because \\n>the combined gravitacional atraction of the Sun,Moon and Earth \\n>that does not provide a stable  orbit around the Moon???\\n\\nAny lunar satellite needs fuel to do regular orbit corrections, and when\\nits fuel runs out it will crash within months.  The orbits of the Apollo\\nmotherships changed noticeably during lunar missions lasting only a few\\ndays.  It is *possible* that there are stable orbits here and there --\\nthe Moon's gravitational field is poorly mapped -- but we know of none.\\n\\nPerturbations from Sun and Earth are relatively minor issues at low\\naltitudes.  The big problem is that the Moon's own gravitational field\\nis quite lumpy due to the irregular distribution of mass within the Moon.\\n-- \\nAll work is one man's work.             | Henry Spencer @ U of Toronto Zoology\\n                    - Kipling           |  henry@zoo.toronto.edu  utzoo!henry\\n\"] \n",
            "\n",
            "talk.religion.misc ['From: cj195@cleveland.Freenet.Edu (John W. Redelfs)\\nSubject: Re: Disillusioned Protestant Finds Christ\\nOrganization: Case Western Reserve University, Cleveland, OH (USA)\\nLines: 22\\nReply-To: cj195@cleveland.Freenet.Edu (John W. Redelfs)\\nNNTP-Posting-Host: hela.ins.cwru.edu\\n\\n\\nIn a previous article, tom@tredysvr.Tredydev.Unisys.COM (Tom Albrecht) says:\\n\\n>In article <1qb726$j9d@usenet.INS.CWRU.Edu< cj195@cleveland.Freenet.Edu (John W. Redelfs) writes:\\n><\\n><I learned that God loves his children who have never heard of him and has a\\n><plan for redeeming them too, even those who have died without a knowledge\\n><of Christ.  I learned that a man cannot frustrate justice by repenting on\\n><his death bed because repentance is more than a feeling of remorse.  It\\n><requires faith in Christ proven by following him, by keeping his\\n><commandments.  Such cannot be accomplished on ones deathbed.\\n>\\n>So Jesus must have lied to the thief on the cross.\\n\\nParadise and salvation are not the same thing.  Salvation is better.  Refer\\nto John 14:2.\\n>-- \\n>Tom Albrecht\\n>\\n-- \\n------------ John W. Redelfs, cj195@cleveland.freenet.edu -------------\\n--------- All my opinions are tentative pending further data. ---------\\n'] \n",
            "\n",
            "comp.graphics [\"From: bbs.mirage@tsoft.net (Jerry Lee)\\nSubject: Cobra 2.0 1-b-1 Video card HELP ME!!!!\\nOrganization: The TSoft BBS and Public Access Unix, +1 415 969 8238\\nLines: 22\\n\\nDoes ANYONE out there in Net-land have any information on the Cobra 2.20 \\ncard?  The sticker on the end of the card reads\\n        Model: Cobra 1-B-1\\n        Bios:  Cobra v2.20\\n\\nI Havn't been able to find anything about it from anyone!  If you have \\nany information on how to get a hold of the company which produces the \\ncard or know where any drivers are for it, PLEASE let me know!\\n\\nAs far as I can tell, it's a CGA card that is taking up 2 of my 16-bit \\nISA slots but when I enable the test patterns, it displays much more than \\nthe usualy 4 CGA colors... At least 16 from what I can count.. Thanks!\\n\\n              .------------------------------------------.\\n              : Internet: jele@eis.calstate.edu          :\\n              :           bbs.mirage@gilligan.tsoft.net  :\\n              :           bbs.mirage@tsoft.sf-bay.org    :\\n              :           mirage@thetech.com             :\\n              : UUCP    : apple.com!tsoft!bbs.mirage     :\\n              `------------------------------------------'\\n \\n                    Computer and Video Imaging Major\\n\"] \n",
            "\n"
          ],
          "name": "stdout"
        }
      ]
    },
    {
      "cell_type": "markdown",
      "metadata": {
        "id": "NpwP3uR2aw0L"
      },
      "source": [
        "### 2.2 Мешок слов\n",
        "\n",
        "Начнем с самого простого способа извлечения признаков из текстов: обычный подсчет количества употреблений слов в тексте.\n",
        "\n",
        "Для этого используем [sklearn.feature_extraction.text.CountVectorizer](http://scikit-learn.org/stable/modules/generated/sklearn.feature_extraction.text.CountVectorizer.html). Настройте его так, чтобы он использовал англиские стоп слова.\n",
        "\n",
        "Проведите трансформаци текстов из обоих датасетов и выведите размер полученного словаря. (1 векторайзер для тестового и тренировочного датасета! У вас должны получиться матрицы с одинаковыми признаками-словами)"
      ]
    },
    {
      "cell_type": "code",
      "metadata": {
        "id": "cLYH-0rx-9Dt"
      },
      "source": [
        "all_data = list()\n",
        "all_data.extend(train_data)\n",
        "all_data.extend(test_data)"
      ],
      "execution_count": 7,
      "outputs": []
    },
    {
      "cell_type": "code",
      "metadata": {
        "id": "8DnXznYqaw0O"
      },
      "source": [
        "from sklearn.feature_extraction.text import CountVectorizer\n",
        "count_vect = CountVectorizer(stop_words='english')\n",
        "count_vect.fit(all_data)\n",
        "X_train_counts = count_vect.transform(train_data)\n",
        "X_test_counts = count_vect.transform(test_data)"
      ],
      "execution_count": 8,
      "outputs": []
    },
    {
      "cell_type": "code",
      "metadata": {
        "id": "2VPXyTCuaw0Z",
        "outputId": "568870da-0ac1-4204-f428-1df3d71cb092",
        "colab": {
          "base_uri": "https://localhost:8080/"
        }
      },
      "source": [
        "X_train_counts.shape"
      ],
      "execution_count": 9,
      "outputs": [
        {
          "output_type": "execute_result",
          "data": {
            "text/plain": [
              "(2034, 43255)"
            ]
          },
          "metadata": {
            "tags": []
          },
          "execution_count": 9
        }
      ]
    },
    {
      "cell_type": "code",
      "metadata": {
        "id": "NxlVMChPFTon",
        "outputId": "6309af4f-12cb-4af3-a298-9ab26a659cdb",
        "colab": {
          "base_uri": "https://localhost:8080/"
        }
      },
      "source": [
        "count_vect.vocabulary_.get(u'algorithm')"
      ],
      "execution_count": 10,
      "outputs": [
        {
          "output_type": "execute_result",
          "data": {
            "text/plain": [
              "6735"
            ]
          },
          "metadata": {
            "tags": []
          },
          "execution_count": 10
        }
      ]
    },
    {
      "cell_type": "code",
      "metadata": {
        "id": "MrGNyGw9aw0n",
        "outputId": "6753f4ec-7fa2-4356-df81-d0a9d132a75e",
        "colab": {
          "base_uri": "https://localhost:8080/"
        }
      },
      "source": [
        "X_test_counts.shape"
      ],
      "execution_count": 11,
      "outputs": [
        {
          "output_type": "execute_result",
          "data": {
            "text/plain": [
              "(1353, 43255)"
            ]
          },
          "metadata": {
            "tags": []
          },
          "execution_count": 11
        }
      ]
    },
    {
      "cell_type": "markdown",
      "metadata": {
        "id": "oJiVP7vBaw0x"
      },
      "source": [
        "Будем использовать классифиактор для мультиклассифкации [sklearn.naive_bayes.MultinomialNB]().\n",
        "\n",
        "- Проведите кроссвалидацию на 5 фолдах для метрики `accuracy`.\n",
        "- обучите на тренировочных данных, \n",
        "- нарисуйте красивую confusion матрицу, (с именами классов, а не индексами по осям)\n",
        "- выведите отчет классификации для тестовой выборки (с именами классов, а не индексами)"
      ]
    },
    {
      "cell_type": "code",
      "metadata": {
        "id": "Yn3ujqnkaw0z"
      },
      "source": [
        "from sklearn.metrics import classification_report\n",
        "from sklearn.metrics import confusion_matrix\n",
        "from sklearn.naive_bayes import MultinomialNB\n",
        "from sklearn.model_selection import cross_val_score\n",
        "from sklearn.model_selection import StratifiedKFold\n",
        "import numpy as np"
      ],
      "execution_count": 12,
      "outputs": []
    },
    {
      "cell_type": "code",
      "metadata": {
        "id": "JyQz-7Mbaw0-",
        "outputId": "1cd779e4-f50d-4605-db0d-adfdebf3d1a2",
        "colab": {
          "base_uri": "https://localhost:8080/"
        }
      },
      "source": [
        "clf = MultinomialNB()\n",
        "cv = StratifiedKFold(n_splits=5, shuffle=True, random_state=42)\n",
        "scores = cross_val_score(clf, X_train_counts, train_labels, scoring='accuracy', cv=cv, n_jobs = -1)\n",
        "print('mean = ', scores.mean(), ' std = ', np.std(scores))"
      ],
      "execution_count": 13,
      "outputs": [
        {
          "output_type": "stream",
          "text": [
            "mean =  0.959683373476477  std =  0.005531633627262167\n"
          ],
          "name": "stdout"
        }
      ]
    },
    {
      "cell_type": "code",
      "metadata": {
        "id": "8Ajx1EAEaw1E",
        "outputId": "d69be19b-ddd9-4434-c6ec-ce3478a64814",
        "colab": {
          "base_uri": "https://localhost:8080/"
        }
      },
      "source": [
        "clf.fit(X_train_counts, train_labels)"
      ],
      "execution_count": 14,
      "outputs": [
        {
          "output_type": "execute_result",
          "data": {
            "text/plain": [
              "MultinomialNB(alpha=1.0, class_prior=None, fit_prior=True)"
            ]
          },
          "metadata": {
            "tags": []
          },
          "execution_count": 14
        }
      ]
    },
    {
      "cell_type": "code",
      "metadata": {
        "id": "p8CDaK2_5LKn",
        "outputId": "f645d7c7-a1c4-49fc-fa6c-f1af3945f4e8",
        "colab": {
          "base_uri": "https://localhost:8080/"
        }
      },
      "source": [
        "%time y_pred = clf.predict(X_test_counts)\n",
        "y_test = newsgroups_test.target"
      ],
      "execution_count": 15,
      "outputs": [
        {
          "output_type": "stream",
          "text": [
            "CPU times: user 4.09 ms, sys: 270 µs, total: 4.36 ms\n",
            "Wall time: 6.16 ms\n"
          ],
          "name": "stdout"
        }
      ]
    },
    {
      "cell_type": "code",
      "metadata": {
        "id": "5esJgUH9aw1O",
        "outputId": "7a037e2a-4827-435d-c1bb-f659c58b5303",
        "colab": {
          "base_uri": "https://localhost:8080/",
          "height": 769
        }
      },
      "source": [
        "plt.figure(figsize=(12,12)) \n",
        "\n",
        "heatmap = sns.heatmap(confusion_matrix(y_test, y_pred), cmap=plt.cm.Blues, square=True, annot=True, fmt='.4g')\n",
        "heatmap.set_xticklabels(categories, rotation=45)\n",
        "heatmap.set_yticklabels(categories, rotation=45)"
      ],
      "execution_count": 16,
      "outputs": [
        {
          "output_type": "execute_result",
          "data": {
            "text/plain": [
              "[Text(0, 0.5, 'alt.atheism'),\n",
              " Text(0, 1.5, 'sci.space'),\n",
              " Text(0, 2.5, 'talk.religion.misc'),\n",
              " Text(0, 3.5, 'comp.graphics')]"
            ]
          },
          "metadata": {
            "tags": []
          },
          "execution_count": 16
        },
        {
          "output_type": "display_data",
          "data": {
            "image/png": "[encoded data removed]",
            "text/plain": [
              "<Figure size 864x864 with 2 Axes>"
            ]
          },
          "metadata": {
            "tags": [],
            "needs_background": "light"
          }
        }
      ]
    },
    {
      "cell_type": "code",
      "metadata": {
        "id": "s-TZPo3Iaw1b",
        "outputId": "606cca4f-5e7f-4735-be58-135332034b12",
        "colab": {
          "base_uri": "https://localhost:8080/"
        }
      },
      "source": [
        "print(classification_report(y_test, y_pred)) # Тестовая выборка"
      ],
      "execution_count": 17,
      "outputs": [
        {
          "output_type": "stream",
          "text": [
            "              precision    recall  f1-score   support\n",
            "\n",
            "           0       0.82      0.90      0.86       319\n",
            "           1       0.94      0.96      0.95       389\n",
            "           2       0.94      0.95      0.95       394\n",
            "           3       0.87      0.75      0.80       251\n",
            "\n",
            "    accuracy                           0.90      1353\n",
            "   macro avg       0.90      0.89      0.89      1353\n",
            "weighted avg       0.90      0.90      0.90      1353\n",
            "\n"
          ],
          "name": "stdout"
        }
      ]
    },
    {
      "cell_type": "code",
      "metadata": {
        "id": "yMezKtfvHjp-",
        "outputId": "61eb2ef1-b65b-4299-8808-945d73b81de7",
        "colab": {
          "base_uri": "https://localhost:8080/"
        }
      },
      "source": [
        "print(classification_report(train_labels, clf.predict(X_train_counts))) # Обучающая выборка"
      ],
      "execution_count": 18,
      "outputs": [
        {
          "output_type": "stream",
          "text": [
            "              precision    recall  f1-score   support\n",
            "\n",
            "           0       0.96      1.00      0.98       480\n",
            "           1       1.00      1.00      1.00       584\n",
            "           2       1.00      1.00      1.00       593\n",
            "           3       0.99      0.95      0.97       377\n",
            "\n",
            "    accuracy                           0.99      2034\n",
            "   macro avg       0.99      0.99      0.99      2034\n",
            "weighted avg       0.99      0.99      0.99      2034\n",
            "\n"
          ],
          "name": "stdout"
        }
      ]
    },
    {
      "cell_type": "code",
      "metadata": {
        "id": "sVKnUNhbaw1r",
        "outputId": "54b003b5-e65c-4c14-c7b9-d7b3f183403f",
        "colab": {
          "base_uri": "https://localhost:8080/"
        }
      },
      "source": [
        "# Посмотрим на ТОП 10 по важности слова в каждой категории\n",
        "\n",
        "def show_top10(classifier, vectorizer, categories):\n",
        "    feature_names = np.asarray(vectorizer.get_feature_names())\n",
        "    for i, category in enumerate(categories):\n",
        "        top10 = np.argsort(classifier.coef_[i])[-10:]\n",
        "        print(\"%s: [%s]\" % (category, \" \".join(feature_names[top10])))\n",
        "\n",
        "show_top10(clf, count_vect, newsgroups_train.target_names)"
      ],
      "execution_count": 19,
      "outputs": [
        {
          "output_type": "stream",
          "text": [
            "alt.atheism: [article organization don lines subject com writes people god edu]\n",
            "comp.graphics: [file posting university com image organization graphics subject lines edu]\n",
            "sci.space: [gov article writes com lines organization subject nasa edu space]\n",
            "talk.religion.misc: [article writes lines jesus organization people subject god com edu]\n"
          ],
          "name": "stdout"
        }
      ]
    },
    {
      "cell_type": "markdown",
      "metadata": {
        "id": "tJRrbykCaw11"
      },
      "source": [
        "### 2.3 [Tf-IDF](https://ru.wikipedia.org/wiki/TF-IDF)\n",
        "\n",
        "Мешок слов не учитывает \"веса\" слов, он просто смотрит их вхождение в документ. Вероятно, было бы полезно взвесить каким-то обраом каждое слово в документе. Действительно, если слово встречается во всех документах, то, наверное, его вес небольшой. А если редкое слово встречается в некоторых документах, то скорее всего оно какое-то узко тематическое.\n",
        "\n",
        "Один из способов взвесить слова - это использовать меру tf-idf, где:\n",
        "\n",
        "**TF - term frequency** - частота слова для каждой статьи\n",
        "\n",
        "$$\\LARGE \\mathrm{tf}(t,d) = \\frac{n_t}{\\sum_k n_k}$$\n",
        "\n",
        "**IDF - inverse document frequency*** — обратная частота документа - уменьшает вес часто встречаемых слов\n",
        "\n",
        "$$\\LARGE \\mathrm{idf}(t, D) =  \\log \\frac{|D|}{|\\{\\,d_i \\in D \\mid t \\in d_{i}\\, \\}|}$$\n",
        "\n",
        "$D$ - число документов в корпусе\n",
        "\n",
        "$|\\{\\,d_i \\in D \\mid t \\in d_{i}\\, \\}|$ - число документов из коллекции ${\\displaystyle D}$ , в которых встречается ${\\displaystyle t}$  (когда ${\\displaystyle n_{t}\\neq 0}$ ).\n",
        "\n",
        "**TF-IDF**\n",
        "\n",
        "$$\\LARGE \\operatorname{tf-idf}(t,d,D) = \\operatorname{tf}(t,d) \\times \\operatorname{idf}(t, D)$$\n",
        "\n",
        "\n",
        "Для него есть класс [sklearn.feature_extraction.text.TfidfVectorizer](http://scikit-learn.org/stable/modules/generated/sklearn.feature_extraction.text.TfidfVectorizer.html)"
      ]
    },
    {
      "cell_type": "markdown",
      "metadata": {
        "id": "tQGJArM2aw13"
      },
      "source": [
        "- Проведите кроссвалидацию на 5 фолдах для метрики `accuracy`.\n",
        "- обучите на тренировочных данных, \n",
        "- нарисуйте красивую confusion матрицу, (с именами классов, а не индексами по осям)\n",
        "- выведите отчет классификации для тестовой выборки (с именами классов, а не индексами)"
      ]
    },
    {
      "cell_type": "code",
      "metadata": {
        "id": "7Fvork2kaw14"
      },
      "source": [
        "from sklearn.feature_extraction.text import TfidfVectorizer\n",
        "\n",
        "vectorizer = TfidfVectorizer()\n",
        "\n",
        "vectorizer.fit(all_data)\n",
        "\n",
        "X_train_tfidf = vectorizer.transform(train_data)\n",
        "X_test_tfidf = vectorizer.transform(test_data)"
      ],
      "execution_count": 20,
      "outputs": []
    },
    {
      "cell_type": "code",
      "metadata": {
        "id": "lZWGjec5aw2B",
        "outputId": "f1b9e4a7-82c4-4c99-c488-874222e5bf90",
        "colab": {
          "base_uri": "https://localhost:8080/"
        }
      },
      "source": [
        "X_train_tfidf.shape"
      ],
      "execution_count": 21,
      "outputs": [
        {
          "output_type": "execute_result",
          "data": {
            "text/plain": [
              "(2034, 43562)"
            ]
          },
          "metadata": {
            "tags": []
          },
          "execution_count": 21
        }
      ]
    },
    {
      "cell_type": "code",
      "metadata": {
        "id": "s2Bm-v1QKahQ",
        "outputId": "99a82c91-4d3f-4f91-e504-c281fd3e517a",
        "colab": {
          "base_uri": "https://localhost:8080/"
        }
      },
      "source": [
        "X_test_tfidf.shape"
      ],
      "execution_count": 22,
      "outputs": [
        {
          "output_type": "execute_result",
          "data": {
            "text/plain": [
              "(1353, 43562)"
            ]
          },
          "metadata": {
            "tags": []
          },
          "execution_count": 22
        }
      ]
    },
    {
      "cell_type": "code",
      "metadata": {
        "id": "-YL88NK-aw2H",
        "outputId": "2bb3ab7e-f2ca-4f00-9427-eea0c4990a3f",
        "colab": {
          "base_uri": "https://localhost:8080/"
        }
      },
      "source": [
        "clfNB = MultinomialNB()\n",
        "cv = StratifiedKFold(n_splits=5, shuffle=True, random_state=42)\n",
        "scores = cross_val_score(clfNB, X_train_tfidf, train_labels, scoring='accuracy', cv=cv, n_jobs = -1)\n",
        "print('mean = ', scores.mean(), ' std = ', np.std(scores))"
      ],
      "execution_count": 23,
      "outputs": [
        {
          "output_type": "stream",
          "text": [
            "mean =  0.8800329214122318  std =  0.007304978913407815\n"
          ],
          "name": "stdout"
        }
      ]
    },
    {
      "cell_type": "code",
      "metadata": {
        "id": "EoQqMU6AKqNj",
        "outputId": "a80e398a-f150-406a-949b-a542c3161847",
        "colab": {
          "base_uri": "https://localhost:8080/"
        }
      },
      "source": [
        "clfNB.fit(X_train_tfidf, train_labels)"
      ],
      "execution_count": 24,
      "outputs": [
        {
          "output_type": "execute_result",
          "data": {
            "text/plain": [
              "MultinomialNB(alpha=1.0, class_prior=None, fit_prior=True)"
            ]
          },
          "metadata": {
            "tags": []
          },
          "execution_count": 24
        }
      ]
    },
    {
      "cell_type": "code",
      "metadata": {
        "id": "ZhY234w6Ky1c",
        "outputId": "d3ee9dc0-4d4a-47bb-f539-a460e229fa47",
        "colab": {
          "base_uri": "https://localhost:8080/"
        }
      },
      "source": [
        "%time y_pred = clfNB.predict(X_test_tfidf)\n",
        "y_test = newsgroups_test.target"
      ],
      "execution_count": 25,
      "outputs": [
        {
          "output_type": "stream",
          "text": [
            "CPU times: user 4.62 ms, sys: 0 ns, total: 4.62 ms\n",
            "Wall time: 5 ms\n"
          ],
          "name": "stdout"
        }
      ]
    },
    {
      "cell_type": "code",
      "metadata": {
        "id": "gv8_3TewLF7w",
        "outputId": "20a2d888-48bb-4d33-ed81-42cc0a5bcec5",
        "colab": {
          "base_uri": "https://localhost:8080/",
          "height": 769
        }
      },
      "source": [
        "plt.figure(figsize=(12,12)) \n",
        "\n",
        "heatmap = sns.heatmap(confusion_matrix(y_test, y_pred), cmap=plt.cm.Blues, square=True, annot=True, fmt='.4g')\n",
        "heatmap.set_xticklabels(categories, rotation=45)\n",
        "heatmap.set_yticklabels(categories, rotation=45)"
      ],
      "execution_count": 26,
      "outputs": [
        {
          "output_type": "execute_result",
          "data": {
            "text/plain": [
              "[Text(0, 0.5, 'alt.atheism'),\n",
              " Text(0, 1.5, 'sci.space'),\n",
              " Text(0, 2.5, 'talk.religion.misc'),\n",
              " Text(0, 3.5, 'comp.graphics')]"
            ]
          },
          "metadata": {
            "tags": []
          },
          "execution_count": 26
        },
        {
          "output_type": "display_data",
          "data": {
            "image/png": "[encoded data removed]",
            "text/plain": [
              "<Figure size 864x864 with 2 Axes>"
            ]
          },
          "metadata": {
            "tags": [],
            "needs_background": "light"
          }
        }
      ]
    },
    {
      "cell_type": "code",
      "metadata": {
        "id": "RgzbVraJLQZE",
        "outputId": "8d9663ee-c17e-454f-ef97-c346d8801bb6",
        "colab": {
          "base_uri": "https://localhost:8080/"
        }
      },
      "source": [
        "print(classification_report(y_test, y_pred)) # Тестовая выборка"
      ],
      "execution_count": 27,
      "outputs": [
        {
          "output_type": "stream",
          "text": [
            "              precision    recall  f1-score   support\n",
            "\n",
            "           0       0.67      0.94      0.78       319\n",
            "           1       0.96      0.91      0.94       389\n",
            "           2       0.86      0.98      0.91       394\n",
            "           3       0.97      0.34      0.51       251\n",
            "\n",
            "    accuracy                           0.83      1353\n",
            "   macro avg       0.86      0.79      0.79      1353\n",
            "weighted avg       0.86      0.83      0.81      1353\n",
            "\n"
          ],
          "name": "stdout"
        }
      ]
    },
    {
      "cell_type": "code",
      "metadata": {
        "id": "kKDQ4YxzIAHM",
        "outputId": "1cf6f0fa-3169-4d10-9eb8-ea4e45d6b3fc",
        "colab": {
          "base_uri": "https://localhost:8080/"
        }
      },
      "source": [
        "print(classification_report(train_labels, clfNB.predict(X_train_tfidf))) # Обучающая выборка"
      ],
      "execution_count": 28,
      "outputs": [
        {
          "output_type": "stream",
          "text": [
            "              precision    recall  f1-score   support\n",
            "\n",
            "           0       0.82      1.00      0.90       480\n",
            "           1       1.00      0.99      1.00       584\n",
            "           2       0.98      1.00      0.99       593\n",
            "           3       1.00      0.70      0.83       377\n",
            "\n",
            "    accuracy                           0.94      2034\n",
            "   macro avg       0.95      0.92      0.93      2034\n",
            "weighted avg       0.95      0.94      0.94      2034\n",
            "\n"
          ],
          "name": "stdout"
        }
      ]
    },
    {
      "cell_type": "code",
      "metadata": {
        "id": "kzk9yxAaaw2U",
        "outputId": "b60cef1c-b8cd-4b55-adb0-6f25b37c4a2b",
        "colab": {
          "base_uri": "https://localhost:8080/"
        }
      },
      "source": [
        "show_top10(clfNB, vectorizer, newsgroups_train.target_names)"
      ],
      "execution_count": 29,
      "outputs": [
        {
          "output_type": "stream",
          "text": [
            "alt.atheism: [edu it and you in that is of to the]\n",
            "comp.graphics: [edu in graphics for it is and of to the]\n",
            "sci.space: [edu it that is in and space to of the]\n",
            "talk.religion.misc: [not it you in is that and to of the]\n"
          ],
          "name": "stdout"
        }
      ]
    },
    {
      "cell_type": "markdown",
      "metadata": {
        "id": "u9u6yToAaw2b"
      },
      "source": [
        "### 2.4 В чём проблема?\n",
        "\n",
        "Как вы заметили, качество немного улучшилось. Как вы думаете почему у нас до сих пор есть ошибки? В чём проблема? Опирайтесь на вывод топа 10 важных слов, confusion matrix и репорт классификации.\n",
        "\n",
        "**Задание**: Напишите развернутое рассуждение."
      ]
    },
    {
      "cell_type": "markdown",
      "metadata": {
        "id": "DR7OMIOaaw2d"
      },
      "source": [
        "Ответ: CountVectorizer дает нам вектор с количеством раз, когда каждое слово появляется в документе. Это приводит к нескольким проблемам, в основном из-за того, что часто встречаются такие общие слова, как «a», «the», «and», «an» и т. l.. А другие слова, содержащие информацию о теме документа, будут встречаться реже. Если мы тренируем классификатор для идентификации документов, связанных с ИИ, мы не хотим, чтобы он учил такие слова, как «а» и «the», потому что они будут в каждом отдельном документе (оба относятся к ИИ и не связаны с документами. ). Более того, количество употреблений этих терминов, не относящихся к теме, будет значительно выше, чем любого другого термина. Это заставит их иметь самый высокий вес в модели просто из-за того, что они часто встречаются, и исказят нашу модель.\n",
        "\n",
        "Способ борьбы с этой проблемой - использование TF-IDF. Что делает TF-IDF, так это уравновешивает частоту термина (как часто слово появляется в документе) с его обратной частотой в документе (как часто термин встречается во всех документах в наборе данных). Это означает, что такие слова, как «a» и «the», будут иметь очень низкие оценки, поскольку они будут отображаться во всех документах в нашем наборе. Более редкие слова, такие как, например, «машинное обучение», будут очень часто встречаться лишь в нескольких документах, посвященных информатике или искусственному интеллекту. TF-IDF будет давать более высокие оценки этим словам, и поэтому они будут теми словами, которые модель считает важными и пытается выучить.\n",
        "\n",
        "Здесь, качество модели CountVectorizer может быть следствием переобучения. Так как мы видим, что точность на обучающей выборке почти 100 процентов. \n",
        "\n",
        "Также можно попробовать подобрать гиперпараметры для модели обучения. Пробовать распознавать фразы, так как в английском языке распространены понятия, состоящие из нескольких слов, поэтому имеет смысл включить их."
      ]
    },
    {
      "cell_type": "markdown",
      "metadata": {
        "id": "s3MgOMD2aw2e"
      },
      "source": [
        "![](https://i.imgur.com/3D5pgrk.png)"
      ]
    },
    {
      "cell_type": "markdown",
      "metadata": {
        "id": "SZvryUgRaw2f"
      },
      "source": [
        "Можно еще немного улучшить качество предсказания, если использовть n-граммы, то есть не только одиночные слова, но и пары, тройки. Для этого у векторайзера есть параметр `ngram_range`, но будьте осторожны, сгенерируется очень много признаков. Их количество можно ограничить  `max_features`. Ещё можно копать в сторону правильного процессинга текстов: лемматизация и стемминг, чтобы убирать окончания, но это обчно не сильно помогает в английском языке.\n",
        "\n",
        "Кроме того можно было бы пойти совсем в другую сторону и использовать word-2-vec технологии, тогда бы у нас слова начал \"обретать\" смысл. Но это вовсем другая история."
      ]
    },
    {
      "cell_type": "code",
      "metadata": {
        "id": "AtA88VPQSSEp"
      },
      "source": [
        "ng_vectorizer1 = TfidfVectorizer(stop_words='english', ngram_range=(2,2), max_features=55000, max_df=1.0, min_df=1)\n",
        "\n",
        "ng_vectorizer1.fit(all_data)\n",
        "\n",
        "X_train_tfidf_ng1 = ng_vectorizer1.transform(train_data)\n",
        "X_test_tfidf_ng1 = ng_vectorizer1.transform(test_data)\n",
        "\n",
        "ng_vectorizer2 = TfidfVectorizer(stop_words='english', ngram_range=(3,3), max_features=55000, max_df=1.0, min_df=1)\n",
        "\n",
        "ng_vectorizer2.fit(all_data)\n",
        "\n",
        "X_train_tfidf_ng2 = ng_vectorizer2.transform(train_data)\n",
        "X_test_tfidf_ng2 = ng_vectorizer2.transform(test_data)\n",
        "\n",
        "ng_vectorizer3 = TfidfVectorizer(stop_words='english', ngram_range=(1,3), max_features=55000, max_df=1.0, min_df=1)\n",
        "\n",
        "ng_vectorizer3.fit(all_data)\n",
        "\n",
        "X_train_tfidf_ng3 = ng_vectorizer3.transform(train_data)\n",
        "X_test_tfidf_ng3 = ng_vectorizer3.transform(test_data)"
      ],
      "execution_count": 30,
      "outputs": []
    },
    {
      "cell_type": "code",
      "metadata": {
        "id": "mZm9LKHpUKQW",
        "outputId": "899cbdf6-2faf-4f54-de77-b86563f3786e",
        "colab": {
          "base_uri": "https://localhost:8080/"
        }
      },
      "source": [
        "clfNB1 = MultinomialNB()\n",
        "cv = StratifiedKFold(n_splits=5, shuffle=True, random_state=42)\n",
        "scores = cross_val_score(clfNB1, X_train_tfidf_ng1, train_labels, scoring='accuracy', cv=cv, n_jobs = -1)\n",
        "print('mean = ', scores.mean(), ' std = ', np.std(scores))"
      ],
      "execution_count": 31,
      "outputs": [
        {
          "output_type": "stream",
          "text": [
            "mean =  0.9385374178477628  std =  0.008716018056444548\n"
          ],
          "name": "stdout"
        }
      ]
    },
    {
      "cell_type": "code",
      "metadata": {
        "id": "-3vYJPfEUdrd",
        "outputId": "efd4278e-d05d-470d-e81e-2bec932e3492",
        "colab": {
          "base_uri": "https://localhost:8080/",
          "height": 804
        }
      },
      "source": [
        "clfNB1.fit(X_train_tfidf, train_labels)\n",
        "\n",
        "%time y_pred = clfNB1.predict(X_test_tfidf)\n",
        "y_test = newsgroups_test.target\n",
        "\n",
        "plt.figure(figsize=(12,12)) \n",
        "\n",
        "heatmap = sns.heatmap(confusion_matrix(y_test, y_pred), cmap=plt.cm.Blues, square=True, annot=True, fmt='.4g')\n",
        "heatmap.set_xticklabels(categories, rotation=45)\n",
        "heatmap.set_yticklabels(categories, rotation=45)"
      ],
      "execution_count": 32,
      "outputs": [
        {
          "output_type": "stream",
          "text": [
            "CPU times: user 2.53 ms, sys: 0 ns, total: 2.53 ms\n",
            "Wall time: 2.54 ms\n"
          ],
          "name": "stdout"
        },
        {
          "output_type": "execute_result",
          "data": {
            "text/plain": [
              "[Text(0, 0.5, 'alt.atheism'),\n",
              " Text(0, 1.5, 'sci.space'),\n",
              " Text(0, 2.5, 'talk.religion.misc'),\n",
              " Text(0, 3.5, 'comp.graphics')]"
            ]
          },
          "metadata": {
            "tags": []
          },
          "execution_count": 32
        },
        {
          "output_type": "display_data",
          "data": {
            "image/png": "[encoded data removed]",
            "text/plain": [
              "<Figure size 864x864 with 2 Axes>"
            ]
          },
          "metadata": {
            "tags": [],
            "needs_background": "light"
          }
        }
      ]
    },
    {
      "cell_type": "code",
      "metadata": {
        "id": "9LwLISCgUoLq",
        "outputId": "022e4b85-c461-4114-ca64-a264645a97f0",
        "colab": {
          "base_uri": "https://localhost:8080/"
        }
      },
      "source": [
        "print(classification_report(y_test, y_pred)) # Тестовая выборка"
      ],
      "execution_count": 33,
      "outputs": [
        {
          "output_type": "stream",
          "text": [
            "              precision    recall  f1-score   support\n",
            "\n",
            "           0       0.67      0.94      0.78       319\n",
            "           1       0.96      0.91      0.94       389\n",
            "           2       0.86      0.98      0.91       394\n",
            "           3       0.97      0.34      0.51       251\n",
            "\n",
            "    accuracy                           0.83      1353\n",
            "   macro avg       0.86      0.79      0.79      1353\n",
            "weighted avg       0.86      0.83      0.81      1353\n",
            "\n"
          ],
          "name": "stdout"
        }
      ]
    },
    {
      "cell_type": "code",
      "metadata": {
        "id": "gUWk1kXaUKWK",
        "outputId": "1169c010-f6ba-41de-b66b-804899f3f8c5",
        "colab": {
          "base_uri": "https://localhost:8080/"
        }
      },
      "source": [
        "clfNB2 = MultinomialNB()\n",
        "cv = StratifiedKFold(n_splits=5, shuffle=True, random_state=42)\n",
        "scores = cross_val_score(clfNB2, X_train_tfidf_ng2, train_labels, scoring='accuracy', cv=cv, n_jobs = -1)\n",
        "print('mean = ', scores.mean(), ' std = ', np.std(scores))"
      ],
      "execution_count": 34,
      "outputs": [
        {
          "output_type": "stream",
          "text": [
            "mean =  0.9213214558042144  std =  0.016983258868796727\n"
          ],
          "name": "stdout"
        }
      ]
    },
    {
      "cell_type": "code",
      "metadata": {
        "id": "B3crGCpVUqhO",
        "outputId": "4a2f5d13-5394-453b-8393-078443fb6d3b",
        "colab": {
          "base_uri": "https://localhost:8080/",
          "height": 804
        }
      },
      "source": [
        "clfNB2.fit(X_train_tfidf, train_labels)\n",
        "\n",
        "%time y_pred = clfNB2.predict(X_test_tfidf)\n",
        "y_test = newsgroups_test.target\n",
        "\n",
        "plt.figure(figsize=(12,12)) \n",
        "\n",
        "heatmap = sns.heatmap(confusion_matrix(y_test, y_pred), cmap=plt.cm.Blues, square=True, annot=True, fmt='.4g')\n",
        "heatmap.set_xticklabels(categories, rotation=45)\n",
        "heatmap.set_yticklabels(categories, rotation=45)"
      ],
      "execution_count": 35,
      "outputs": [
        {
          "output_type": "stream",
          "text": [
            "CPU times: user 2.49 ms, sys: 0 ns, total: 2.49 ms\n",
            "Wall time: 2.5 ms\n"
          ],
          "name": "stdout"
        },
        {
          "output_type": "execute_result",
          "data": {
            "text/plain": [
              "[Text(0, 0.5, 'alt.atheism'),\n",
              " Text(0, 1.5, 'sci.space'),\n",
              " Text(0, 2.5, 'talk.religion.misc'),\n",
              " Text(0, 3.5, 'comp.graphics')]"
            ]
          },
          "metadata": {
            "tags": []
          },
          "execution_count": 35
        },
        {
          "output_type": "display_data",
          "data": {
            "image/png": "[encoded data removed]",
            "text/plain": [
              "<Figure size 864x864 with 2 Axes>"
            ]
          },
          "metadata": {
            "tags": [],
            "needs_background": "light"
          }
        }
      ]
    },
    {
      "cell_type": "code",
      "metadata": {
        "id": "xpc-ptphUryh",
        "outputId": "6ff3d25a-e9f5-4268-8ee4-7890a084573d",
        "colab": {
          "base_uri": "https://localhost:8080/"
        }
      },
      "source": [
        "print(classification_report(y_test, y_pred)) # Тестовая выборка"
      ],
      "execution_count": 36,
      "outputs": [
        {
          "output_type": "stream",
          "text": [
            "              precision    recall  f1-score   support\n",
            "\n",
            "           0       0.67      0.94      0.78       319\n",
            "           1       0.96      0.91      0.94       389\n",
            "           2       0.86      0.98      0.91       394\n",
            "           3       0.97      0.34      0.51       251\n",
            "\n",
            "    accuracy                           0.83      1353\n",
            "   macro avg       0.86      0.79      0.79      1353\n",
            "weighted avg       0.86      0.83      0.81      1353\n",
            "\n"
          ],
          "name": "stdout"
        }
      ]
    },
    {
      "cell_type": "code",
      "metadata": {
        "id": "iApt-S9-T_Qs",
        "outputId": "c8eaed87-934e-48a2-bbd5-a0082965eb8f",
        "colab": {
          "base_uri": "https://localhost:8080/"
        }
      },
      "source": [
        "clfNB3 = MultinomialNB()\n",
        "cv = StratifiedKFold(n_splits=5, shuffle=True, random_state=42)\n",
        "scores = cross_val_score(clfNB3, X_train_tfidf_ng3, train_labels, scoring='accuracy', cv=cv, n_jobs = -1)\n",
        "print('mean = ', scores.mean(), ' std = ', np.std(scores))"
      ],
      "execution_count": 37,
      "outputs": [
        {
          "output_type": "stream",
          "text": [
            "mean =  0.9429636533084809  std =  0.008890538635688457\n"
          ],
          "name": "stdout"
        }
      ]
    },
    {
      "cell_type": "code",
      "metadata": {
        "id": "uIjuUa13UXR8",
        "outputId": "7935aadd-700a-4426-9bfb-38020f901f87",
        "colab": {
          "base_uri": "https://localhost:8080/",
          "height": 804
        }
      },
      "source": [
        "clfNB3.fit(X_train_tfidf, train_labels)\n",
        "\n",
        "%time y_pred = clfNB3.predict(X_test_tfidf)\n",
        "y_test = newsgroups_test.target\n",
        "\n",
        "plt.figure(figsize=(12,12)) \n",
        "\n",
        "heatmap = sns.heatmap(confusion_matrix(y_test, y_pred), cmap=plt.cm.Blues, square=True, annot=True, fmt='.4g')\n",
        "heatmap.set_xticklabels(categories, rotation=45)\n",
        "heatmap.set_yticklabels(categories, rotation=45)"
      ],
      "execution_count": 38,
      "outputs": [
        {
          "output_type": "stream",
          "text": [
            "CPU times: user 2.66 ms, sys: 0 ns, total: 2.66 ms\n",
            "Wall time: 2.67 ms\n"
          ],
          "name": "stdout"
        },
        {
          "output_type": "execute_result",
          "data": {
            "text/plain": [
              "[Text(0, 0.5, 'alt.atheism'),\n",
              " Text(0, 1.5, 'sci.space'),\n",
              " Text(0, 2.5, 'talk.religion.misc'),\n",
              " Text(0, 3.5, 'comp.graphics')]"
            ]
          },
          "metadata": {
            "tags": []
          },
          "execution_count": 38
        },
        {
          "output_type": "display_data",
          "data": {
            "image/png": "[encoded data removed]",
            "text/plain": [
              "<Figure size 864x864 with 2 Axes>"
            ]
          },
          "metadata": {
            "tags": [],
            "needs_background": "light"
          }
        }
      ]
    },
    {
      "cell_type": "code",
      "metadata": {
        "id": "Ios6SgwYUuZH",
        "outputId": "aec16a20-eb0c-450d-a005-ca17fbb1b91d",
        "colab": {
          "base_uri": "https://localhost:8080/"
        }
      },
      "source": [
        "print(classification_report(y_test, y_pred)) # Тестовая выборка"
      ],
      "execution_count": 39,
      "outputs": [
        {
          "output_type": "stream",
          "text": [
            "              precision    recall  f1-score   support\n",
            "\n",
            "           0       0.67      0.94      0.78       319\n",
            "           1       0.96      0.91      0.94       389\n",
            "           2       0.86      0.98      0.91       394\n",
            "           3       0.97      0.34      0.51       251\n",
            "\n",
            "    accuracy                           0.83      1353\n",
            "   macro avg       0.86      0.79      0.79      1353\n",
            "weighted avg       0.86      0.83      0.81      1353\n",
            "\n"
          ],
          "name": "stdout"
        }
      ]
    }
  ]
}