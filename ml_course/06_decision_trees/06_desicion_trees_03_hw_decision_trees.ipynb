{
  "nbformat": 4,
  "nbformat_minor": 0,
  "metadata": {
    "kernelspec": {
      "display_name": "Python 3",
      "language": "python",
      "name": "python3"
    },
    "language_info": {
      "codemirror_mode": {
        "name": "ipython",
        "version": 3
      },
      "file_extension": ".py",
      "mimetype": "text/x-python",
      "name": "python",
      "nbconvert_exporter": "python",
      "pygments_lexer": "ipython3",
      "version": "3.6.6"
    },
    "colab": {
      "name": "06_desicion_trees_03-hw-decision-trees.ipynb",
      "provenance": [],
      "collapsed_sections": [],
      "toc_visible": true
    }
  },
  "cells": [
    {
      "cell_type": "markdown",
      "metadata": {
        "id": "BXhQUuiUhxom"
      },
      "source": [
        "# Домашняя работа 9. Деревья решений. (32 балла)\n",
        "\n",
        "1. Скачайте этот ноутбук к себе.\n",
        "2. Заполните пропущенные ячейки, отвечая на заданные вопросы. Там должен быть код! (если не сказано обратное)\n",
        "3. Сохраните результат в своём гитхаб репозитории.\n",
        "\n",
        "## Полезная литература\n",
        "\n",
        "- [Habrahabr: ODS деревья решений](https://habrahabr.ru/company/ods/blog/322534/#derevo-resheniy)\n",
        "- [ВМК МГУ семинары по решающим деревьям](https://github.com/esokolov/ml-course-msu/blob/master/ML16/lecture-notes/Sem04_trees.pdf)\n",
        "- [Sklearn Decision Trees](http://scikit-learn.org/stable/modules/tree.html)"
      ]
    },
    {
      "cell_type": "markdown",
      "metadata": {
        "id": "NVcIRGOlhxoo"
      },
      "source": [
        "## 1. Сравнение моделей деревьев\n",
        "\n",
        "В этом блоке вы сравните разные конфигурации композиций деревьев:\n",
        "- DecisionTree\n",
        "- Bagging\n",
        "- Bagging с другими настройками подбора признаков для разбиения\n",
        "- RandomForest\n",
        "\n",
        "Будем использовать [датасет с винишком](https://archive.ics.uci.edu/ml/datasets/wine+quality) - это задача то ли классификации то ли регресси - нужно предсказывать качество вина. Будем думать что это классификация.\n",
        "\n",
        "![](https://upload.wikimedia.org/wikipedia/en/thumb/7/7c/Lulz_Security.svg/300px-Lulz_Security.svg.png)"
      ]
    },
    {
      "cell_type": "markdown",
      "metadata": {
        "id": "-_I4OOlJhxop"
      },
      "source": [
        "### 1.1 Чтение данных (1 балла)\n",
        "\n",
        "Данные лежат как обычно в `'../../data/winequality-red.csv.gz'`.\n",
        "\n",
        "- Прочитайте их с помощью pandas\n",
        "- нарисуйте countplot целевого признака `quality`.\n",
        "- Что вы думаете по поводу количества представителей каждого класса.\n",
        "- Разбейте данные на X и y."
      ]
    },
    {
      "cell_type": "code",
      "metadata": {
        "id": "TTunL1qNhxoq"
      },
      "source": [
        "%matplotlib inline\n",
        "import pandas as pd\n",
        "import numpy as np\n",
        "from matplotlib import pyplot as plt\n",
        "import seaborn as sns\n",
        "from sklearn.model_selection import train_test_split, KFold, cross_val_score\n",
        "from sklearn.metrics import classification_report, confusion_matrix, f1_score"
      ],
      "execution_count": 48,
      "outputs": []
    },
    {
      "cell_type": "code",
      "metadata": {
        "id": "2JX0VZG9hxov",
        "outputId": "c7a4cf22-af8c-4354-ea3f-7012c2fb31d4",
        "colab": {
          "base_uri": "https://localhost:8080/"
        }
      },
      "source": [
        "from google.colab import drive\n",
        "drive.mount('/content/drive')"
      ],
      "execution_count": 49,
      "outputs": [
        {
          "output_type": "stream",
          "text": [
            "Drive already mounted at /content/drive; to attempt to forcibly remount, call drive.mount(\"/content/drive\", force_remount=True).\n"
          ],
          "name": "stdout"
        }
      ]
    },
    {
      "cell_type": "code",
      "metadata": {
        "id": "9pYLHOothxo0",
        "outputId": "b9b7e4c4-9ab5-4b1e-f48e-d2b0f8156392",
        "colab": {
          "base_uri": "https://localhost:8080/",
          "height": 202
        }
      },
      "source": [
        "df = pd.read_csv('/content/drive/My Drive/data/data_winequality-red.csv.gz', sep = ';')\n",
        "df.head()"
      ],
      "execution_count": 50,
      "outputs": [
        {
          "output_type": "execute_result",
          "data": {
            "text/html": [
              "<div>\n",
              "<style scoped>\n",
              "    .dataframe tbody tr th:only-of-type {\n",
              "        vertical-align: middle;\n",
              "    }\n",
              "\n",
              "    .dataframe tbody tr th {\n",
              "        vertical-align: top;\n",
              "    }\n",
              "\n",
              "    .dataframe thead th {\n",
              "        text-align: right;\n",
              "    }\n",
              "</style>\n",
              "<table border=\"1\" class=\"dataframe\">\n",
              "  <thead>\n",
              "    <tr style=\"text-align: right;\">\n",
              "      <th></th>\n",
              "      <th>fixed acidity</th>\n",
              "      <th>volatile acidity</th>\n",
              "      <th>citric acid</th>\n",
              "      <th>residual sugar</th>\n",
              "      <th>chlorides</th>\n",
              "      <th>free sulfur dioxide</th>\n",
              "      <th>total sulfur dioxide</th>\n",
              "      <th>density</th>\n",
              "      <th>pH</th>\n",
              "      <th>sulphates</th>\n",
              "      <th>alcohol</th>\n",
              "      <th>quality</th>\n",
              "    </tr>\n",
              "  </thead>\n",
              "  <tbody>\n",
              "    <tr>\n",
              "      <th>0</th>\n",
              "      <td>7.4</td>\n",
              "      <td>0.70</td>\n",
              "      <td>0.00</td>\n",
              "      <td>1.9</td>\n",
              "      <td>0.076</td>\n",
              "      <td>11.0</td>\n",
              "      <td>34.0</td>\n",
              "      <td>0.9978</td>\n",
              "      <td>3.51</td>\n",
              "      <td>0.56</td>\n",
              "      <td>9.4</td>\n",
              "      <td>5</td>\n",
              "    </tr>\n",
              "    <tr>\n",
              "      <th>1</th>\n",
              "      <td>7.8</td>\n",
              "      <td>0.88</td>\n",
              "      <td>0.00</td>\n",
              "      <td>2.6</td>\n",
              "      <td>0.098</td>\n",
              "      <td>25.0</td>\n",
              "      <td>67.0</td>\n",
              "      <td>0.9968</td>\n",
              "      <td>3.20</td>\n",
              "      <td>0.68</td>\n",
              "      <td>9.8</td>\n",
              "      <td>5</td>\n",
              "    </tr>\n",
              "    <tr>\n",
              "      <th>2</th>\n",
              "      <td>7.8</td>\n",
              "      <td>0.76</td>\n",
              "      <td>0.04</td>\n",
              "      <td>2.3</td>\n",
              "      <td>0.092</td>\n",
              "      <td>15.0</td>\n",
              "      <td>54.0</td>\n",
              "      <td>0.9970</td>\n",
              "      <td>3.26</td>\n",
              "      <td>0.65</td>\n",
              "      <td>9.8</td>\n",
              "      <td>5</td>\n",
              "    </tr>\n",
              "    <tr>\n",
              "      <th>3</th>\n",
              "      <td>11.2</td>\n",
              "      <td>0.28</td>\n",
              "      <td>0.56</td>\n",
              "      <td>1.9</td>\n",
              "      <td>0.075</td>\n",
              "      <td>17.0</td>\n",
              "      <td>60.0</td>\n",
              "      <td>0.9980</td>\n",
              "      <td>3.16</td>\n",
              "      <td>0.58</td>\n",
              "      <td>9.8</td>\n",
              "      <td>6</td>\n",
              "    </tr>\n",
              "    <tr>\n",
              "      <th>4</th>\n",
              "      <td>7.4</td>\n",
              "      <td>0.70</td>\n",
              "      <td>0.00</td>\n",
              "      <td>1.9</td>\n",
              "      <td>0.076</td>\n",
              "      <td>11.0</td>\n",
              "      <td>34.0</td>\n",
              "      <td>0.9978</td>\n",
              "      <td>3.51</td>\n",
              "      <td>0.56</td>\n",
              "      <td>9.4</td>\n",
              "      <td>5</td>\n",
              "    </tr>\n",
              "  </tbody>\n",
              "</table>\n",
              "</div>"
            ],
            "text/plain": [
              "   fixed acidity  volatile acidity  citric acid  ...  sulphates  alcohol  quality\n",
              "0            7.4              0.70         0.00  ...       0.56      9.4        5\n",
              "1            7.8              0.88         0.00  ...       0.68      9.8        5\n",
              "2            7.8              0.76         0.04  ...       0.65      9.8        5\n",
              "3           11.2              0.28         0.56  ...       0.58      9.8        6\n",
              "4            7.4              0.70         0.00  ...       0.56      9.4        5\n",
              "\n",
              "[5 rows x 12 columns]"
            ]
          },
          "metadata": {
            "tags": []
          },
          "execution_count": 50
        }
      ]
    },
    {
      "cell_type": "code",
      "metadata": {
        "id": "HBV_pDODnIpN",
        "outputId": "5cd606d7-491f-4fd8-91b4-68ba43173af4",
        "colab": {
          "base_uri": "https://localhost:8080/"
        }
      },
      "source": [
        "df['quality'].value_counts()"
      ],
      "execution_count": 51,
      "outputs": [
        {
          "output_type": "execute_result",
          "data": {
            "text/plain": [
              "5    681\n",
              "6    638\n",
              "7    199\n",
              "4     53\n",
              "8     18\n",
              "3     10\n",
              "Name: quality, dtype: int64"
            ]
          },
          "metadata": {
            "tags": []
          },
          "execution_count": 51
        }
      ]
    },
    {
      "cell_type": "code",
      "metadata": {
        "id": "UvkBj_22hxo4",
        "outputId": "f2fbc6af-7cce-43f2-ac70-47cce3533c8a",
        "colab": {
          "base_uri": "https://localhost:8080/",
          "height": 350
        }
      },
      "source": [
        "sns.countplot('quality', data=df)"
      ],
      "execution_count": 52,
      "outputs": [
        {
          "output_type": "stream",
          "text": [
            "/usr/local/lib/python3.6/dist-packages/seaborn/_decorators.py:43: FutureWarning: Pass the following variable as a keyword arg: x. From version 0.12, the only valid positional argument will be `data`, and passing other arguments without an explicit keyword will result in an error or misinterpretation.\n",
            "  FutureWarning\n"
          ],
          "name": "stderr"
        },
        {
          "output_type": "execute_result",
          "data": {
            "text/plain": [
              "<matplotlib.axes._subplots.AxesSubplot at 0x7f38be2749b0>"
            ]
          },
          "metadata": {
            "tags": []
          },
          "execution_count": 52
        },
        {
          "output_type": "display_data",
          "data": {
            "image/png": "[encoded data removed]",
            "text/plain": [
              "<Figure size 432x288 with 1 Axes>"
            ]
          },
          "metadata": {
            "tags": [],
            "needs_background": "light"
          }
        }
      ]
    },
    {
      "cell_type": "code",
      "metadata": {
        "id": "ouT7CcFahxo9"
      },
      "source": [
        "X = df.drop(['quality'], axis=1)\n",
        "y = df['quality']"
      ],
      "execution_count": 53,
      "outputs": []
    },
    {
      "cell_type": "markdown",
      "metadata": {
        "id": "qxkXj-uvniuP"
      },
      "source": [
        "Из рисунка видно, что целевой признак распределен не равномерно."
      ]
    },
    {
      "cell_type": "markdown",
      "metadata": {
        "id": "BPJUvq7hhxpG"
      },
      "source": [
        "### 1.2 Сравнение моделей (4 балла)\n",
        "\n",
        "Задача классификации. Все признаки уже числовые. Значит можно пробовать просто все модели и выбрать лучшую. Так и поступим, сделайте кросс валидацию на 5 фолдах, используя `sklearn.model_selection.KFold` как аргумент у `cross_val_score`. Метрика качества будет `accuracy`.\n",
        "\n",
        "Алгоритмы для тестирования:\n",
        "- KNeighborsClassifier с 10 соседями\n",
        "- KNeighborsClassifier с 10 соседями и масштабированием StandartScaler\n",
        "- RidgeClassifier\n",
        "- DecisionTreeClassifier \n",
        "- BaggingClassifier c 100 деревьев\n",
        "- BaggingClassifier с 100 деревьев и каждое дерево обучается только по половине случайно выбранных признаков (см аргументы)\n",
        "- RandomForestClassifier c 100 деревьев\n",
        "\n",
        "Выведите среднее значение метрики качества для каждого из классификаторов. \n",
        "\n",
        "**hint**: каждый следующий алгоритм, будет показывать качество лучше, чем предыдущий. Если у вас не так - то что-то вы делаете неправильно. Везде зафиксируйте random_state=42."
      ]
    },
    {
      "cell_type": "code",
      "metadata": {
        "id": "DLzrN_-9hxpH"
      },
      "source": [
        "from sklearn.neighbors import KNeighborsClassifier\n",
        "from sklearn.linear_model import RidgeClassifier\n",
        "from sklearn.tree import DecisionTreeClassifier\n",
        "from sklearn.ensemble import BaggingClassifier\n",
        "from sklearn.ensemble import RandomForestClassifier\n",
        "from sklearn.preprocessing import StandardScaler\n",
        "from sklearn.model_selection import KFold"
      ],
      "execution_count": 54,
      "outputs": []
    },
    {
      "cell_type": "code",
      "metadata": {
        "id": "mrrEfwzuhxpN",
        "outputId": "86c12109-da7c-4c85-85cc-f3dbfd3f1095",
        "colab": {
          "base_uri": "https://localhost:8080/"
        }
      },
      "source": [
        "clf_kn_10 = KNeighborsClassifier(n_neighbors = 10)\n",
        "\n",
        "kf = KFold(n_splits=5, shuffle=True, random_state = 73)\n",
        "\n",
        "scores = cross_val_score(clf_kn_10, X, y, scoring='accuracy', cv=kf, n_jobs = -1)\n",
        "print('mean = ', scores.mean(), ' std = ', np.std(scores))"
      ],
      "execution_count": 55,
      "outputs": [
        {
          "output_type": "stream",
          "text": [
            "mean =  0.49971590909090907  std =  0.02357372600696035\n"
          ],
          "name": "stdout"
        }
      ]
    },
    {
      "cell_type": "code",
      "metadata": {
        "id": "e3Lb0dcghxpR",
        "outputId": "c3b4030e-f7f0-4ae8-ba58-ca1be857c1a5",
        "colab": {
          "base_uri": "https://localhost:8080/"
        }
      },
      "source": [
        "clf_kn_10_sc = KNeighborsClassifier(n_neighbors = 10)\n",
        "\n",
        "kf = KFold(n_splits=5, shuffle=True, random_state = 73)\n",
        "\n",
        "scaler = StandardScaler()\n",
        "scaled_X = scaler.fit_transform(X)\n",
        "\n",
        "scores = cross_val_score(clf_kn_10_sc, scaled_X, y, scoring='accuracy', cv=kf, n_jobs = -1)\n",
        "print('mean = ', scores.mean(), ' std = ', np.std(scores))"
      ],
      "execution_count": 56,
      "outputs": [
        {
          "output_type": "stream",
          "text": [
            "mean =  0.5835325235109717  std =  0.03472681703295673\n"
          ],
          "name": "stdout"
        }
      ]
    },
    {
      "cell_type": "code",
      "metadata": {
        "id": "h6f_jtVyhxpV",
        "outputId": "2b0fb423-05f7-4b58-8953-571b3b896f23",
        "colab": {
          "base_uri": "https://localhost:8080/"
        }
      },
      "source": [
        "clf_ridge = RidgeClassifier()\n",
        "\n",
        "kf = KFold(n_splits=5, shuffle=True, random_state = 73)\n",
        "\n",
        "scores = cross_val_score(clf_ridge, X, y, scoring='accuracy', cv=kf, n_jobs = -1)\n",
        "print('mean = ', scores.mean(), ' std = ', np.std(scores))"
      ],
      "execution_count": 57,
      "outputs": [
        {
          "output_type": "stream",
          "text": [
            "mean =  0.5866281347962382  std =  0.030363263050429\n"
          ],
          "name": "stdout"
        }
      ]
    },
    {
      "cell_type": "code",
      "metadata": {
        "id": "W_XVhdtghxpa",
        "outputId": "1c32355d-9973-422b-f9a0-1567b2bca3ef",
        "colab": {
          "base_uri": "https://localhost:8080/"
        }
      },
      "source": [
        "clf_dt = DecisionTreeClassifier()\n",
        "\n",
        "kf = KFold(n_splits=5, shuffle=True, random_state = 73)\n",
        "\n",
        "scores = cross_val_score(clf_dt, X, y, scoring='accuracy', cv=kf, n_jobs = -1)\n",
        "print('mean = ', scores.mean(), ' std = ', np.std(scores))"
      ],
      "execution_count": 58,
      "outputs": [
        {
          "output_type": "stream",
          "text": [
            "mean =  0.6103996865203761  std =  0.03776940568607044\n"
          ],
          "name": "stdout"
        }
      ]
    },
    {
      "cell_type": "code",
      "metadata": {
        "id": "VDVKjpNwhxpe",
        "outputId": "363179d8-b5d6-4ce8-d095-38a4f7711a90",
        "colab": {
          "base_uri": "https://localhost:8080/"
        }
      },
      "source": [
        "clf_bc = BaggingClassifier(n_estimators=100)\n",
        "\n",
        "kf = KFold(n_splits=5, shuffle=True, random_state = 73)\n",
        "\n",
        "scores = cross_val_score(clf_bc, X, y, scoring='accuracy', cv=kf, n_jobs = -1)\n",
        "print('mean = ', scores.mean(), ' std = ', np.std(scores))"
      ],
      "execution_count": 59,
      "outputs": [
        {
          "output_type": "stream",
          "text": [
            "mean =  0.6823334639498432  std =  0.031137623092012755\n"
          ],
          "name": "stdout"
        }
      ]
    },
    {
      "cell_type": "code",
      "metadata": {
        "id": "WfuMExdThxph",
        "outputId": "7ca1cd8d-171c-413b-a478-04f3dd3e867f",
        "colab": {
          "base_uri": "https://localhost:8080/"
        }
      },
      "source": [
        "clf_bc_h = BaggingClassifier(n_estimators=100, max_features=X.shape[1] // 2 + 1)\n",
        "\n",
        "kf = KFold(n_splits=5, shuffle=True, random_state = 73)\n",
        "\n",
        "scores = cross_val_score(clf_bc_h, X, y, scoring='accuracy', cv=kf, n_jobs = -1)\n",
        "print('mean = ', scores.mean(), ' std = ', np.std(scores))"
      ],
      "execution_count": 60,
      "outputs": [
        {
          "output_type": "stream",
          "text": [
            "mean =  0.6760638714733542  std =  0.021016580763923414\n"
          ],
          "name": "stdout"
        }
      ]
    },
    {
      "cell_type": "code",
      "metadata": {
        "id": "rJil4YO7hxpl",
        "outputId": "331b7a88-789f-439d-d87d-74f770834173",
        "colab": {
          "base_uri": "https://localhost:8080/"
        }
      },
      "source": [
        "clf_rf = RandomForestClassifier(n_estimators=100, random_state=73)\n",
        "\n",
        "kf = KFold(n_splits=5, shuffle=True, random_state = 73)\n",
        "\n",
        "scores = cross_val_score(clf_rf, X, y, scoring='accuracy', cv=kf, n_jobs = -1)\n",
        "print('mean = ', scores.mean(), ' std = ', np.std(scores))"
      ],
      "execution_count": 61,
      "outputs": [
        {
          "output_type": "stream",
          "text": [
            "mean =  0.688569749216301  std =  0.016110145845224123\n"
          ],
          "name": "stdout"
        }
      ]
    },
    {
      "cell_type": "markdown",
      "metadata": {
        "id": "bCbAMYfkhxpr"
      },
      "source": [
        "### 1.3 Расуждения (8 баллов)\n",
        "\n",
        "Ответьте на вопросы развернуто, можете полистать литературу:\n",
        "\n",
        "- почему наблюдается значимая разница в качестве у KNeighborsClassifier с масштабированием и без\n",
        "- почему масштабирование не важно для деревьев решений\n",
        "- почему бэггинг на половине признаков для каждого дерева дал качество предсказания больше, чем на всех? (а он дал!)\n",
        "- у какой модели наибольшей отклонение от среднего качества предсказаний? А почему??"
      ]
    },
    {
      "cell_type": "markdown",
      "metadata": {
        "id": "7xqIjYLTz5fx"
      },
      "source": [
        "1. Почему наблюдается значимая разница в качестве у KNeighborsClassifier с масштабированием и без?\n",
        "\n",
        "Потому что KNeighborsClassifier использует метрику расстояния между объектами. Так как в наборе данных много признаков, поэтому трудно подобрать подходящие веса, а также определить, какие признаки не важны для задачи МО.\n",
        "\n",
        "2. Почему масштабирование не важно для деревьев решений?\n",
        "\n",
        "Потому что построение деревьев ведется по каким то эмпирически или интуитивно понятным правилам. И деревья как правило представляют большую конструкцию из if - else. То есть построение дерева решений зависит от условия, и не использует метрики расстояния, а использует метрику энтропии.\n",
        "\n",
        "3. Почему бэггинг на половине признаков для каждого дерева дал качество предсказания больше, чем на всех? (а он дал!)\n",
        "\n",
        "Потому что, Бэггинг эффективен на малых выборках, когда исключение казалось бы малой части обучающих объектов приводит к построению существенно различных базовых моделей. В случае больших выборок обычно генерируют подвыборки существенно меньшей длины.\n",
        "\n",
        "4. У какой модели наибольшее отклонение от среднего качества предсказаний? А почему??\n",
        "\n",
        "У DecisonTreeClassifier так как деревья очень чувствительны к шумам во входных данных, вся модель может кардинально измениться, если немного изменится обучающая выборка. Разделяющая граница, построенная деревом решений, имеет свои ограничения (состоит из гиперплоскостей, перпендикулярных какой-то из координатной оси). Небольшие изменения в данных могут существенно изменять построенное дерево решений. С этой проблемой борются с помощью ансамблей деревьев решений.\n",
        "У KNeighborsClassifier так как из за малого числа соседей метод чувствителен к выбросам, то есть склонен переобучаться."
      ]
    },
    {
      "cell_type": "markdown",
      "metadata": {
        "id": "33sMVyGthxpv"
      },
      "source": [
        "## 2 Переобучение и Ко\n",
        "\n",
        "В последнем задании вы уже заметили, что случайный лес может вести себя немного нестабильно. В этом задании мы возьмем опять датасет MNIST(простите) и будем его решать деревьями. Почему мы взяли его? Потому что в нем фактически много разных признаков (значения пикселей в пространстве), а деревья строятся делая разбиения по признакам. Обычно на эти разбиения не обращают внимание, так как главное что тюнят - это глубина дереьвев, количество деревьев, а кучу других параметров обходят стороной, так как они \"неясные\". Попробуем прояснить их."
      ]
    },
    {
      "cell_type": "markdown",
      "metadata": {
        "id": "lnfdXSlXhxpw"
      },
      "source": [
        "### 2.1 Загрузка датасета (1 балл)\n",
        "\n",
        "Загрузите датасет с помощью функции `sklearn.datasets.load_digits`. В нем будут 64px картинки в векторной форме.\n",
        "\n",
        "Нарисуйте первые 10 цифр в одной ячейке, чтобы было красиво."
      ]
    },
    {
      "cell_type": "code",
      "metadata": {
        "id": "FfWUQqVthxpx",
        "outputId": "2535d49d-da6a-4b2e-c8b0-18f7b510e73b",
        "colab": {
          "base_uri": "https://localhost:8080/"
        }
      },
      "source": [
        "from sklearn import datasets\n",
        "\n",
        "X, y = datasets.load_digits(return_X_y=True)\n",
        "\n",
        "print(\"Экземпляров: {}\\nРазмер изображения: {}x{}\".format(X.shape[0], np.sqrt(X.shape[1]), np.sqrt(X.shape[1])))"
      ],
      "execution_count": 62,
      "outputs": [
        {
          "output_type": "stream",
          "text": [
            "Экземпляров: 1797\n",
            "Размер изображения: 8.0x8.0\n"
          ],
          "name": "stdout"
        }
      ]
    },
    {
      "cell_type": "code",
      "metadata": {
        "id": "rFlGgf4Yhxp0",
        "outputId": "d9fa4ffc-2b17-42df-81e8-960e0af968f0",
        "colab": {
          "base_uri": "https://localhost:8080/",
          "height": 245
        }
      },
      "source": [
        "import matplotlib.pyplot as plt\n",
        "import matplotlib.cm as cm\n",
        "plt.figure(figsize=(5, 5))\n",
        "for i in range(10):\n",
        "    img = X[y==i][0].reshape(8,8)\n",
        "    plt.subplot(2, 5, i + 1)\n",
        "    plt.imshow(img, cmap='gray')"
      ],
      "execution_count": 63,
      "outputs": [
        {
          "output_type": "display_data",
          "data": {
            "image/png": "[encoded data removed]",
            "text/plain": [
              "<Figure size 360x360 with 10 Axes>"
            ]
          },
          "metadata": {
            "tags": [],
            "needs_background": "light"
          }
        }
      ]
    },
    {
      "cell_type": "markdown",
      "metadata": {
        "id": "sPpHSPJ3hxp9"
      },
      "source": [
        "### 2.2 Перебор классификаторов (3 балла)\n",
        "\n",
        "В этом задании вам снова придется перебрать несколько классификаторов, но теперь мы обратим внимание на другие гиперпараметры и их влияние на качество классификации, кстати опять `accuracy`.\n",
        "\n",
        "Сделайте кроссвалидацию на 10 фолдах, указав `cv=10` для следующих классификаторов:\n",
        "\n",
        "- DecisionTreeClassifier с параметрами по-умолчанию\n",
        "- BaggingClassifier с 100 деревьвев\n",
        "- BaggingClassifier с 100 деревьев, НО с ограничением на максимальное количество признаков, участвующих при обучении каждого из деревьев в $\\sqrt{N}$, где $N$ - это число признаков.\n",
        "- BaggingClassifier с 100 деревьев, НО с ограничением на количество признаков участвующих в разбиении для каждого из деревьев в $\\sqrt{N}$, где $N$ - это число признаков. Это отличается от предыдущей модели тем, где ограничивается `max_features`. Читайте документацию :trollface:\n",
        "- обычный случайный лес со 100 деревьями"
      ]
    },
    {
      "cell_type": "code",
      "metadata": {
        "id": "OQjKxmK8hxp-",
        "outputId": "9da45c9a-09b9-4da9-8d35-5d3ea33d9f45",
        "colab": {
          "base_uri": "https://localhost:8080/"
        }
      },
      "source": [
        "clf_dt_mnist = DecisionTreeClassifier()\n",
        "\n",
        "kf = KFold(n_splits=5, shuffle=True, random_state = 73)\n",
        "\n",
        "scores = cross_val_score(clf_dt_mnist, X, y, scoring='accuracy', cv=kf, n_jobs = -1)\n",
        "print('mean = ', scores.mean(), ' std = ', np.std(scores))"
      ],
      "execution_count": 64,
      "outputs": [
        {
          "output_type": "stream",
          "text": [
            "mean =  0.8414004952027236  std =  0.012206012597784416\n"
          ],
          "name": "stdout"
        }
      ]
    },
    {
      "cell_type": "code",
      "metadata": {
        "id": "WvoxXP64hxqC",
        "outputId": "03150833-b552-466e-d99b-7948fc63ddc9",
        "colab": {
          "base_uri": "https://localhost:8080/"
        }
      },
      "source": [
        "clf_bc_mnist = BaggingClassifier(n_estimators=100)\n",
        "\n",
        "kf = KFold(n_splits=5, shuffle=True, random_state = 73)\n",
        "\n",
        "scores = cross_val_score(clf_bc_mnist, X, y, scoring='accuracy', cv=kf, n_jobs = -1)\n",
        "print('mean = ', scores.mean(), ' std = ', np.std(scores))"
      ],
      "execution_count": 65,
      "outputs": [
        {
          "output_type": "stream",
          "text": [
            "mean =  0.9532621479418136  std =  0.009011286499566635\n"
          ],
          "name": "stdout"
        }
      ]
    },
    {
      "cell_type": "code",
      "metadata": {
        "id": "iuqMG-ZvhxqH",
        "outputId": "13c7d8c4-c817-4e43-fd08-ecbf97d1d855",
        "colab": {
          "base_uri": "https://localhost:8080/"
        }
      },
      "source": [
        "clf_bc_mf_sqrt_mnist = BaggingClassifier(n_estimators = 100, max_features = int(np.sqrt(X.shape[1]))) \n",
        "\n",
        "kf = KFold(n_splits=5, shuffle=True, random_state = 73)\n",
        "\n",
        "scores = cross_val_score(clf_bc_mf_sqrt_mnist, X, y, scoring='accuracy', cv=kf, n_jobs = -1)\n",
        "print('mean = ', scores.mean(), ' std = ', np.std(scores))"
      ],
      "execution_count": 68,
      "outputs": [
        {
          "output_type": "stream",
          "text": [
            "mean =  0.9621556793562365  std =  0.009591632027158943\n"
          ],
          "name": "stdout"
        }
      ]
    },
    {
      "cell_type": "code",
      "metadata": {
        "id": "LmXZIqGXhxqN"
      },
      "source": [
        "from sklearn.datasets import make_classification\n",
        "\n",
        "X_mc, y_mc = make_classification(n_samples=100, n_features=int(np.sqrt(X.shape[1])))"
      ],
      "execution_count": 72,
      "outputs": []
    },
    {
      "cell_type": "code",
      "metadata": {
        "id": "stFguo3DhxqK",
        "outputId": "ce299dae-fdd5-44a0-a31c-b4777b3dd49f",
        "colab": {
          "base_uri": "https://localhost:8080/"
        }
      },
      "source": [
        "clf_bc_mf_sqrt_mnist_h = BaggingClassifier() \n",
        "\n",
        "kf = KFold(n_splits=5, shuffle=True, random_state = 73)\n",
        "\n",
        "scores = cross_val_score(clf_bc_mf_sqrt_mnist_h, X_mc, y_mc, scoring='accuracy', cv=kf, n_jobs = -1)\n",
        "print('mean = ', scores.mean(), ' std = ', np.std(scores))"
      ],
      "execution_count": 76,
      "outputs": [
        {
          "output_type": "stream",
          "text": [
            "mean =  0.93  std =  0.024494897427831747\n"
          ],
          "name": "stdout"
        }
      ]
    },
    {
      "cell_type": "code",
      "metadata": {
        "id": "L_1mJAv9Akxd",
        "outputId": "cc690b16-913e-4193-b2b1-cd5fd96bb0fe",
        "colab": {
          "base_uri": "https://localhost:8080/"
        }
      },
      "source": [
        "clf_rf_mnist = RandomForestClassifier(n_estimators=100, random_state=73)\n",
        "\n",
        "kf = KFold(n_splits=5, shuffle=True, random_state = 73)\n",
        "\n",
        "scores = cross_val_score(clf_rf_mnist, X, y, scoring='accuracy', cv=kf, n_jobs = -1)\n",
        "print('mean = ', scores.mean(), ' std = ', np.std(scores))"
      ],
      "execution_count": 77,
      "outputs": [
        {
          "output_type": "stream",
          "text": [
            "mean =  0.9755168678427732  std =  0.004079457863262931\n"
          ],
          "name": "stdout"
        }
      ]
    },
    {
      "cell_type": "markdown",
      "metadata": {
        "id": "06-DBsDZhxqQ"
      },
      "source": [
        "### 2.3 В чём разница? (3 балла)\n",
        "\n",
        "Ответье на вопрос: Так как признаков становится меньше, поэтому деревья становятся менее коррелированы. А мы их здесь ограничиваем.\n",
        "\n",
        "Странно то как? Почему ограничение на количество признаков в разбиении дерева и ограничение в количестве признаков для построения каждого дерева в BaggingClasifier дало СОВСЕМ разный результат в качестве предсказания? В чем магия?\n",
        "\n",
        "![](https://i.ytimg.com/vi/_5GWMIAHc08/hqdefault.jpg)"
      ]
    },
    {
      "cell_type": "markdown",
      "metadata": {
        "id": "Td_ysBe4hxqU"
      },
      "source": [
        "### 2.4 Количество деревьев (2 балла)\n",
        "\n",
        "Сделайте перебор количества деревьев для `RandomForestClassifier`. Сохраните качества кросс валидации на 10 фолдах для `[1,5,10,15,50,100,150,200,300]` количества деревьев. Нарисуйте график, где по оси x - количество деревьев, а по оси y - качество. При каком количестве деревьев получается самое хорошее качество?"
      ]
    },
    {
      "cell_type": "code",
      "metadata": {
        "id": "4aNTTUtGhxqV",
        "outputId": "3efc7107-4546-456a-baeb-b267c682b4bb",
        "colab": {
          "base_uri": "https://localhost:8080/",
          "height": 669
        }
      },
      "source": [
        "n_trees = str('1,5,10,15,50,100,150,200,300').split(',')\n",
        "\n",
        "resultScores = []\n",
        "\n",
        "for i in range(len(n_trees)):\n",
        "  clf = RandomForestClassifier(n_estimators = int(n_trees[i]))\n",
        "  cv = KFold(n_splits=10, shuffle=True, random_state = 73)\n",
        "  scores = cross_val_score(clf, X, y, scoring='accuracy', cv=cv, n_jobs = -1)\n",
        "  resultScores.append(scores.mean())\n",
        "  print('p = ', int(n_trees[i]), ' mean = ', scores.mean(), ' std = ', np.std(scores))\n",
        "\n",
        "plt.figure(figsize=(15, 8))\n",
        "plt.plot(n_trees, resultScores)\n",
        "plt.xlabel(\"N Trees\")\n",
        "plt.ylabel(\"Score\")\n",
        "plt.title(\"Accuracy depends on the number of trees\")\n",
        "plt.show()"
      ],
      "execution_count": 82,
      "outputs": [
        {
          "output_type": "stream",
          "text": [
            "p =  1  mean =  0.7902172563625077  std =  0.033271424534275854\n",
            "p =  5  mean =  0.9204252017380508  std =  0.018926571813085245\n",
            "p =  10  mean =  0.9449162011173184  std =  0.012254529174297516\n",
            "p =  15  mean =  0.9666263190564865  std =  0.010212106020736487\n",
            "p =  50  mean =  0.9721880819366853  std =  0.008938972613002178\n",
            "p =  100  mean =  0.9710738671632526  std =  0.008876691276272546\n",
            "p =  150  mean =  0.9738516449410304  std =  0.009648779016497477\n",
            "p =  200  mean =  0.9766356300434513  std =  0.007356397307108587\n",
            "p =  300  mean =  0.9755214152700186  std =  0.008683435406523644\n"
          ],
          "name": "stdout"
        },
        {
          "output_type": "display_data",
          "data": {
            "image/png": "[encoded data removed]",
            "text/plain": [
              "<Figure size 1080x576 with 1 Axes>"
            ]
          },
          "metadata": {
            "tags": [],
            "needs_background": "light"
          }
        }
      ]
    },
    {
      "cell_type": "markdown",
      "metadata": {
        "id": "7OSwD_qUECv1"
      },
      "source": [
        "Исходя из полученных данных: вывод средней точности, график зависимости точности от количества деревьев, самое хорошее качества получается при количестве деревьев равным числу принадлежащему промежутку [50, 200], далее при увеличении кол - ва деревьев качество идет на спад."
      ]
    },
    {
      "cell_type": "markdown",
      "metadata": {
        "id": "C_82gByihxqd"
      },
      "source": [
        "### 2.5 Количество признаков  (2 балла)\n",
        "\n",
        "Переберите теперь максимальное количество признаков для `RandomForestClassifier` на 100 деревьях, от 1 до 64 с шагом 5. Постройте график качества по кроссвалидации на 10 фолдах."
      ]
    },
    {
      "cell_type": "code",
      "metadata": {
        "id": "DDi2vQzPhxqe",
        "outputId": "274e307d-524e-45eb-aeb3-2ffd8c89e361",
        "colab": {
          "base_uri": "https://localhost:8080/",
          "height": 513
        }
      },
      "source": [
        "n_features = np.arange(1, 64, 5)\n",
        "resultScores = []\n",
        "for i in n_features:\n",
        "  clf = RandomForestClassifier(n_estimators=100, max_features=int(i), max_samples=5)\n",
        "  cv = KFold(n_splits=10, shuffle=True, random_state = 73)\n",
        "  scores = cross_val_score(clf, X, y, scoring='accuracy', cv=cv, n_jobs = -1)\n",
        "  resultScores.append(scores.mean())\n",
        "    \n",
        "plt.figure(figsize=(15, 8))\n",
        "plt.plot(n_features, resultScores)\n",
        "plt.xlabel(\"N Features\")\n",
        "plt.ylabel(\"Score\")\n",
        "plt.title(\"Dependence on the accuracy of trees\")\n",
        "plt.show()"
      ],
      "execution_count": 86,
      "outputs": [
        {
          "output_type": "display_data",
          "data": {
            "image/png": "[encoded data removed]",
            "text/plain": [
              "<Figure size 1080x576 with 1 Axes>"
            ]
          },
          "metadata": {
            "tags": [],
            "needs_background": "light"
          }
        }
      ]
    },
    {
      "cell_type": "markdown",
      "metadata": {
        "id": "HQ5Jy4Schxqh"
      },
      "source": [
        "### 2.5 Вопросы по RandomForest (8 баллов)\n",
        "\n",
        "Ответьте на вопросы:\n",
        "\n",
        "- Что происходит с ростом числа деревьев у случайного леса. Можно ли просто всегда брать 5000 деревьев и быть счастливым?\n",
        "- Как зависит качество предсказания в дереве в зависимости от max_features?\n",
        "- Почему качество зависит от max_features?\n",
        "- Как глубина деревьев влияет на качество случайного леса?"
      ]
    },
    {
      "cell_type": "markdown",
      "metadata": {
        "id": "X227_GDZhxqi"
      },
      "source": [
        "1. Что происходит с ростом числа деревьев у случайного леса. Можно ли просто всегда брать 5000 деревьев и быть счастливым?\n",
        "\n",
        "Проблема случайного леса в том, что каждое дерево сильно переобучается. Когда деревья компонируют, качество их обучения принимает константное значение, что можно заключить из рисунка выше. \n",
        "\n",
        "2. Как зависит качество предсказания в дереве в зависимости от max_features?\n",
        "\n",
        "Если для обучения модели будет отобрано слишком маленькое количество признаков, модель не сможет установить зависимости между признаками (говорят, не поймает зависимостей). А если количество признаков будет слишком большим то во первых возможно, что некоторые из них будут коррелировать между ними, и необходимо будет анализировать зависимости между ними (мультиколлинеарность), и для этого применяется регуляризаторы, а для поиска например можно использовать коэффициент инфляции дисперсии (VIF).\n",
        "\n",
        "3. Почему качество зависит от max_features?\n",
        "\n",
        "Это связано с тем, что чем меньше признаков выбирается в каждом узле, тем более различными получаются деревья (так как деревья сильно неустойчивы к изменениям в обучающей выборке), и тем лучше работает композиция деревьев. При увеличении max_features увеличивается время построения леса, а деревья становятся «более однообразными»\n",
        "\n",
        "4. Как глубина деревьев влияет на качество случайного леса?\n",
        "\n",
        "Ясно, что чем меньше глубина, тем быстрее строится и работает RF. При увеличении глубины резко возрастает качество на обучении, но и на контроле оно, как правило, увеличивается. Рекомендуется использовать максимальную глубину (кроме случаев, когда объектов слишком много и получаются очень глубокие деревья, построение которых занимает значительное время). При использовании неглубоких деревьев изменение параметров, связанных с ограничением числа объектов в листе и для деления, не приводит к значимому эффекту (листья и так получаются «большими»). Неглубокие деревья рекомендуют использовать в задачах с большим числом шумовых объектов (выбросов)."
      ]
    },
    {
      "cell_type": "markdown",
      "metadata": {
        "id": "xgGrdAemhxqi"
      },
      "source": [
        "![](https://habrastorage.org/web/ad8/366/a44/ad8366a4469346c6b2e1306495b05d1a.jpg)"
      ]
    }
  ]
}