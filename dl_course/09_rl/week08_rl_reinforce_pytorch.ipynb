{
  "nbformat": 4,
  "nbformat_minor": 0,
  "metadata": {
    "kernelspec": {
      "display_name": "Python 3",
      "language": "python",
      "name": "python3"
    },
    "language_info": {
      "codemirror_mode": {
        "name": "ipython",
        "version": 3
      },
      "file_extension": ".py",
      "mimetype": "text/x-python",
      "name": "python",
      "nbconvert_exporter": "python",
      "pygments_lexer": "ipython3",
      "version": "3.6.0"
    },
    "colab": {
      "name": "week08_rl_reinforce_pytorch.ipynb",
      "provenance": []
    }
  },
  "cells": [
    {
      "cell_type": "markdown",
      "metadata": {
        "id": "oU6v5KrmH9aZ"
      },
      "source": [
        "# REINFORCE in pytorch\n",
        "\n",
        "Just like we did before for q-learning, this time we'll design a pytorch network to learn `CartPole-v0` via policy gradient (REINFORCE).\n",
        "\n",
        "Most of the code in this notebook is taken from approximate qlearning, so you'll find it more or less familiar and even simpler."
      ]
    },
    {
      "cell_type": "code",
      "metadata": {
        "colab": {
          "base_uri": "https://localhost:8080/"
        },
        "id": "RJ25uSATH9aj",
        "outputId": "e0d0a360-716d-4851-c862-3a122bf98b81"
      },
      "source": [
        "# # in google colab uncomment this\n",
        "\n",
        "import os\n",
        "\n",
        "os.system('apt-get install -y xvfb')\n",
        "os.system('wget https://raw.githubusercontent.com/yandexdataschool/Practical_DL/fall18/xvfb -O ../xvfb')\n",
        "os.system('apt-get install -y python-opengl ffmpeg')\n",
        "# os.system('pip install pyglet==1.2.4')\n",
        "\n",
        "os.system('python -m pip install -U pygame --user')\n",
        "\n",
        "print('setup complete')\n",
        "\n",
        "# XVFB will be launched if you run on a server\n",
        "import os\n",
        "if type(os.environ.get(\"DISPLAY\")) is not str or len(os.environ.get(\"DISPLAY\")) == 0:\n",
        "    !bash ../xvfb start\n",
        "    os.environ['DISPLAY'] = ':1'"
      ],
      "execution_count": 1,
      "outputs": [
        {
          "output_type": "stream",
          "text": [
            "setup complete\n",
            "Starting virtual X frame buffer: Xvfb.\n"
          ],
          "name": "stdout"
        }
      ]
    },
    {
      "cell_type": "code",
      "metadata": {
        "colab": {
          "base_uri": "https://localhost:8080/",
          "height": 286
        },
        "id": "vH_KdWqIH9al",
        "outputId": "86dd5d99-c07d-4e34-9b22-886e1d99114a"
      },
      "source": [
        "import gym\n",
        "import numpy as np\n",
        "import pandas as pd\n",
        "import matplotlib.pyplot as plt\n",
        "%matplotlib inline\n",
        "\n",
        "env = gym.make(\"CartPole-v0\").env\n",
        "env.reset()\n",
        "\n",
        "plt.imshow(env.render(\"rgb_array\"))"
      ],
      "execution_count": 2,
      "outputs": [
        {
          "output_type": "execute_result",
          "data": {
            "text/plain": [
              "<matplotlib.image.AxesImage at 0x7f53f0a17790>"
            ]
          },
          "metadata": {
            "tags": []
          },
          "execution_count": 2
        },
        {
          "output_type": "display_data",
          "data": {
            "image/png": "[encoded data removed]",
            "text/plain": [
              "<Figure size 432x288 with 1 Axes>"
            ]
          },
          "metadata": {
            "tags": [],
            "needs_background": "light"
          }
        }
      ]
    },
    {
      "cell_type": "markdown",
      "metadata": {
        "id": "iPWR0LzWH9al"
      },
      "source": [
        "# Building the network for REINFORCE"
      ]
    },
    {
      "cell_type": "markdown",
      "metadata": {
        "id": "-Cz-WWBAH9am"
      },
      "source": [
        "For REINFORCE algorithm, we'll need a model that predicts action probabilities given states. Let's define such a model below."
      ]
    },
    {
      "cell_type": "code",
      "metadata": {
        "collapsed": true,
        "id": "LIywV3_RH9am"
      },
      "source": [
        "import torch\n",
        "import torch.nn as nn\n",
        "from torch.autograd import Variable"
      ],
      "execution_count": 9,
      "outputs": []
    },
    {
      "cell_type": "code",
      "metadata": {
        "id": "LHoX0LpvrlU3"
      },
      "source": [
        "state_dimensions = env.observation_space.shape[0]\n",
        "n_actions = env.action_space.n"
      ],
      "execution_count": 5,
      "outputs": []
    },
    {
      "cell_type": "code",
      "metadata": {
        "collapsed": true,
        "id": "ysOXt6_EH9an"
      },
      "source": [
        "# Build a simple neural network that predicts policy logits. \n",
        "# Keep it simple: CartPole isn't worth deep architectures.\n",
        "model = nn.Sequential(\n",
        "  #< YOUR CODE HERE: define a neural network that predicts policy logits >\n",
        "  nn.Linear(state_dimensions, 200),\n",
        "  nn.ReLU(inplace = True),\n",
        "  nn.Linear(200, n_actions)\n",
        ")"
      ],
      "execution_count": 6,
      "outputs": []
    },
    {
      "cell_type": "markdown",
      "metadata": {
        "id": "E643hButH9an"
      },
      "source": [
        "#### Predict function"
      ]
    },
    {
      "cell_type": "code",
      "metadata": {
        "collapsed": true,
        "id": "h2r_YI8OH9ao"
      },
      "source": [
        "def predict_probs(states):\n",
        "    \"\"\" \n",
        "    Predict action probabilities given states.\n",
        "    :param states: numpy array of shape [batch, state_shape]\n",
        "    :returns: numpy array of shape [batch, n_actions]\n",
        "    \"\"\"\n",
        "    # convert states, compute logits, use softmax to get probability\n",
        "    states = Variable(torch.FloatTensor(states))\n",
        "    probabilities = nn.functional.softmax(model.forward(states), dim = 1)\n",
        "    return probabilities.data.numpy()"
      ],
      "execution_count": 10,
      "outputs": []
    },
    {
      "cell_type": "code",
      "metadata": {
        "id": "zz_JRv4IH9ao"
      },
      "source": [
        "test_states = np.array([env.reset() for _ in range(5)])\n",
        "test_probas = predict_probs(test_states)\n",
        "assert isinstance(\n",
        "    test_probas, np.ndarray), \"you must return np array and not %s\" % type(test_probas)\n",
        "assert tuple(test_probas.shape) == (\n",
        "    test_states.shape[0], env.action_space.n), \"wrong output shape: %s\" % np.shape(test_probas)\n",
        "assert np.allclose(np.sum(test_probas, axis=1),\n",
        "                   1), \"probabilities do not sum to 1\""
      ],
      "execution_count": 11,
      "outputs": []
    },
    {
      "cell_type": "markdown",
      "metadata": {
        "id": "L8KYOZmzH9ao"
      },
      "source": [
        "### Play the game\n",
        "\n",
        "We can now use our newly built agent to play the game."
      ]
    },
    {
      "cell_type": "code",
      "metadata": {
        "collapsed": true,
        "id": "rzrY1qFfH9ap"
      },
      "source": [
        "def generate_session(t_max=1000):\n",
        "    \"\"\" \n",
        "    play a full session with REINFORCE agent and train at the session end.\n",
        "    returns sequences of states, actions andrewards\n",
        "    \"\"\"\n",
        "    # arrays to record session\n",
        "    states, actions, rewards = [], [], []\n",
        "    s = env.reset()\n",
        "\n",
        "    for t in range(t_max):\n",
        "        # action probabilities array aka pi(a|s)\n",
        "        action_probabilities = predict_probs(np.array([s]))[0]\n",
        "\n",
        "        # Sample action with given probabilities.\n",
        "        #a = < your code >\n",
        "        a = np.random.choice(n_actions, p=action_probabilities)\n",
        "        new_s, r, done, info = env.step(a)\n",
        "\n",
        "        # record session history to train later\n",
        "        states.append(s)\n",
        "        actions.append(a)\n",
        "        rewards.append(r)\n",
        "\n",
        "        s = new_s\n",
        "        if done:\n",
        "            break\n",
        "\n",
        "    return states, actions, rewards"
      ],
      "execution_count": 12,
      "outputs": []
    },
    {
      "cell_type": "code",
      "metadata": {
        "collapsed": true,
        "id": "H7-uzDkDH9ap"
      },
      "source": [
        "# test it\n",
        "states, actions, rewards = generate_session()"
      ],
      "execution_count": 13,
      "outputs": []
    },
    {
      "cell_type": "markdown",
      "metadata": {
        "id": "pScpkzwCH9aq"
      },
      "source": [
        "### Computing cumulative rewards"
      ]
    },
    {
      "cell_type": "code",
      "metadata": {
        "id": "6whrmtilH9aq"
      },
      "source": [
        "def get_cumulative_rewards(rewards,  # rewards at each step\n",
        "                           gamma=0.99  # discount for reward\n",
        "                           ):\n",
        "    \"\"\"\n",
        "    take a list of immediate rewards r(s,a) for the whole session \n",
        "    compute cumulative returns (a.k.a. G(s,a) in Sutton '16)\n",
        "    G_t = r_t + gamma*r_{t+1} + gamma^2*r_{t+2} + ...\n",
        "\n",
        "    The simple way to compute cumulative rewards is to iterate from last to first time tick\n",
        "    and compute G_t = r_t + gamma*G_{t+1} recurrently\n",
        "\n",
        "    You must return an array/list of cumulative rewards with as many elements as in the initial rewards.\n",
        "    \"\"\"\n",
        "    # <your code here >\n",
        "    # return < array of cumulative rewards >\n",
        "    cumulative_rewards = []\n",
        "    prev = 0.\n",
        "    for r in reversed(rewards):\n",
        "        prev = r + (gamma * prev)\n",
        "        cumulative_rewards.append(prev)\n",
        "    cumulative_rewards.reverse()\n",
        "    \n",
        "    return cumulative_rewards"
      ],
      "execution_count": 14,
      "outputs": []
    },
    {
      "cell_type": "code",
      "metadata": {
        "id": "2GWuIBNKH9ar",
        "colab": {
          "base_uri": "https://localhost:8080/"
        },
        "outputId": "4d70a534-a418-4f7d-9527-43375c599035"
      },
      "source": [
        "get_cumulative_rewards(rewards)\n",
        "assert len(get_cumulative_rewards(list(range(100)))) == 100\n",
        "assert np.allclose(get_cumulative_rewards([0, 0, 1, 0, 0, 1, 0], gamma=0.9), [\n",
        "                   1.40049, 1.5561, 1.729, 0.81, 0.9, 1.0, 0.0])\n",
        "assert np.allclose(get_cumulative_rewards(\n",
        "    [0, 0, 1, -2, 3, -4, 0], gamma=0.5), [0.0625, 0.125, 0.25, -1.5, 1.0, -4.0, 0.0])\n",
        "assert np.allclose(get_cumulative_rewards(\n",
        "    [0, 0, 1, 2, 3, 4, 0], gamma=0), [0, 0, 1, 2, 3, 4, 0])\n",
        "print(\"looks good!\")"
      ],
      "execution_count": 15,
      "outputs": [
        {
          "output_type": "stream",
          "text": [
            "looks good!\n"
          ],
          "name": "stdout"
        }
      ]
    },
    {
      "cell_type": "markdown",
      "metadata": {
        "id": "gvD_Et90H9at"
      },
      "source": [
        "#### Loss function and updates\n",
        "\n",
        "We now need to define objective and update over policy gradient.\n",
        "\n",
        "Our objective function is\n",
        "\n",
        "$$ J \\approx  { 1 \\over N } \\sum  _{s_i,a_i} \\pi_\\theta (a_i | s_i) \\cdot G(s_i,a_i) $$\n",
        "\n",
        "\n",
        "Following the REINFORCE algorithm, we can define our objective as follows: \n",
        "\n",
        "$$ \\hat J \\approx { 1 \\over N } \\sum  _{s_i,a_i} log \\pi_\\theta (a_i | s_i) \\cdot G(s_i,a_i) $$\n",
        "\n",
        "When you compute gradient of that function over network weights $ \\theta $, it will become exactly the policy gradient.\n"
      ]
    },
    {
      "cell_type": "code",
      "metadata": {
        "collapsed": true,
        "id": "h_mxFdVAH9av"
      },
      "source": [
        "def to_one_hot(y_tensor, ndims):\n",
        "    \"\"\" helper: take an integer vector and convert it to 1-hot matrix. \"\"\"\n",
        "    y_tensor = y_tensor.type(torch.LongTensor).view(-1, 1)\n",
        "    y_one_hot = torch.zeros(\n",
        "        y_tensor.size()[0], ndims).scatter_(1, y_tensor, 1)\n",
        "    return y_one_hot"
      ],
      "execution_count": 16,
      "outputs": []
    },
    {
      "cell_type": "code",
      "metadata": {
        "collapsed": true,
        "id": "f7kHtYZrH9aw"
      },
      "source": [
        "# Your code: define optimizers\n",
        "optimizer = torch.optim.Adam(model.parameters(), 1e-3)\n",
        "\n",
        "\n",
        "def train_on_session(states, actions, rewards, gamma=0.99, entropy_coef=1e-2):\n",
        "    \"\"\"\n",
        "    Takes a sequence of states, actions and rewards produced by generate_session.\n",
        "    Updates agent's weights by following the policy gradient above.\n",
        "    Please use Adam optimizer with default parameters.\n",
        "    \"\"\"\n",
        "\n",
        "    # cast everything into torch tensors\n",
        "    states = torch.tensor(states, dtype=torch.float32)\n",
        "    actions = torch.tensor(actions, dtype=torch.int32)\n",
        "    cumulative_returns = np.array(get_cumulative_rewards(rewards, gamma))\n",
        "    cumulative_returns = torch.tensor(cumulative_returns, dtype=torch.float32)\n",
        "\n",
        "    # predict logits, probas and log-probas using an agent.\n",
        "    logits = model(states)\n",
        "    probs = nn.functional.softmax(logits, -1)\n",
        "    log_probs = nn.functional.log_softmax(logits, -1)\n",
        "\n",
        "    assert all(isinstance(v, torch.Tensor) for v in [logits, probs, log_probs]), \\\n",
        "        \"please use compute using torch tensors and don't use predict_probs function\"\n",
        "\n",
        "    # select log-probabilities for chosen actions, log pi(a_i|s_i)\n",
        "    log_probs_for_actions = torch.sum(\n",
        "        log_probs * to_one_hot(actions, env.action_space.n), dim=1)\n",
        "   \n",
        "    # Compute loss here. Don't forgen entropy regularization with `entropy_coef` \n",
        "    # entropy = < your code >\n",
        "    # loss = < your code\n",
        "    J = torch.mean(log_probs_for_actions *cumulative_returns)\n",
        "\n",
        "\n",
        "    entropy = -(probs*log_probs).sum(-1).mean()\n",
        "\n",
        "    loss = - J - entropy_coef * entropy   \n",
        "\n",
        "    # Gradient descent step\n",
        "    # < your code >\n",
        "    loss.backward()\n",
        "    \n",
        "    optimizer.step()\n",
        "    optimizer.zero_grad()\n",
        "\n",
        "    # technical: return session rewards to print them later\n",
        "    return np.sum(rewards)"
      ],
      "execution_count": 17,
      "outputs": []
    },
    {
      "cell_type": "markdown",
      "metadata": {
        "id": "C9VQAhT7H9ax"
      },
      "source": [
        "### The actual training"
      ]
    },
    {
      "cell_type": "code",
      "metadata": {
        "scrolled": true,
        "id": "gDDdrh9iH9ax",
        "colab": {
          "base_uri": "https://localhost:8080/"
        },
        "outputId": "e1e31de8-8d1c-4f7e-b992-c9c8cb096491"
      },
      "source": [
        "for i in range(100):\n",
        "    rewards = [train_on_session(*generate_session())\n",
        "               for _ in range(100)]  # generate new sessions\n",
        "    print(\"mean reward:%.3f\" % (np.mean(rewards)))\n",
        "    if np.mean(rewards) > 500:\n",
        "        print(\"You Win!\")  # but you can train even further\n",
        "        break"
      ],
      "execution_count": 18,
      "outputs": [
        {
          "output_type": "stream",
          "text": [
            "mean reward:33.350\n",
            "mean reward:47.760\n",
            "mean reward:74.100\n",
            "mean reward:148.280\n",
            "mean reward:221.190\n",
            "mean reward:224.030\n",
            "mean reward:243.240\n",
            "mean reward:365.630\n",
            "mean reward:150.620\n",
            "mean reward:168.690\n",
            "mean reward:116.900\n",
            "mean reward:244.740\n",
            "mean reward:230.930\n",
            "mean reward:404.810\n",
            "mean reward:218.480\n",
            "mean reward:330.430\n",
            "mean reward:541.530\n",
            "You Win!\n"
          ],
          "name": "stdout"
        }
      ]
    },
    {
      "cell_type": "markdown",
      "metadata": {
        "id": "9frv1mt3H9ay"
      },
      "source": [
        "### Video"
      ]
    },
    {
      "cell_type": "code",
      "metadata": {
        "id": "KQBmFtIQH9ay"
      },
      "source": [
        "# record sessions\n",
        "import gym.wrappers\n",
        "env = gym.wrappers.Monitor(gym.make(\"CartPole-v0\"),\n",
        "                           directory=\"videos\", force=True)\n",
        "sessions = [generate_session() for _ in range(100)]\n",
        "env.close()"
      ],
      "execution_count": 19,
      "outputs": []
    },
    {
      "cell_type": "code",
      "metadata": {
        "id": "Tomu_cYjH9az",
        "colab": {
          "base_uri": "https://localhost:8080/",
          "height": 448
        },
        "outputId": "af933d52-78a9-4d1a-e5f3-0f9c742ca6b8"
      },
      "source": [
        "# show video\n",
        "import io\n",
        "import base64\n",
        "from IPython.display import HTML\n",
        "\n",
        "video_names = list(\n",
        "    filter(lambda s: s.endswith(\".mp4\"), os.listdir(\"./videos/\")))\n",
        "\n",
        "video = io.open(\"./videos/\"+video_names[-1], 'r+b').read()\n",
        "encoded = base64.b64encode(video)\n",
        "HTML(data='''\n",
        "    <video width=\"640\" height=\"auto\" alt=\"test\" controls><source src=\"data:video/mp4;base64,{0}\" type=\"video/mp4\" /></video>'''\n",
        ".format(encoded.decode('ascii')))"
      ],
      "execution_count": 20,
      "outputs": [
        {
          "output_type": "execute_result",
          "data": {
            "text/html": [
              "\n",
              "    <video width=\"640\" height=\"auto\" alt=\"test\" controls><source src=\"data:video/mp4;base64,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\" type=\"video/mp4\" /></video>"
            ],
            "text/plain": [
              "<IPython.core.display.HTML object>"
            ]
          },
          "metadata": {
            "tags": []
          },
          "execution_count": 20
        }
      ]
    },
    {
      "cell_type": "code",
      "metadata": {
        "id": "mGAoKP6JH9az",
        "colab": {
          "resources": {
            "http://localhost:8080/videos/openaigym.video.0.58.video000027.mp4": {
              "data": "CjwhRE9DVFlQRSBodG1sPgo8aHRtbCBsYW5nPWVuPgogIDxtZXRhIGNoYXJzZXQ9dXRmLTg+CiAgPG1ldGEgbmFtZT12aWV3cG9ydCBjb250ZW50PSJpbml0aWFsLXNjYWxlPTEsIG1pbmltdW0tc2NhbGU9MSwgd2lkdGg9ZGV2aWNlLXdpZHRoIj4KICA8dGl0bGU+RXJyb3IgNDA0IChOb3QgRm91bmQpISExPC90aXRsZT4KICA8c3R5bGU+CiAgICAqe21hcmdpbjowO3BhZGRpbmc6MH1odG1sLGNvZGV7Zm9udDoxNXB4LzIycHggYXJpYWwsc2Fucy1zZXJpZn1odG1se2JhY2tncm91bmQ6I2ZmZjtjb2xvcjojMjIyO3BhZGRpbmc6MTVweH1ib2R5e21hcmdpbjo3JSBhdXRvIDA7bWF4LXdpZHRoOjM5MHB4O21pbi1oZWlnaHQ6MTgwcHg7cGFkZGluZzozMHB4IDAgMTVweH0qID4gYm9keXtiYWNrZ3JvdW5kOnVybCgvL3d3dy5nb29nbGUuY29tL2ltYWdlcy9lcnJvcnMvcm9ib3QucG5nKSAxMDAlIDVweCBuby1yZXBlYXQ7cGFkZGluZy1yaWdodDoyMDVweH1we21hcmdpbjoxMXB4IDAgMjJweDtvdmVyZmxvdzpoaWRkZW59aW5ze2NvbG9yOiM3Nzc7dGV4dC1kZWNvcmF0aW9uOm5vbmV9YSBpbWd7Ym9yZGVyOjB9QG1lZGlhIHNjcmVlbiBhbmQgKG1heC13aWR0aDo3NzJweCl7Ym9keXtiYWNrZ3JvdW5kOm5vbmU7bWFyZ2luLXRvcDowO21heC13aWR0aDpub25lO3BhZGRpbmctcmlnaHQ6MH19I2xvZ297YmFja2dyb3VuZDp1cmwoLy93d3cuZ29vZ2xlLmNvbS9pbWFnZXMvbG9nb3MvZXJyb3JwYWdlL2Vycm9yX2xvZ28tMTUweDU0LnBuZykgbm8tcmVwZWF0O21hcmdpbi1sZWZ0Oi01cHh9QG1lZGlhIG9ubHkgc2NyZWVuIGFuZCAobWluLXJlc29sdXRpb246MTkyZHBpKXsjbG9nb3tiYWNrZ3JvdW5kOnVybCgvL3d3dy5nb29nbGUuY29tL2ltYWdlcy9sb2dvcy9lcnJvcnBhZ2UvZXJyb3JfbG9nby0xNTB4NTQtMngucG5nKSBuby1yZXBlYXQgMCUgMCUvMTAwJSAxMDAlOy1tb3otYm9yZGVyLWltYWdlOnVybCgvL3d3dy5nb29nbGUuY29tL2ltYWdlcy9sb2dvcy9lcnJvcnBhZ2UvZXJyb3JfbG9nby0xNTB4NTQtMngucG5nKSAwfX1AbWVkaWEgb25seSBzY3JlZW4gYW5kICgtd2Via2l0LW1pbi1kZXZpY2UtcGl4ZWwtcmF0aW86Mil7I2xvZ297YmFja2dyb3VuZDp1cmwoLy93d3cuZ29vZ2xlLmNvbS9pbWFnZXMvbG9nb3MvZXJyb3JwYWdlL2Vycm9yX2xvZ28tMTUweDU0LTJ4LnBuZykgbm8tcmVwZWF0Oy13ZWJraXQtYmFja2dyb3VuZC1zaXplOjEwMCUgMTAwJX19I2xvZ297ZGlzcGxheTppbmxpbmUtYmxvY2s7aGVpZ2h0OjU0cHg7d2lkdGg6MTUwcHh9CiAgPC9zdHlsZT4KICA8YSBocmVmPS8vd3d3Lmdvb2dsZS5jb20vPjxzcGFuIGlkPWxvZ28gYXJpYS1sYWJlbD1Hb29nbGU+PC9zcGFuPjwvYT4KICA8cD48Yj40MDQuPC9iPiA8aW5zPlRoYXTigJlzIGFuIGVycm9yLjwvaW5zPgogIDxwPiAgPGlucz5UaGF04oCZcyBhbGwgd2Uga25vdy48L2lucz4K",
              "ok": false,
              "headers": [
                [
                  "content-length",
                  "1449"
                ],
                [
                  "content-type",
                  "text/html; charset=utf-8"
                ]
              ],
              "status": 404,
              "status_text": ""
            }
          },
          "base_uri": "https://localhost:8080/",
          "height": 501
        },
        "outputId": "461534f6-7d43-4fe4-bc2b-984800b4ed16"
      },
      "source": [
        "# show video \n",
        "from IPython.display import HTML\n",
        "import os\n",
        "\n",
        "video_names = list(\n",
        "    filter(lambda s: s.endswith(\".mp4\"), os.listdir(\"./videos/\")))\n",
        "\n",
        "HTML(\"\"\"\n",
        "<video width=\"640\" height=\"480\" controls>\n",
        "  <source src=\"{}\" type=\"video/mp4\">\n",
        "</video>\n",
        "\"\"\".format(\"./videos/\"+video_names[-1]))  # this may or may not be the _last_ video. Try other indices"
      ],
      "execution_count": 21,
      "outputs": [
        {
          "output_type": "execute_result",
          "data": {
            "text/html": [
              "\n",
              "<video width=\"640\" height=\"480\" controls>\n",
              "  <source src=\"./videos/openaigym.video.0.58.video000027.mp4\" type=\"video/mp4\">\n",
              "</video>\n"
            ],
            "text/plain": [
              "<IPython.core.display.HTML object>"
            ]
          },
          "metadata": {
            "tags": []
          },
          "execution_count": 21
        }
      ]
    },
    {
      "cell_type": "code",
      "metadata": {
        "collapsed": true,
        "id": "85qs4dL9H9a0"
      },
      "source": [
        ""
      ],
      "execution_count": null,
      "outputs": []
    }
  ]
}